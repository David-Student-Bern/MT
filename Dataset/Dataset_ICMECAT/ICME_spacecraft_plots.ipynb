{
 "cells": [
  {
   "cell_type": "code",
   "execution_count": 2,
   "id": "2047181b",
   "metadata": {},
   "outputs": [],
   "source": [
    "import pandas as pd\n",
    "\n",
    "# import the data\n",
    "df_Wind = pd.read_csv('helio4cast_icmecat.csv')\n",
    "\n",
    "# don't need to do this as it is already in the correct format\n",
    "# df_Wind['sc_time'] = pd.to_datetime(df_Wind['sc_time'])"
   ]
  },
  {
   "cell_type": "code",
   "execution_count": 3,
   "id": "479bf368",
   "metadata": {},
   "outputs": [],
   "source": [
    "# create a 3d plot template\n",
    "import plotly.express as px\n",
    "import plotly.graph_objects as go\n",
    "import numpy as np\n",
    "\n",
    "def GSE_sc_plot(plot_df, plot_title):\n",
    "\n",
    "    # Convert datetime to float for linear scaling (days since epoch)\n",
    "    event_time_dt = pd.DatetimeIndex(plot_df['sc_time']) #------------------------------\n",
    "    event_time_numeric = (event_time_dt - pd.Timestamp(\"1970-01-01\")) / pd.Timedelta(days=1)\n",
    "\n",
    "    # Also create string labels for hover\n",
    "    event_dates_str = event_time_dt.strftime('%Y-%m-%d')\n",
    "\n",
    "    # Spherical to Cartesian\n",
    "    x = plot_df['mo_sc_GSE_x'] #------------------------------\n",
    "    y = plot_df['mo_sc_GSE_y'] #------------------------------\n",
    "    z = plot_df['mo_sc_GSE_z'] #------------------------------\n",
    "\n",
    "    ## Create DataFrame\n",
    "    df = pd.DataFrame({\n",
    "        'x': x,\n",
    "        'y': y,\n",
    "        'z': z,\n",
    "        'Event Time Numeric': event_time_numeric,\n",
    "        'Event Time Label': event_dates_str,\n",
    "        'Event Time': event_time_dt\n",
    "    })\n",
    "\n",
    "\n",
    "    # Main scatter plot with linear color mapping\n",
    "    fig = px.scatter_3d(\n",
    "        df,\n",
    "        x='x', y='y', z='z',\n",
    "        color='Event Time Numeric',  # linear numeric scale\n",
    "        color_continuous_scale='Viridis',\n",
    "        title=plot_title,\n",
    "        labels={\n",
    "            'X': 'X []',\n",
    "            'Y': 'Y []',\n",
    "            'Z': 'Z []',\n",
    "            'Event Time Numeric': 'Event Time'\n",
    "        },\n",
    "        hover_name='Event Time Label',\n",
    "        hover_data={'Event Time Numeric': False},\n",
    "        width=800,  # Set figure width\n",
    "        height=600  # Set figure height\n",
    "    )\n",
    "\n",
    "    fig.update_traces(marker=dict(size=4, opacity=0.4))\n",
    "\n",
    "    # Earth marker (larger, blue)\n",
    "    fig.add_trace(go.Scatter3d(\n",
    "        x=[0], y=[0], z=[0],\n",
    "        mode='markers+text',\n",
    "        marker=dict(size=10, color='blue', line=dict(color='black', width=2)),\n",
    "        text=['Earth'],\n",
    "        textposition='top center',\n",
    "        name='Earth',\n",
    "        hoverinfo='text'\n",
    "    ))\n",
    "\n",
    "    # Manually set colorbar ticks to formatted dates\n",
    "    tick_vals = np.linspace(event_time_numeric.min(), event_time_numeric.max(), 5)\n",
    "    tick_text = [pd.to_datetime(int(val), origin='unix', unit='D').strftime('%Y-%m') for val in tick_vals]\n",
    "\n",
    "    fig.update_layout(coloraxis_colorbar=dict(\n",
    "        title='Event Time',\n",
    "        tickvals=tick_vals,\n",
    "        ticktext=tick_text\n",
    "    ))\n",
    "\n",
    "    # L1 marker (smaller, red)\n",
    "    fig.add_trace(go.Scatter3d(\n",
    "        x=[238], y=[0], z=[0],\n",
    "        mode='markers+text',\n",
    "        marker=dict(size=5, color='red', line=dict(color='black', width=1)),\n",
    "        text=['L1'],\n",
    "        textposition='top center',\n",
    "        name='L1',\n",
    "        hoverinfo='text'\n",
    "    ))\n",
    "\n",
    "    # Customize layout\n",
    "    fig.update_traces(marker=dict(opacity=0.8))\n",
    "    fig.update_layout(\n",
    "        scene=dict(\n",
    "            xaxis=dict(title='X: [Earth radii]', range=[np.min(x), np.max(x)]),\n",
    "            yaxis=dict(title='Y: [Earth radii]', range=[np.min(y), np.max(y)]),\n",
    "            zaxis=dict(title='Z: [Earth radii]', range=[np.min(z), np.max(z)])\n",
    "        ),\n",
    "        legend=dict(x=0.8, y=0.9),\n",
    "        margin=dict(l=0, r=0, b=0, t=50)\n",
    "    )\n",
    "\n",
    "    fig.show()"
   ]
  },
  {
   "cell_type": "code",
   "execution_count": 4,
   "id": "b6dc16c8",
   "metadata": {},
   "outputs": [
    {
     "data": {
      "application/vnd.plotly.v1+json": {
       "config": {
        "plotlyServerURL": "https://plot.ly"
       },
       "data": [
        {
         "customdata": {
          "bdata": "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",
          "dtype": "f8",
          "shape": "533, 1"
         },
         "hovertemplate": "<b>%{hovertext}</b><br><br>x=%{x}<br>y=%{y}<br>z=%{z}<extra></extra>",
         "hovertext": [
          "2024-12-17",
          "2024-12-07",
          "2024-11-29",
          "2024-11-14",
          "2024-11-09",
          "2024-11-08",
          "2024-11-08",
          "2024-10-26",
          "2024-10-10",
          "2024-10-07",
          "2024-10-07",
          "2024-10-06",
          "2024-09-17",
          "2024-09-12",
          "2024-09-12",
          "2024-08-31",
          "2024-08-27",
          "2024-08-17",
          "2024-08-12",
          "2024-08-04",
          "2024-08-04",
          "2024-07-24",
          "2024-07-21",
          "2024-07-15",
          "2024-06-15",
          "2024-06-06",
          "2024-05-31",
          "2024-05-30",
          "2024-05-29",
          "2024-05-29",
          "2024-05-17",
          "2024-05-16",
          "2024-05-11",
          "2024-05-11",
          "2024-05-11",
          "2024-05-10",
          "2024-05-10",
          "2024-05-01",
          "2024-04-16",
          "2024-04-08",
          "2024-04-04",
          "2024-03-30",
          "2024-03-24",
          "2024-03-21",
          "2024-03-03",
          "2024-02-25",
          "2024-01-03",
          "2024-01-03",
          "2023-12-29",
          "2023-12-17",
          "2023-12-15",
          "2023-12-04",
          "2023-12-01",
          "2023-12-01",
          "2023-11-14",
          "2023-11-12",
          "2023-11-05",
          "2023-11-05",
          "2023-11-04",
          "2023-10-20",
          "2023-09-28",
          "2023-09-25",
          "2023-09-19",
          "2023-09-18",
          "2023-09-12",
          "2023-08-05",
          "2023-08-02",
          "2023-06-04",
          "2023-05-13",
          "2023-05-12",
          "2023-04-24",
          "2023-04-19",
          "2023-03-23",
          "2023-03-15",
          "2023-02-21",
          "2023-02-20",
          "2023-02-01",
          "2023-01-17",
          "2023-01-04",
          "2023-01-04",
          "2022-12-19",
          "2022-11-19",
          "2022-11-07",
          "2022-10-21",
          "2022-09-30",
          "2022-09-14",
          "2022-07-19",
          "2022-07-08",
          "2022-07-07",
          "2022-07-02",
          "2022-06-25",
          "2022-06-06",
          "2022-04-14",
          "2022-04-13",
          "2022-04-09",
          "2022-04-08",
          "2022-03-31",
          "2022-03-13",
          "2022-03-10",
          "2022-02-11",
          "2022-02-10",
          "2022-02-04",
          "2022-02-02",
          "2021-12-27",
          "2021-11-28",
          "2021-11-04",
          "2021-10-31",
          "2021-10-17",
          "2021-10-16",
          "2021-10-12",
          "2021-10-06",
          "2021-10-01",
          "2021-09-27",
          "2021-09-17",
          "2021-09-10",
          "2021-09-10",
          "2021-08-27",
          "2021-08-06",
          "2021-08-03",
          "2021-07-14",
          "2021-07-09",
          "2021-07-05",
          "2021-06-11",
          "2021-05-26",
          "2021-05-12",
          "2021-05-02",
          "2021-04-30",
          "2021-04-25",
          "2021-04-15",
          "2021-04-05",
          "2021-03-26",
          "2021-03-11",
          "2021-02-24",
          "2021-02-16",
          "2020-11-01",
          "2020-10-05",
          "2020-07-24",
          "2020-07-13",
          "2020-06-30",
          "2020-06-26",
          "2020-05-30",
          "2020-04-20",
          "2020-02-18",
          "2020-01-04",
          "2019-11-11",
          "2019-10-29",
          "2019-08-20",
          "2019-05-27",
          "2019-05-14",
          "2019-05-11",
          "2018-09-07",
          "2018-08-25",
          "2018-08-11",
          "2018-07-16",
          "2018-07-10",
          "2018-06-06",
          "2018-03-09",
          "2018-01-19",
          "2017-12-25",
          "2017-11-15",
          "2017-11-14",
          "2017-09-08",
          "2017-09-07",
          "2017-07-16",
          "2017-05-27",
          "2017-04-14",
          "2017-04-09",
          "2017-04-04",
          "2016-10-13",
          "2016-09-14",
          "2016-08-02",
          "2016-07-24",
          "2016-07-20",
          "2016-04-17",
          "2016-04-16",
          "2016-04-14",
          "2016-01-19",
          "2015-12-31",
          "2015-12-20",
          "2015-11-07",
          "2015-10-25",
          "2015-10-06",
          "2015-09-07",
          "2015-06-23",
          "2015-05-10",
          "2015-05-08",
          "2015-05-06",
          "2015-04-09",
          "2015-03-31",
          "2015-03-28",
          "2015-01-07",
          "2014-09-12",
          "2014-08-27",
          "2014-08-19",
          "2014-07-03",
          "2014-06-29",
          "2014-06-22",
          "2014-06-08",
          "2014-04-29",
          "2014-04-21",
          "2014-04-11",
          "2014-04-05",
          "2014-02-19",
          "2014-02-18",
          "2014-02-16",
          "2014-02-06",
          "2013-12-25",
          "2013-12-15",
          "2013-12-08",
          "2013-12-01",
          "2013-11-23",
          "2013-11-08",
          "2013-10-30",
          "2013-10-03",
          "2013-10-02",
          "2013-09-01",
          "2013-07-12",
          "2013-07-05",
          "2013-06-28",
          "2013-06-06",
          "2013-05-14",
          "2013-04-30",
          "2013-04-14",
          "2013-03-17",
          "2013-01-19",
          "2013-01-19",
          "2013-01-17",
          "2012-11-24",
          "2012-11-13",
          "2012-10-31",
          "2012-10-12",
          "2012-10-08",
          "2012-09-30",
          "2012-09-12",
          "2012-09-06",
          "2012-09-05",
          "2012-09-01",
          "2012-08-30",
          "2012-08-18",
          "2012-08-12",
          "2012-07-15",
          "2012-07-08",
          "2012-06-16",
          "2012-06-11",
          "2012-05-16",
          "2012-05-04",
          "2012-04-23",
          "2012-04-11",
          "2012-04-05",
          "2012-03-15",
          "2012-03-12",
          "2012-03-08",
          "2012-02-27",
          "2012-02-14",
          "2012-01-25",
          "2012-01-22",
          "2012-01-21",
          "2011-11-29",
          "2011-11-11",
          "2011-11-07",
          "2011-11-04",
          "2011-11-02",
          "2011-11-01",
          "2011-10-25",
          "2011-10-05",
          "2011-09-17",
          "2011-09-09",
          "2011-07-03",
          "2011-06-30",
          "2011-06-17",
          "2011-06-05",
          "2011-05-28",
          "2011-04-29",
          "2011-04-23",
          "2011-03-29",
          "2011-02-18",
          "2011-02-18",
          "2011-02-04",
          "2011-01-24",
          "2010-12-19",
          "2010-10-31",
          "2010-10-30",
          "2010-10-11",
          "2010-09-25",
          "2010-09-15",
          "2010-08-04",
          "2010-06-21",
          "2010-05-28",
          "2010-05-18",
          "2010-04-11",
          "2010-04-05",
          "2010-03-23",
          "2010-02-07",
          "2010-01-02",
          "2009-12-12",
          "2009-11-14",
          "2009-11-01",
          "2009-10-29",
          "2009-09-30",
          "2009-09-10",
          "2009-07-21",
          "2009-06-27",
          "2009-06-03",
          "2009-04-22",
          "2009-04-05",
          "2009-03-12",
          "2009-02-04",
          "2009-01-26",
          "2009-01-02",
          "2008-12-17",
          "2008-12-04",
          "2008-09-17",
          "2008-09-03",
          "2008-05-23",
          "2007-12-25",
          "2007-11-20",
          "2007-06-08",
          "2007-05-21",
          "2007-03-29",
          "2007-01-15",
          "2007-01-14",
          "2006-12-17",
          "2006-12-14",
          "2006-11-29",
          "2006-11-18",
          "2006-11-01",
          "2006-09-30",
          "2006-08-30",
          "2006-08-20",
          "2006-07-10",
          "2006-06-14",
          "2006-04-14",
          "2006-04-13",
          "2006-02-05",
          "2005-10-31",
          "2005-08-10",
          "2005-07-17",
          "2005-07-10",
          "2005-06-15",
          "2005-06-12",
          "2005-05-20",
          "2005-05-15",
          "2005-02-20",
          "2005-02-18",
          "2005-02-16",
          "2005-01-21",
          "2005-01-19",
          "2005-01-16",
          "2005-01-08",
          "2005-01-07",
          "2004-12-10",
          "2004-11-12",
          "2004-11-09",
          "2004-11-07",
          "2004-09-18",
          "2004-09-14",
          "2004-08-29",
          "2004-07-27",
          "2004-07-25",
          "2004-07-24",
          "2004-07-22",
          "2004-04-04",
          "2004-01-10",
          "2003-11-20",
          "2003-10-31",
          "2003-10-29",
          "2003-10-22",
          "2003-08-05",
          "2003-06-17",
          "2003-05-09",
          "2003-03-20",
          "2003-02-02",
          "2003-01-27",
          "2002-12-21",
          "2002-11-17",
          "2002-09-30",
          "2002-09-03",
          "2002-08-26",
          "2002-08-19",
          "2002-08-02",
          "2002-08-01",
          "2002-05-23",
          "2002-05-20",
          "2002-05-19",
          "2002-05-11",
          "2002-05-10",
          "2002-04-24",
          "2002-04-20",
          "2002-04-17",
          "2002-04-14",
          "2002-03-24",
          "2002-03-19",
          "2002-02-28",
          "2001-12-30",
          "2001-12-30",
          "2001-11-24",
          "2001-10-31",
          "2001-10-29",
          "2001-10-22",
          "2001-09-30",
          "2001-09-29",
          "2001-09-26",
          "2001-08-17",
          "2001-08-06",
          "2001-06-27",
          "2001-05-28",
          "2001-04-28",
          "2001-04-22",
          "2001-04-13",
          "2001-04-11",
          "2001-04-04",
          "2001-03-27",
          "2001-03-20",
          "2001-03-19",
          "2001-03-04",
          "2001-01-24",
          "2000-12-03",
          "2000-11-27",
          "2000-11-11",
          "2000-11-10",
          "2000-11-06",
          "2000-10-28",
          "2000-10-13",
          "2000-10-05",
          "2000-10-03",
          "2000-09-18",
          "2000-09-07",
          "2000-09-04",
          "2000-09-02",
          "2000-08-12",
          "2000-08-10",
          "2000-07-31",
          "2000-07-28",
          "2000-07-19",
          "2000-07-15",
          "2000-07-15",
          "2000-07-13",
          "2000-07-11",
          "2000-07-01",
          "2000-06-24",
          "2000-06-08",
          "2000-05-07",
          "2000-03-28",
          "2000-03-01",
          "2000-02-21",
          "2000-02-14",
          "2000-02-12",
          "1999-12-12",
          "1999-10-21",
          "1999-09-22",
          "1999-09-21",
          "1999-09-15",
          "1999-08-09",
          "1999-08-06",
          "1999-07-31",
          "1999-07-06",
          "1999-07-03",
          "1999-06-26",
          "1999-05-28",
          "1999-04-16",
          "1999-02-18",
          "1999-02-11",
          "1999-01-22",
          "1998-11-09",
          "1998-11-08",
          "1998-10-23",
          "1998-10-19",
          "1998-09-25",
          "1998-09-23",
          "1998-08-26",
          "1998-08-20",
          "1998-08-10",
          "1998-07-10",
          "1998-06-24",
          "1998-06-13",
          "1998-06-02",
          "1998-05-04",
          "1998-05-02",
          "1998-04-08",
          "1998-04-01",
          "1998-03-31",
          "1998-03-25",
          "1998-03-06",
          "1998-03-04",
          "1998-02-18",
          "1998-02-17",
          "1998-02-04",
          "1998-02-02",
          "1998-01-29",
          "1998-01-21",
          "1998-01-09",
          "1998-01-08",
          "1998-01-07",
          "1997-12-30",
          "1997-12-10",
          "1997-11-22",
          "1997-11-07",
          "1997-10-10",
          "1997-10-01",
          "1997-09-21",
          "1997-09-18",
          "1997-09-03",
          "1997-08-17",
          "1997-08-03",
          "1997-07-15",
          "1997-06-19",
          "1997-06-09",
          "1997-05-26",
          "1997-05-16",
          "1997-05-15",
          "1997-04-21",
          "1997-04-11",
          "1997-02-10",
          "1997-01-10",
          "1996-12-24",
          "1996-08-07",
          "1996-07-02",
          "1996-07-01",
          "1996-05-27",
          "1996-05-17",
          "1996-04-04",
          "1996-02-15",
          "1995-12-16",
          "1995-10-18",
          "1995-09-27",
          "1995-08-22",
          "1995-06-30",
          "1995-05-13",
          "1995-04-05",
          "1995-04-03",
          "1995-03-06",
          "1995-03-04",
          "1995-02-08"
         ],
         "legendgroup": "",
         "marker": {
          "color": {
           "bdata": "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",
           "dtype": "f8"
          },
          "coloraxis": "coloraxis",
          "opacity": 0.8,
          "size": 4,
          "symbol": "circle"
         },
         "mode": "markers",
         "name": "",
         "scene": "scene",
         "showlegend": false,
         "type": "scatter3d",
         "x": {
          "bdata": "olE6LurBb0A7X20FIrVuQFRhxkyQn21Av4cPHgxTa0CoyKVnnMBqQMeY7+ENl2pA21q25GqcakAOz0NwqXxpQFSpfmqCxmhAgYqjFj22aEAaOJuHxMtoQLfx9nKQpmhA7CYKM1TdaEBuMLVf/09pQHo834ecO2lA26V+S8d2akAXsdTHQaZqQKZ0kS9pEmxARGksGTYDbUCWeASMlyJuQI10524iZm5APn+w1aCzb0CMUGpZmPtvQB9GQAjLRXBALnq4/S/+b0AgcMJ8+ANvQCvdoaze1W1A2xPgXSvgbUACizFQFt5tQDPLJwmsh21Ax9ML4FWba0ASRagA9ctrQKjc+Oax+mpAzOmpYJHkakBaCmdwVQhrQN7nB1HE6mpA91lP0KzVakA44plGi7VpQJGto2a2CGlAispSmbfsaECWWz0VK8VoQJEHFn+5uWhAk9c4OV1/aEBKle2hkJRoQIb3dcC0yWlAhH2yoAKdakB7jX9HWSNwQJmmLu7S+m9Ayb5gXyvcb0DG46hRz75uQIns+/GubG5AcWfmquqfbEAmwDHv9FNsQCa9EbuCTGxAXy2SNg8VakCN9hG2A+hpQLmmumNYKmlAe5BmOyNJaUCm17isXyVpQOjMpEPnyWhA3iVEFRztaEAEKq15fwlpQEZEmheSYGlAkASgHWKTaUC4t6/2REZqQEEWm0ZGd29AJbkomo3+b0B7PY/0TuNsQEbjr2L8FmpAWgzQaxnnaUB/+0OJgPhoQPvEPIy8DGlA2CcTHeBOaUCQQbZPx7FpQOH1klYpn2xAVL3iUjbubECk/8EozkBvQKQkyHkcKXBANzebzA+ob0CvsWcDHalvQKayZrgql21AjXenkR+3aUDM9vR1T4loQHq2yyxrhGhAZdWTs3RoaUALIEKqccBqQDUXHEB8e3BATiFydgk8cEDSRdr7Ix1wQIlikDPorW9AT1vPYW7AbkCl06riZeFrQFnm1j8msGhApMhsCoKpaEBSjP6cHARpQKZuCi4KF2lAb4A/hLuAaUAp6DTMz/ZqQJy1HmN6fGtA8CXVh/Izb0Di5AEUCFdvQMXF4d+uFHBAh9jDpCAYcEBKN14xWHJtQAGVJsZAdWlAMO3+aPOhaECMCiF7hI1oQKXRPALpyGhATV9kq1rKaEAIsSzhgBlpQF/14cg9cmlA5YieWKfPaUCvDp6H81xqQDmi/zi7uGtAuj8wOavKbEDr94H4/+FsQPFwnr7pDG9AarannMyLcEDc26w6OZpwQGaPr5eS/29ArDdM5K6fb0AzSeRvheJuQIkCeCDUPmtA3CQrh62laUDMNtfTPw5pQNdTq1o31GhAOgZPLhXxaEDFXkhDRsRoQE3qhVyCOWlA/Pgh5gLDaUCecOD0q51qQDNVohuLv2xAq0T9f2nabkDvZ6Xee8VvQLviQ3Uhg2hAb+/rpqd0akD265ffKg9wQDE3KEjhm25AbLP8VqytbEBBaxnyXR9sQPqkoz/FdGlAQvsdtOF+aUA8HQ6VITVwQOzWIz7OuGtAm65KvCVRaEBa9VMjojhpQMAjMxE4inBAjg3+dCYPaUDDuY2GEiBpQAwBIFqQNGlA47bui5tzcECvaiLoGVxwQPbQbxAh3W9ADo4wMV/+a0AMNKq98HVrQH1wAY2mLGlAVmDxCj4pcEBqLCX9vSNrQGAKkqxGzGhA3xnh0fc5aUD2d7R9iERpQNTzA941X3BAJFkog1FecEBvw+MxJfFqQPmibW2wZWlA+CUyBKf1bUDDAbDqW4huQAlR0Tj6Tm9Ainvuws/TbkBnM7aklFpwQKH87uoUv2tA1xEfzgCFakB9520IcTBqQDD0fFUjt25AoIPyQ8/ebkA7yH9KHCdvQM76uhQ53mhAuhVSNNVhaECpXig4R2doQPFGWqVJiGxADPTEUq15bkCHA9HQGkNwQI/DKAeJUW9AB6NqX4FVaUCV2+Lgaw5tQAAAAAAAAPh/svQQ7LSUbUB0mtQ6+CZwQD3XSOT9N3BA9SKbtOIxcEAtrhPaSFpoQKz9xc8cjG5AcRneRiJWbEDtcnMz3T9rQH6AGIhhc2lAiJQimrCdaUDnqV9tjZ1pQLktBOHYvGpAvieseufhb0BpYNWzAT9wQJalnRToOHBAqqs/izI5cEDK1vp7oRtqQLTYPh72FWpAqmaQ/A74aUAhNxijR+loQCEQHCVhCWlAv1BwES58aUAIzr55iLVqQKLNmk6LmWtAG2iYYJz6bEDN8a6jJQlvQCEqxkcYAHBAGrDO0qOdb0BODpqiO51vQG49aoVepWtA4f0vfX5faUDOy844YoppQKw+P856+mlA35cbXyVAbEBfGH6d6GFvQJId2PDURHBAVmXhpP08cEBcLPREz/9sQACJqjKIW2hA5ojvmYFxaECZ7Vcyv3NoQF41GBNlGW5ALyEw+Fi2b0AzpWOQMRJwQJECqlpWqW9AcRe4zeI9b0D1Brhk5xhuQAfi/Mb0qmtAaQYd6m/JakA2Kz9JRIVqQPvfA8czFGpAnRnq5wYNakAYepzYdoJpQJLlXqwhN2lAD5NHEca0aUAfR56B2ftpQACHrIJmZWxAAAAAAAAA+H/Ht46LWTlwQM1PVUdbV3BAIH1F5g9HcEAFTDRqvB5vQNw9+qvvVG5AMFnb2G06a0ACEVFZmthqQPL+3/IUKGpA1J5SlYlaaUAbS3QFJntoQGqEmTB/h2hAe6HN+56XaECY/OMVxIloQNCC76XqyG5ARM6rPHoOcECCQPEEThpwQJdOpQq8HHBAzNc9/1cicEBu+cJteAJwQMtuOUpWpm9ADRdJ/PwTbUDStrQWpb9qQJPPFu3D9GlAPEfpIseya0A/3Xo3oihsQLXm+C3f421AtOOZ5l2Lb0AOI1LZgCtwQNl81AZBCXBAh986z309b0A2qOqOcNtrQP2qC976eWhA7yI4LrFdaEAxrad8vq1oQO54vWzAymhAZokjl8M0bUB+bFr/D0NvQHqGrOm9Fm9AAXjmvoBybEC0J5cH5HpqQO2f9Pqln2lATMnD3SSLaUCCSFkooNhuQNYIvtAScHBA8pY3ntZdcECgs4Dw2WpsQPXQ7twvWmtA4BO/ZHLnaUBota9iR9VoQH1UGVoFvGxAjt3wtkqBb0C9vAxOzYlvQHbS3sD9wW1AhjZ9oH9wbUAxLh+7B9hpQCjPSWXhKGlA0113e/0lbEBfx6cfg1ZvQMK1DQwpc3BAQLRkIV6kbEAisbmMggdqQFJk8ihrp2hA5BLsQdK6aUAJeONGpMVqQIXiu++gLW5A+poc0M2wb0B5X8eX7xdwQBRdcQfo+WhAdCX26/MiaUB1YXWqvnZvQPDj05xl1m9A8HvZuC2LbUAiZxxUuxFwQDiltKm43m1Aaxzvj+eRaEA3tYIS1gpvQLjbebExYG9AGJX9e+S5b0C9IIsxwmRvQORCLimdY21AKqZbyjv+a0BV4urzQLppQMlE13zt3GhAMckkSoGnakDxELZFA/9rQBfSfZQAbHBA5X6t9KSAb0CX4C9OtOhoQHJ6PDmqu2hA1omhPGnNbUD3N8BteC5pQOaAVOo4O29A6L1s0l5scEDPKmZxmoFwQCCtaDXwfm5A277yQMwXbkAau1tkvpxqQPaBW2oDNGpAxP20IvPebEA7I2CNLUJtQF/wDeUle21ApCR9r07eb0Bl7axpigRwQBhnA8KqE3BANmFsvDT/b0AuXfWzt+NvQLg8WdpAHWxAP69HzHr6aEBE68MHl+ZoQCcevKhDvmhAPajzpYeJakAa/2YZWztrQPXKiIzmc21AWWLw2mdIcECVmpfnb1hwQLDv2LHtRHBAzP+CsqpdcEC10jzrFAhKwCKkqpgRQmzA4L51D/yUasC95hPw63BkwNj5aJ9IdWPAE2AelcCAXcCpEJTVqhxRQMuynX26A2xAutLmqkjub0CBxmDQkfpqQI/4jMK+NmhAATgx5ObtZ0BfGis0artjQLcVrdwzu1lAV/1MLyxdVkCBOPcCGyJOQK6eYoF/cjJAzPlYJfmTR0AkJ1HZaQsxQMvvhO1TTDNApsEpGSbvMUDDNjnbjhwqQAaZTUnrbCVAxDY2N5f/CUAxaj2R3r4CQEWNo16ESu2/po3ErjosG0AU1VItsV8pQJwx4HoclzNACFkJIqjbUUD7nUaAUXxHQL3Ab3m8Oh/AbH0LlFxKSEB5zYYHm3VIQPbaDtyFpzJAYpjjCRfdOkCx6tCqDzIxQFoa+CItIUNALHE/VGDaSkBIgZhCL91QQGkCxSysFFVAa428yEffSUDnrDK8rFZJQObJBKmYpkpASucoV6SHU0BsijuptOckQIx1Mh4ZqxpAMNt83YyUEkAvgrmh++MJQGoFL55NfgVAuy0mpO5zDsAAAAAAAAD4f7fs7XqZNzHA5M7ZUvtDUcB26jxYsY8bwO9nn1To0EhAf09oF3kBUkDxoTRvJUtVQF6AZ1mEHFVA7PczJmeDUkAj06Z9wMtIQNnxNDAlPEBAaXbqdH16QEB4SWX6U49AQHsR6e2ueUBAAv9R2m9mN0AyXdAP7h00QON7Sn7Omy5ASAR3NuG9KcBKhfLfbfEywGjpY7cMnbG/Hr00y4KwJ8Brj6LGMqolQOd6+K9wCJu/7rEym95K/b9xrJCIs6gSwCLf4Y7ZCCTA8IzgM4d+KECM9Fw2ZUlCQHCDVtiaFENAFArSzdEpUECwLZ5nCrtgQPfH1l7ZHmZAK1a4cEdOZEA+12ujfdxhQGbTsnrNxWBApnKzwkMGKcBHzQxFLfw0QBPrW8Zi6VRA/fDgHzxVVUC6FF6AsLVQQP8qber711lAPGFJOwuiXkC5Leev4X9jQC8GmFCe2mlAUEUy6m4PakBNBp8QXFNqQP167/fZiGRAFvXMh4PVSUA9Plg8eEMhwIQbBEnV1T3AKJJeJVTgJcC5ARauEzpSQC2NzcnYYFNAZslzamu4RkBFh4okiTtYQMZtbphCC2dAAAAAAAAA+H8UrtyKL3BeQN6nMliUak9AQULUVassU0CXSssSrCJVQJ/jxCrezlNAMbuNoa0/YkDQXpLpiZhmQOqFSMz4xGpAHfH1MOXbakAbZ7rUjP5rQGvcD5CJgGxATas3O5WIbEACHenGRN9sQHt/dQy6WW1AJCQXYttVbUC/Qj2sAX1tQNb6W/mtdW1ARd/bMqCKbUDV8xodJmRtQFr7s614Wm1AvORQIBFDbUBoCDz9h5hsQMXEHBKWjGxAN+1hbO55bED3h48XIgtsQG7zLmQsD2pA6v1OseC8ZkAKJZC7ylFgQJGUbCWmb1NA9nh6mLz92z9KTe/GVcpUQL7Cpc0Q7FRA2VyrqEjlUEAmJcJrnUtgQDvcF+UFyFNAu1QX64vzVUAbuANvyDlVQBdwIcdRv0FA36Tr7I/3YkCbk1hPzldnQP3lzwtUt2dAHzouyOQEbEB5oEw/vNlsQGiz8nTSBGlAreFZWyDSVUANIl81+yFSQDqVeAsqKWFAPAcZ/WpiakAavSF4Q1lqQKb+aollu2JAVur6lQIhVECZrYnZmhZUQDqn+Gs8d2VAgKdZImRFUUBa5dEOlNdlQExDViMJmllAFzENJWoRRECEnQ0nwNNpQFBO9EEDhW5Ai5VF/l/ja0DBhEjcAIRrQP7MyWnK+GlAD2Ve6LDQaUC9UfjvJwBoQA==",
          "dtype": "f8"
         },
         "y": {
          "bdata": "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",
          "dtype": "f8"
         },
         "z": {
          "bdata": "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",
          "dtype": "f8"
         }
        },
        {
         "hoverinfo": "text",
         "marker": {
          "color": "blue",
          "line": {
           "color": "black",
           "width": 2
          },
          "opacity": 0.8,
          "size": 10
         },
         "mode": "markers+text",
         "name": "Earth",
         "text": [
          "Earth"
         ],
         "textposition": "top center",
         "type": "scatter3d",
         "x": [
          0
         ],
         "y": [
          0
         ],
         "z": [
          0
         ]
        },
        {
         "hoverinfo": "text",
         "marker": {
          "color": "red",
          "line": {
           "color": "black",
           "width": 1
          },
          "opacity": 0.8,
          "size": 5
         },
         "mode": "markers+text",
         "name": "L1",
         "text": [
          "L1"
         ],
         "textposition": "top center",
         "type": "scatter3d",
         "x": [
          238
         ],
         "y": [
          0
         ],
         "z": [
          0
         ]
        }
       ],
       "layout": {
        "coloraxis": {
         "colorbar": {
          "ticktext": [
           "1995-02",
           "2002-07",
           "2010-01",
           "2017-06",
           "2024-12"
          ],
          "tickvals": {
           "bdata": "3t3d3ZHowUCwBVuwtDvHQIMt2ILXjsxAq6qqKv3w0ECUPumTjprTQA==",
           "dtype": "f8"
          },
          "title": {
           "text": "Event Time"
          }
         },
         "colorscale": [
          [
           0,
           "#440154"
          ],
          [
           0.1111111111111111,
           "#482878"
          ],
          [
           0.2222222222222222,
           "#3e4989"
          ],
          [
           0.3333333333333333,
           "#31688e"
          ],
          [
           0.4444444444444444,
           "#26828e"
          ],
          [
           0.5555555555555556,
           "#1f9e89"
          ],
          [
           0.6666666666666666,
           "#35b779"
          ],
          [
           0.7777777777777778,
           "#6ece58"
          ],
          [
           0.8888888888888888,
           "#b5de2b"
          ],
          [
           1,
           "#fde725"
          ]
         ]
        },
        "height": 600,
        "legend": {
         "tracegroupgap": 0,
         "x": 0.8,
         "y": 0.9
        },
        "margin": {
         "b": 0,
         "l": 0,
         "r": 0,
         "t": 50
        },
        "scene": {
         "domain": {
          "x": [
           0,
           1
          ],
          "y": [
           0,
           1
          ]
         },
         "xaxis": {
          "range": [
           -226.06464799240445,
           265.63897197268466
          ],
          "title": {
           "text": "X: [Earth radii]"
          }
         },
         "yaxis": {
          "range": [
           -262.1055918842727,
           322.70090010609914
          ],
          "title": {
           "text": "Y: [Earth radii]"
          }
         },
         "zaxis": {
          "range": [
           -32.91245623043217,
           27.744922818583458
          ],
          "title": {
           "text": "Z: [Earth radii]"
          }
         }
        },
        "template": {
         "data": {
          "bar": [
           {
            "error_x": {
             "color": "#2a3f5f"
            },
            "error_y": {
             "color": "#2a3f5f"
            },
            "marker": {
             "line": {
              "color": "#E5ECF6",
              "width": 0.5
             },
             "pattern": {
              "fillmode": "overlay",
              "size": 10,
              "solidity": 0.2
             }
            },
            "type": "bar"
           }
          ],
          "barpolar": [
           {
            "marker": {
             "line": {
              "color": "#E5ECF6",
              "width": 0.5
             },
             "pattern": {
              "fillmode": "overlay",
              "size": 10,
              "solidity": 0.2
             }
            },
            "type": "barpolar"
           }
          ],
          "carpet": [
           {
            "aaxis": {
             "endlinecolor": "#2a3f5f",
             "gridcolor": "white",
             "linecolor": "white",
             "minorgridcolor": "white",
             "startlinecolor": "#2a3f5f"
            },
            "baxis": {
             "endlinecolor": "#2a3f5f",
             "gridcolor": "white",
             "linecolor": "white",
             "minorgridcolor": "white",
             "startlinecolor": "#2a3f5f"
            },
            "type": "carpet"
           }
          ],
          "choropleth": [
           {
            "colorbar": {
             "outlinewidth": 0,
             "ticks": ""
            },
            "type": "choropleth"
           }
          ],
          "contour": [
           {
            "colorbar": {
             "outlinewidth": 0,
             "ticks": ""
            },
            "colorscale": [
             [
              0,
              "#0d0887"
             ],
             [
              0.1111111111111111,
              "#46039f"
             ],
             [
              0.2222222222222222,
              "#7201a8"
             ],
             [
              0.3333333333333333,
              "#9c179e"
             ],
             [
              0.4444444444444444,
              "#bd3786"
             ],
             [
              0.5555555555555556,
              "#d8576b"
             ],
             [
              0.6666666666666666,
              "#ed7953"
             ],
             [
              0.7777777777777778,
              "#fb9f3a"
             ],
             [
              0.8888888888888888,
              "#fdca26"
             ],
             [
              1,
              "#f0f921"
             ]
            ],
            "type": "contour"
           }
          ],
          "contourcarpet": [
           {
            "colorbar": {
             "outlinewidth": 0,
             "ticks": ""
            },
            "type": "contourcarpet"
           }
          ],
          "heatmap": [
           {
            "colorbar": {
             "outlinewidth": 0,
             "ticks": ""
            },
            "colorscale": [
             [
              0,
              "#0d0887"
             ],
             [
              0.1111111111111111,
              "#46039f"
             ],
             [
              0.2222222222222222,
              "#7201a8"
             ],
             [
              0.3333333333333333,
              "#9c179e"
             ],
             [
              0.4444444444444444,
              "#bd3786"
             ],
             [
              0.5555555555555556,
              "#d8576b"
             ],
             [
              0.6666666666666666,
              "#ed7953"
             ],
             [
              0.7777777777777778,
              "#fb9f3a"
             ],
             [
              0.8888888888888888,
              "#fdca26"
             ],
             [
              1,
              "#f0f921"
             ]
            ],
            "type": "heatmap"
           }
          ],
          "histogram": [
           {
            "marker": {
             "pattern": {
              "fillmode": "overlay",
              "size": 10,
              "solidity": 0.2
             }
            },
            "type": "histogram"
           }
          ],
          "histogram2d": [
           {
            "colorbar": {
             "outlinewidth": 0,
             "ticks": ""
            },
            "colorscale": [
             [
              0,
              "#0d0887"
             ],
             [
              0.1111111111111111,
              "#46039f"
             ],
             [
              0.2222222222222222,
              "#7201a8"
             ],
             [
              0.3333333333333333,
              "#9c179e"
             ],
             [
              0.4444444444444444,
              "#bd3786"
             ],
             [
              0.5555555555555556,
              "#d8576b"
             ],
             [
              0.6666666666666666,
              "#ed7953"
             ],
             [
              0.7777777777777778,
              "#fb9f3a"
             ],
             [
              0.8888888888888888,
              "#fdca26"
             ],
             [
              1,
              "#f0f921"
             ]
            ],
            "type": "histogram2d"
           }
          ],
          "histogram2dcontour": [
           {
            "colorbar": {
             "outlinewidth": 0,
             "ticks": ""
            },
            "colorscale": [
             [
              0,
              "#0d0887"
             ],
             [
              0.1111111111111111,
              "#46039f"
             ],
             [
              0.2222222222222222,
              "#7201a8"
             ],
             [
              0.3333333333333333,
              "#9c179e"
             ],
             [
              0.4444444444444444,
              "#bd3786"
             ],
             [
              0.5555555555555556,
              "#d8576b"
             ],
             [
              0.6666666666666666,
              "#ed7953"
             ],
             [
              0.7777777777777778,
              "#fb9f3a"
             ],
             [
              0.8888888888888888,
              "#fdca26"
             ],
             [
              1,
              "#f0f921"
             ]
            ],
            "type": "histogram2dcontour"
           }
          ],
          "mesh3d": [
           {
            "colorbar": {
             "outlinewidth": 0,
             "ticks": ""
            },
            "type": "mesh3d"
           }
          ],
          "parcoords": [
           {
            "line": {
             "colorbar": {
              "outlinewidth": 0,
              "ticks": ""
             }
            },
            "type": "parcoords"
           }
          ],
          "pie": [
           {
            "automargin": true,
            "type": "pie"
           }
          ],
          "scatter": [
           {
            "fillpattern": {
             "fillmode": "overlay",
             "size": 10,
             "solidity": 0.2
            },
            "type": "scatter"
           }
          ],
          "scatter3d": [
           {
            "line": {
             "colorbar": {
              "outlinewidth": 0,
              "ticks": ""
             }
            },
            "marker": {
             "colorbar": {
              "outlinewidth": 0,
              "ticks": ""
             }
            },
            "type": "scatter3d"
           }
          ],
          "scattercarpet": [
           {
            "marker": {
             "colorbar": {
              "outlinewidth": 0,
              "ticks": ""
             }
            },
            "type": "scattercarpet"
           }
          ],
          "scattergeo": [
           {
            "marker": {
             "colorbar": {
              "outlinewidth": 0,
              "ticks": ""
             }
            },
            "type": "scattergeo"
           }
          ],
          "scattergl": [
           {
            "marker": {
             "colorbar": {
              "outlinewidth": 0,
              "ticks": ""
             }
            },
            "type": "scattergl"
           }
          ],
          "scattermap": [
           {
            "marker": {
             "colorbar": {
              "outlinewidth": 0,
              "ticks": ""
             }
            },
            "type": "scattermap"
           }
          ],
          "scattermapbox": [
           {
            "marker": {
             "colorbar": {
              "outlinewidth": 0,
              "ticks": ""
             }
            },
            "type": "scattermapbox"
           }
          ],
          "scatterpolar": [
           {
            "marker": {
             "colorbar": {
              "outlinewidth": 0,
              "ticks": ""
             }
            },
            "type": "scatterpolar"
           }
          ],
          "scatterpolargl": [
           {
            "marker": {
             "colorbar": {
              "outlinewidth": 0,
              "ticks": ""
             }
            },
            "type": "scatterpolargl"
           }
          ],
          "scatterternary": [
           {
            "marker": {
             "colorbar": {
              "outlinewidth": 0,
              "ticks": ""
             }
            },
            "type": "scatterternary"
           }
          ],
          "surface": [
           {
            "colorbar": {
             "outlinewidth": 0,
             "ticks": ""
            },
            "colorscale": [
             [
              0,
              "#0d0887"
             ],
             [
              0.1111111111111111,
              "#46039f"
             ],
             [
              0.2222222222222222,
              "#7201a8"
             ],
             [
              0.3333333333333333,
              "#9c179e"
             ],
             [
              0.4444444444444444,
              "#bd3786"
             ],
             [
              0.5555555555555556,
              "#d8576b"
             ],
             [
              0.6666666666666666,
              "#ed7953"
             ],
             [
              0.7777777777777778,
              "#fb9f3a"
             ],
             [
              0.8888888888888888,
              "#fdca26"
             ],
             [
              1,
              "#f0f921"
             ]
            ],
            "type": "surface"
           }
          ],
          "table": [
           {
            "cells": {
             "fill": {
              "color": "#EBF0F8"
             },
             "line": {
              "color": "white"
             }
            },
            "header": {
             "fill": {
              "color": "#C8D4E3"
             },
             "line": {
              "color": "white"
             }
            },
            "type": "table"
           }
          ]
         },
         "layout": {
          "annotationdefaults": {
           "arrowcolor": "#2a3f5f",
           "arrowhead": 0,
           "arrowwidth": 1
          },
          "autotypenumbers": "strict",
          "coloraxis": {
           "colorbar": {
            "outlinewidth": 0,
            "ticks": ""
           }
          },
          "colorscale": {
           "diverging": [
            [
             0,
             "#8e0152"
            ],
            [
             0.1,
             "#c51b7d"
            ],
            [
             0.2,
             "#de77ae"
            ],
            [
             0.3,
             "#f1b6da"
            ],
            [
             0.4,
             "#fde0ef"
            ],
            [
             0.5,
             "#f7f7f7"
            ],
            [
             0.6,
             "#e6f5d0"
            ],
            [
             0.7,
             "#b8e186"
            ],
            [
             0.8,
             "#7fbc41"
            ],
            [
             0.9,
             "#4d9221"
            ],
            [
             1,
             "#276419"
            ]
           ],
           "sequential": [
            [
             0,
             "#0d0887"
            ],
            [
             0.1111111111111111,
             "#46039f"
            ],
            [
             0.2222222222222222,
             "#7201a8"
            ],
            [
             0.3333333333333333,
             "#9c179e"
            ],
            [
             0.4444444444444444,
             "#bd3786"
            ],
            [
             0.5555555555555556,
             "#d8576b"
            ],
            [
             0.6666666666666666,
             "#ed7953"
            ],
            [
             0.7777777777777778,
             "#fb9f3a"
            ],
            [
             0.8888888888888888,
             "#fdca26"
            ],
            [
             1,
             "#f0f921"
            ]
           ],
           "sequentialminus": [
            [
             0,
             "#0d0887"
            ],
            [
             0.1111111111111111,
             "#46039f"
            ],
            [
             0.2222222222222222,
             "#7201a8"
            ],
            [
             0.3333333333333333,
             "#9c179e"
            ],
            [
             0.4444444444444444,
             "#bd3786"
            ],
            [
             0.5555555555555556,
             "#d8576b"
            ],
            [
             0.6666666666666666,
             "#ed7953"
            ],
            [
             0.7777777777777778,
             "#fb9f3a"
            ],
            [
             0.8888888888888888,
             "#fdca26"
            ],
            [
             1,
             "#f0f921"
            ]
           ]
          },
          "colorway": [
           "#636efa",
           "#EF553B",
           "#00cc96",
           "#ab63fa",
           "#FFA15A",
           "#19d3f3",
           "#FF6692",
           "#B6E880",
           "#FF97FF",
           "#FECB52"
          ],
          "font": {
           "color": "#2a3f5f"
          },
          "geo": {
           "bgcolor": "white",
           "lakecolor": "white",
           "landcolor": "#E5ECF6",
           "showlakes": true,
           "showland": true,
           "subunitcolor": "white"
          },
          "hoverlabel": {
           "align": "left"
          },
          "hovermode": "closest",
          "mapbox": {
           "style": "light"
          },
          "paper_bgcolor": "white",
          "plot_bgcolor": "#E5ECF6",
          "polar": {
           "angularaxis": {
            "gridcolor": "white",
            "linecolor": "white",
            "ticks": ""
           },
           "bgcolor": "#E5ECF6",
           "radialaxis": {
            "gridcolor": "white",
            "linecolor": "white",
            "ticks": ""
           }
          },
          "scene": {
           "xaxis": {
            "backgroundcolor": "#E5ECF6",
            "gridcolor": "white",
            "gridwidth": 2,
            "linecolor": "white",
            "showbackground": true,
            "ticks": "",
            "zerolinecolor": "white"
           },
           "yaxis": {
            "backgroundcolor": "#E5ECF6",
            "gridcolor": "white",
            "gridwidth": 2,
            "linecolor": "white",
            "showbackground": true,
            "ticks": "",
            "zerolinecolor": "white"
           },
           "zaxis": {
            "backgroundcolor": "#E5ECF6",
            "gridcolor": "white",
            "gridwidth": 2,
            "linecolor": "white",
            "showbackground": true,
            "ticks": "",
            "zerolinecolor": "white"
           }
          },
          "shapedefaults": {
           "line": {
            "color": "#2a3f5f"
           }
          },
          "ternary": {
           "aaxis": {
            "gridcolor": "white",
            "linecolor": "white",
            "ticks": ""
           },
           "baxis": {
            "gridcolor": "white",
            "linecolor": "white",
            "ticks": ""
           },
           "bgcolor": "#E5ECF6",
           "caxis": {
            "gridcolor": "white",
            "linecolor": "white",
            "ticks": ""
           }
          },
          "title": {
           "x": 0.05
          },
          "xaxis": {
           "automargin": true,
           "gridcolor": "white",
           "linecolor": "white",
           "ticks": "",
           "title": {
            "standoff": 15
           },
           "zerolinecolor": "white",
           "zerolinewidth": 2
          },
          "yaxis": {
           "automargin": true,
           "gridcolor": "white",
           "linecolor": "white",
           "ticks": "",
           "title": {
            "standoff": 15
           },
           "zerolinecolor": "white",
           "zerolinewidth": 2
          }
         }
        },
        "title": {
         "text": "ICME: Wind Spacecraft in GSE Coordinates"
        },
        "width": 800
       }
      }
     },
     "metadata": {},
     "output_type": "display_data"
    }
   ],
   "source": [
    "GSE_sc_plot(df_Wind, 'ICME: Wind Spacecraft in GSE Coordinates')"
   ]
  }
 ],
 "metadata": {
  "kernelspec": {
   "display_name": "mt_env",
   "language": "python",
   "name": "python3"
  },
  "language_info": {
   "codemirror_mode": {
    "name": "ipython",
    "version": 3
   },
   "file_extension": ".py",
   "mimetype": "text/x-python",
   "name": "python",
   "nbconvert_exporter": "python",
   "pygments_lexer": "ipython3",
   "version": "3.11.11"
  }
 },
 "nbformat": 4,
 "nbformat_minor": 5
}
