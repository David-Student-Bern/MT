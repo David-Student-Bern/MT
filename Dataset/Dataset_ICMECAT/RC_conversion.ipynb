{
 "cells": [
  {
   "cell_type": "code",
   "execution_count": 2,
   "id": "8fe161a7",
   "metadata": {},
   "outputs": [],
   "source": [
    "import pandas as pd\n",
    "RC = pd.read_csv('RC_icmecat.csv')"
   ]
  },
  {
   "cell_type": "markdown",
   "id": "6e96fa1d",
   "metadata": {},
   "source": [
    "Time conversions"
   ]
  },
  {
   "cell_type": "code",
   "execution_count": null,
   "id": "7525df28",
   "metadata": {},
   "outputs": [],
   "source": [
    "# Remove trailing annotation like (A), (W), W, S, etc. from the 'Disturbance Y/M/D (UT)' column\n",
    "RC['Disturbance Y/M/D (UT)'] = RC['Disturbance Y/M/D (UT)'].str.replace(r\"[^\\d?/]+$\", \"\", regex=True)\n",
    "\n",
    "# Remove any non-numeric characters (like 'S') from 'dV (km/s)' column\n",
    "RC['dV (km/s)'] = RC['dV (km/s)'].str.extract(r\"(\\d+(?:\\.\\d+)?)\")[0]\n",
    "RC['Dst (nT)'] = RC['Dst (nT)'].str.extract(r\"(\\d+(?:\\.\\d+)?)\")[0]\n",
    "\n",
    "# Convert the first three columns to datetime and remove timezone info if present\n",
    "RC_dates = RC.iloc[:, :3].apply(pd.to_datetime, errors='coerce').apply(lambda x: x.dt.tz_convert(None) if x.dt.tz else x)\n",
    "\n",
    "RC_dates = RC_dates.rename(columns={RC_dates.columns[0]: 'Disturbance_time', RC_dates.columns[1]: 'ICME_Start', RC_dates.columns[2]: 'ICME_End'})\n",
    "\n",
    "# add columns 10 to 14 from RC to the new DataFrame\n",
    "RC_dates = pd.concat([RC_dates, RC.iloc[:, 10:14].reset_index(drop=True)], axis=1)\n",
    "RC_dates = pd.concat([RC_dates, RC.iloc[:, 15].reset_index(drop=True)], axis=1)"
   ]
  },
  {
   "cell_type": "markdown",
   "id": "24caba7d",
   "metadata": {},
   "source": [
    "Resize to time range of GFOC"
   ]
  },
  {
   "cell_type": "code",
   "execution_count": 12,
   "id": "7faa6a5a",
   "metadata": {},
   "outputs": [],
   "source": [
    "GFOC_start = pd.to_datetime('2023-01-03 12:00:00')\n",
    "GFOC_end = pd.to_datetime('2024-06-30 11:59:30')\n",
    "\n",
    "# only select times that are in the range of the GFOC data\n",
    "RC_dates = RC_dates[pd.to_datetime(RC_dates['ICME_End'], format='%Y-%m-%d %H:%M:%S') >= GFOC_start]\n",
    "RC_dates = RC_dates[pd.to_datetime(RC_dates['Disturbance_time'], format='%Y-%m-%d %H:%M:%S') <= GFOC_end]\n",
    "\n",
    "# save the modified DataFrame to a new CSV file\n",
    "RC_dates.to_csv('RC_icmecat_GFOC.csv', index=False)"
   ]
  }
 ],
 "metadata": {
  "kernelspec": {
   "display_name": "mt_env",
   "language": "python",
   "name": "python3"
  },
  "language_info": {
   "codemirror_mode": {
    "name": "ipython",
    "version": 3
   },
   "file_extension": ".py",
   "mimetype": "text/x-python",
   "name": "python",
   "nbconvert_exporter": "python",
   "pygments_lexer": "ipython3",
   "version": "3.11.11"
  }
 },
 "nbformat": 4,
 "nbformat_minor": 5
}
