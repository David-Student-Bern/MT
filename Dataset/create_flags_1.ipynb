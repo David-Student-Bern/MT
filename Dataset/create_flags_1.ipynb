{
 "cells": [
  {
   "cell_type": "markdown",
   "id": "728bf06e",
   "metadata": {},
   "source": [
    "# Load times from GFOC and SWMA Catalogue"
   ]
  },
  {
   "cell_type": "code",
   "execution_count": 1,
   "id": "4da652d5",
   "metadata": {},
   "outputs": [],
   "source": [
    "import pandas as pd\n",
    "\n",
    "# Load the GOFC data more efficiently\n",
    "GFOC_dir = \"/home/dschwarz/Documents/MT/Dataset/Dataset_MSc/GFOC_RDCDFI.csv\"\n",
    "GFOC_data = pd.read_csv(GFOC_dir, low_memory=True)\n",
    "\n",
    "# Load the SWMA data more efficiently\n",
    "SWMA_dir = \"/home/dschwarz/Documents/MT/Dataset/Dataset_MSc/SWMA_RDAWFI.csv\"\n",
    "SWMA_data = pd.read_csv(SWMA_dir, low_memory=True)"
   ]
  },
  {
   "cell_type": "code",
   "execution_count": 2,
   "id": "7569dd90",
   "metadata": {},
   "outputs": [],
   "source": [
    "# Time conversion\n",
    "GFOC_time = GFOC_data['time']\n",
    "GFOC_time = pd.to_datetime(GFOC_time, format='%Y-%m-%d %H:%M:%S')\n",
    "GFOC_start = GFOC_time[0]\n",
    "GFOC_end = GFOC_time[len(GFOC_time) - 1]\n",
    "SWMA_time = SWMA_data['time']\n",
    "SWMA_time = pd.to_datetime(SWMA_time, format='%Y-%m-%d %H:%M:%S')\n",
    "SWMA_start = SWMA_time[0]\n",
    "SWMA_end = SWMA_time[len(SWMA_time) - 1]"
   ]
  },
  {
   "cell_type": "markdown",
   "id": "fadfd2c9",
   "metadata": {},
   "source": [
    "# Load Shock & both ICME catalogues"
   ]
  },
  {
   "cell_type": "code",
   "execution_count": 3,
   "id": "436e4e4f",
   "metadata": {},
   "outputs": [],
   "source": [
    "import pandas as pd\n",
    "\n",
    "# import the data\n",
    "Shock = pd.read_csv('./Dataset_IPshocks/shocks_20250514_121541.csv')\n",
    "\n",
    "# Shock_Wind = Shock[Shock['Spacecraft'] == 'Wind']\n",
    "# Shock_Wind = Shock[Shock['Spacecraft'] == 'ACE']\n",
    "# Shock_Wind = Shock[Shock['Spacecraft'] == 'DSCOVR']\n",
    "# Shock_Wind = Shock[Shock['Spacecraft'] == 'OMNI']\n",
    "\n",
    "Helios_Wind = pd.read_csv('./Dataset_ICMECAT/helio4cast_icmecat.csv')\n",
    "\n",
    "RC = pd.read_csv('./Dataset_ICMECAT/RC_icmecat_dates.csv')"
   ]
  },
  {
   "cell_type": "markdown",
   "id": "564348a5",
   "metadata": {},
   "source": [
    "# Create Flags\n",
    "\n",
    "### First I want to check if all the times are in the correct order"
   ]
  },
  {
   "cell_type": "code",
   "execution_count": 23,
   "id": "ecf9b9dd",
   "metadata": {},
   "outputs": [
    {
     "name": "stdout",
     "output_type": "stream",
     "text": [
      "The times are in the correct order\n"
     ]
    }
   ],
   "source": [
    "# ======================================================================================\n",
    "# Event times ordered from the latest to the earliest\n",
    "# ======================================================================================\n",
    "\n",
    "# event_time_dt = pd.DatetimeIndex(Shock['Time'])\n",
    "# event_time_dt = pd.DatetimeIndex(Helios_Wind['icme_start_time'])\n",
    "\n",
    "# for i in range(len(event_time_dt) - 1):\n",
    "#     if event_time_dt[-i - 2] < event_time_dt[-i -1]:\n",
    "#         print(\"The times are not in the correct order\")\n",
    "#         print(i - 1)\n",
    "#         print(event_time_dt[-i - 2])\n",
    "#         print(event_time_dt[-i - 1])\n",
    "#         break\n",
    "# print(\"The times are in the correct order\")\n",
    "\n",
    "# ======================================================================================\n",
    "# Event times ordered from the earliest to the latest\n",
    "# ======================================================================================\n",
    "\n",
    "event_time_dt = pd.DatetimeIndex(RC['ICME_Start'])\n",
    "\n",
    "for i in range(len(event_time_dt) - 1):\n",
    "    if event_time_dt[-i - 2] > event_time_dt[-i -1]:\n",
    "        print(\"The times are not in the correct order\")\n",
    "        print(i - 1)\n",
    "        print(event_time_dt[-i - 2])\n",
    "        print(event_time_dt[-i - 1])\n",
    "        break\n",
    "print(\"The times are in the correct order\")"
   ]
  },
  {
   "cell_type": "markdown",
   "id": "64fdbf23",
   "metadata": {},
   "source": [
    "The times are in the correct order. However, I need to think about the order.\n",
    "\n",
    "## Creating Flags for GFOC\n",
    "\n",
    "- for ICME events I need to consider the start and end time of the event --> 1 if between start and end and 0 if not\n",
    "- for Shock events there is only one time"
   ]
  },
  {
   "cell_type": "code",
   "execution_count": 2,
   "id": "5026b576",
   "metadata": {},
   "outputs": [
    {
     "ename": "NameError",
     "evalue": "name 'GFOC_start' is not defined",
     "output_type": "error",
     "traceback": [
      "\u001b[31m---------------------------------------------------------------------------\u001b[39m",
      "\u001b[31mNameError\u001b[39m                                 Traceback (most recent call last)",
      "\u001b[36mCell\u001b[39m\u001b[36m \u001b[39m\u001b[32mIn[2]\u001b[39m\u001b[32m, line 5\u001b[39m\n\u001b[32m      2\u001b[39m \u001b[38;5;28;01mfrom\u001b[39;00m\u001b[38;5;250m \u001b[39m\u001b[34;01mdatetime\u001b[39;00m\u001b[38;5;250m \u001b[39m\u001b[38;5;28;01mimport\u001b[39;00m timedelta\n\u001b[32m      4\u001b[39m \u001b[38;5;66;03m# only select times that are in the range of the GFOC data\u001b[39;00m\n\u001b[32m----> \u001b[39m\u001b[32m5\u001b[39m Shock_GFOC = Shock[pd.to_datetime(Shock[\u001b[33m'\u001b[39m\u001b[33mTime\u001b[39m\u001b[33m'\u001b[39m], \u001b[38;5;28mformat\u001b[39m=\u001b[33m'\u001b[39m\u001b[33m%\u001b[39m\u001b[33mY-\u001b[39m\u001b[33m%\u001b[39m\u001b[33mm-\u001b[39m\u001b[38;5;132;01m%d\u001b[39;00m\u001b[33m \u001b[39m\u001b[33m%\u001b[39m\u001b[33mH:\u001b[39m\u001b[33m%\u001b[39m\u001b[33mM:\u001b[39m\u001b[33m%\u001b[39m\u001b[33mS\u001b[39m\u001b[33m'\u001b[39m) >= GFOC_start]\n\u001b[32m      6\u001b[39m Shock_GFOC = Shock_GFOC[pd.to_datetime(Shock_GFOC[\u001b[33m'\u001b[39m\u001b[33mTime\u001b[39m\u001b[33m'\u001b[39m], \u001b[38;5;28mformat\u001b[39m=\u001b[33m'\u001b[39m\u001b[33m%\u001b[39m\u001b[33mY-\u001b[39m\u001b[33m%\u001b[39m\u001b[33mm-\u001b[39m\u001b[38;5;132;01m%d\u001b[39;00m\u001b[33m \u001b[39m\u001b[33m%\u001b[39m\u001b[33mH:\u001b[39m\u001b[33m%\u001b[39m\u001b[33mM:\u001b[39m\u001b[33m%\u001b[39m\u001b[33mS\u001b[39m\u001b[33m'\u001b[39m) <= GFOC_end]\n\u001b[32m      7\u001b[39m Helios_GFOC = Helios_Wind[pd.to_datetime(Helios_Wind[\u001b[33m'\u001b[39m\u001b[33micme_start_time\u001b[39m\u001b[33m'\u001b[39m], \u001b[38;5;28mformat\u001b[39m=\u001b[33m'\u001b[39m\u001b[33m%\u001b[39m\u001b[33mY-\u001b[39m\u001b[33m%\u001b[39m\u001b[33mm-\u001b[39m\u001b[38;5;132;01m%d\u001b[39;00m\u001b[33m \u001b[39m\u001b[33m%\u001b[39m\u001b[33mH:\u001b[39m\u001b[33m%\u001b[39m\u001b[33mM:\u001b[39m\u001b[33m%\u001b[39m\u001b[33mS\u001b[39m\u001b[33m'\u001b[39m) >= GFOC_start]\n",
      "\u001b[31mNameError\u001b[39m: name 'GFOC_start' is not defined"
     ]
    }
   ],
   "source": [
    "import numpy as np\n",
    "from datetime import timedelta\n",
    "\n",
    "# only select times that are in the range of the GFOC data\n",
    "Shock_GFOC = Shock[pd.to_datetime(Shock['Time'], format='%Y-%m-%d %H:%M:%S') >= GFOC_start]\n",
    "Shock_GFOC = Shock_GFOC[pd.to_datetime(Shock_GFOC['Time'], format='%Y-%m-%d %H:%M:%S') <= GFOC_end]\n",
    "Helios_GFOC = Helios_Wind[pd.to_datetime(Helios_Wind['icme_start_time'], format='%Y-%m-%d %H:%M:%S') >= GFOC_start]\n",
    "Helios_GFOC = Helios_GFOC[pd.to_datetime(Helios_GFOC['icme_start_time'], format='%Y-%m-%d %H:%M:%S') <= GFOC_end]\n",
    "RC_GFOC = RC[pd.to_datetime(RC['ICME_Start'], format='%Y-%m-%d %H:%M:%S') >= GFOC_start]\n",
    "RC_GFOC = RC_GFOC[pd.to_datetime(RC_GFOC['ICME_Start'], format='%Y-%m-%d %H:%M:%S') <= GFOC_end]\n",
    "\n",
    "Shock_flag_GFOC = np.zeros(len(GFOC_time), dtype=int)\n",
    "Helios_flag_GFOC = np.zeros(len(GFOC_time), dtype=int)\n",
    "RC_flag_GFOC = np.zeros(len(GFOC_time), dtype=int)\n",
    "\n",
    "# print(GFOC_time[:10])\n",
    "\n",
    "# Loop through Shock events, define a ±15 second window\n",
    "for _, row in Shock_GFOC.iterrows():\n",
    "    center = pd.to_datetime(row['Time'])\n",
    "    start = center - timedelta(seconds=15)\n",
    "    end = center + timedelta(seconds=15)\n",
    "    \n",
    "    # Set Shock flag to 1 for all GFOC_time values in this 30-second window\n",
    "    Shock_flag_GFOC[(GFOC_time >= start) & (GFOC_time <= end)] = 1\n",
    "\n",
    "# Loop through each start-end interval in Helios_GFOC\n",
    "for _, row in Helios_GFOC.iterrows():\n",
    "    start = pd.to_datetime(row['icme_start_time'])\n",
    "    end = pd.to_datetime(row['mo_end_time'])\n",
    "    \n",
    "    # Set flag to 1 where GFOC_time is within this interval\n",
    "    Helios_flag_GFOC[(GFOC_time >= start) & (GFOC_time <= end)] = 1\n",
    "\n",
    "# Loop through each start-end interval in RC_GFOC\n",
    "for _, row in RC_GFOC.iterrows():\n",
    "    start = pd.to_datetime(row['ICME_Start'])\n",
    "    end = pd.to_datetime(row['ICME_End'])\n",
    "    \n",
    "    # Set flag to 1 where GFOC_time is within this interval\n",
    "    RC_flag_GFOC[(GFOC_time >= start) & (GFOC_time <= end)] = 1\n",
    "\n",
    "\n",
    "GFOC_flag_df = pd.DataFrame({\n",
    "    'GFOC_time': GFOC_time,\n",
    "    'Shock_flag': Shock_flag_GFOC,\n",
    "    'Helios_flag': Helios_flag_GFOC,\n",
    "    'RC_flag': RC_flag_GFOC\n",
    "})\n",
    "\n",
    "# Save the DataFrame to a CSV file\n",
    "GFOC_flag_df.to_csv('GFOC_flags.csv', index=False)"
   ]
  },
  {
   "cell_type": "markdown",
   "id": "337e2c7a",
   "metadata": {},
   "source": [
    "## Creating Flags for SWMA"
   ]
  },
  {
   "cell_type": "code",
   "execution_count": 36,
   "id": "16eaf4db",
   "metadata": {},
   "outputs": [],
   "source": [
    "# only select times that are in the range of the SWMA data\n",
    "Shock_SWMA = Shock[pd.to_datetime(Shock['Time'], format='%Y-%m-%d %H:%M:%S') >= SWMA_start]\n",
    "Shock_SWMA = Shock_SWMA[pd.to_datetime(Shock_SWMA['Time'], format='%Y-%m-%d %H:%M:%S') <= SWMA_end]\n",
    "Helios_SWMA = Helios_Wind[pd.to_datetime(Helios_Wind['icme_start_time'], format='%Y-%m-%d %H:%M:%S') >= SWMA_start]\n",
    "Helios_SWMA = Helios_SWMA[pd.to_datetime(Helios_SWMA['icme_start_time'], format='%Y-%m-%d %H:%M:%S') <= SWMA_end]\n",
    "RC_SWMA = RC[pd.to_datetime(RC['ICME_Start'], format='%Y-%m-%d %H:%M:%S') >= SWMA_start]\n",
    "RC_SWMA = RC_SWMA[pd.to_datetime(RC_SWMA['ICME_Start'], format='%Y-%m-%d %H:%M:%S') <= SWMA_end]\n",
    "\n",
    "Shock_flag_SWMA = np.zeros(len(SWMA_time), dtype=int)\n",
    "Helios_flag_SWMA = np.zeros(len(SWMA_time), dtype=int)\n",
    "RC_flag_SWMA = np.zeros(len(SWMA_time), dtype=int)\n",
    "\n",
    "# Loop through Shock events, define a ±15 second window\n",
    "for _, row in Shock_SWMA.iterrows():\n",
    "    center = pd.to_datetime(row['Time'])\n",
    "    start = center - timedelta(seconds=15)\n",
    "    end = center + timedelta(seconds=15)\n",
    "    Shock_flag_SWMA[(SWMA_time >= start) & (SWMA_time <= end)] = 1\n",
    "\n",
    "# Loop through each start-end interval in Helios_SWMA\n",
    "for _, row in Helios_SWMA.iterrows():\n",
    "    start = pd.to_datetime(row['icme_start_time'])\n",
    "    end = pd.to_datetime(row['mo_end_time'])\n",
    "    Helios_flag_SWMA[(SWMA_time >= start) & (SWMA_time <= end)] = 1\n",
    "\n",
    "# Loop through each start-end interval in RC_SWMA\n",
    "for _, row in RC_SWMA.iterrows():\n",
    "    start = pd.to_datetime(row['ICME_Start'])\n",
    "    end = pd.to_datetime(row['ICME_End'])\n",
    "    RC_flag_SWMA[(SWMA_time >= start) & (SWMA_time <= end)] = 1\n",
    "\n",
    "SWMA_flag_df = pd.DataFrame({\n",
    "    'SWMA_time': SWMA_time,\n",
    "    'Shock_flag': Shock_flag_SWMA,\n",
    "    'Helios_flag': Helios_flag_SWMA,\n",
    "    'RC_flag': RC_flag_SWMA\n",
    "})\n",
    "\n",
    "# Save the DataFrame to a CSV file\n",
    "SWMA_flag_df.to_csv('SWMA_flags.csv', index=False)"
   ]
  }
 ],
 "metadata": {
  "kernelspec": {
   "display_name": "mt_env",
   "language": "python",
   "name": "python3"
  },
  "language_info": {
   "codemirror_mode": {
    "name": "ipython",
    "version": 3
   },
   "file_extension": ".py",
   "mimetype": "text/x-python",
   "name": "python",
   "nbconvert_exporter": "python",
   "pygments_lexer": "ipython3",
   "version": "3.11.11"
  }
 },
 "nbformat": 4,
 "nbformat_minor": 5
}
