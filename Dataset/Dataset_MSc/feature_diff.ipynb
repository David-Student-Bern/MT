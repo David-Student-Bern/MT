{
 "cells": [
  {
   "cell_type": "markdown",
   "metadata": {},
   "source": [
    "Investigation of the difference (residuals) in some features that should be identical."
   ]
  },
  {
   "cell_type": "code",
   "execution_count": 1,
   "metadata": {},
   "outputs": [],
   "source": [
    "import pandas as pd\n",
    "import matplotlib.pyplot as plt\n",
    "\n",
    "# Load the GOFC data more efficiently\n",
    "GFOC_dir = \"/home/dschwarz/Documents/MT/Dataset_MSc/GFOC_RDCDFI.csv\"\n",
    "GFOC_data = pd.read_csv(GFOC_dir, low_memory=True)\n",
    "\n",
    "# Load the SWMA data more efficiently\n",
    "SWMA_dir = \"/home/dschwarz/Documents/MT/Dataset_MSc/SWMA_RDAWFI.csv\"\n",
    "SWMA_data = pd.read_csv(SWMA_dir, low_memory=True)"
   ]
  },
  {
   "cell_type": "code",
   "execution_count": null,
   "metadata": {},
   "outputs": [
    {
     "name": "stdout",
     "output_type": "stream",
     "text": [
      "Feature 'is_outlier_maneuver_day' not found in both datasets.\n"
     ]
    }
   ],
   "source": [
    "import matplotlib.dates as mdates\n",
    "\n",
    "# =========================== Input ===================================\n",
    "start, end = 0, -1  # Define the interval for plotting\n",
    "\n",
    "# Add an option for monthly, daily, or hourly ticks\n",
    "tick_interval = 'monthly'  # Change to 'monthly', 'daily', or 'hourly'\n",
    "tick_step = 2  # Step for the ticks (e.g., every month =1, every 2 months = 2, etc)\n",
    "\n",
    "# Residuals\n",
    "# features to check\n",
    "# features = ['SymD (Omni)', 'SymH (Omni)', 'AsyD (Omni)', 'AsyH (Omni)', 'Percent Interpolated', 'Timeshift (seconds)', 'Time between observations (seconds)', '|avg B|', 'Flow Speed (km/s', 'Proton density (n/cc)', 'Temperature (K)', 'Alpha/Proton Ratio', 'Flow pressure (nPa)', 'Electric Field (Mv/m)', 'Plasma beta', 'Alfven mach number', 'Magnetosonic mach number', 'Vx Velocity (km/s)', 'Vy Velocity (km/s)', 'Vz Velocity (km/s)', 'Bx GSE', 'By GSE', 'Bz GSE', 'By GSM', 'Bz GSM', 'Spacecraft Position x', 'Spacecraft Position y', 'Spacecraft Position z', 'Bow Shock Nose Position x', 'Bow Shock Nose Position y', 'Bow Shock Nose Position z', 'RMS SD B scalar (nT)', 'RMS SD B vector (nT)', 'RMS Timeshift (seconds)', '# fine scale IMF points', '# fine scale Plasma points', 'Approximate Distance to SEL (Re)', 'F10.7 (LASP)', 'Kp (LASP)', 'ap (LASP)', 'Dst (nT) (LASP)']\n",
    "# fname\n",
    "# fname = ['SymD (Omni)', 'SymH (Omni)', 'AsyD (Omni)', 'AsyH (Omni)', 'Percent Interpolated', 'Timeshift (seconds)', 'Time between observations (seconds)', '|avg B|', 'Flow Speed (kms', 'Proton density (ncc)', 'Temperature (K)', 'AlphaProton Ratio', 'Flow pressure (nPa)', 'Electric Field (Mvm)', 'Plasma beta', 'Alfven mach number', 'Magnetosonic mach number', 'Vx Velocity (kms)', 'Vy Velocity (kms)', 'Vz Velocity (kms)', 'Bx GSE', 'By GSE', 'Bz GSE', 'By GSM', 'Bz GSM', 'Spacecraft Position x', 'Spacecraft Position y', 'Spacecraft Position z', 'Bow Shock Nose Position x', 'Bow Shock Nose Position y', 'Bow Shock Nose Position z', 'RMS SD B scalar (nT)', 'RMS SD B vector (nT)', 'RMS Timeshift (seconds)', 'No fine scale IMF points', 'No fine scale Plasma points', 'Approximate Distance to SEL (Re)', 'F10_7 (LASP)', 'Kp (LASP)', 'ap (LASP)', 'Dst (nT) (LASP)']\n",
    "\n",
    "# Manuvers\n",
    "features = ['is_maneuver_day', 'is_missing_day', 'is_outlier_maneuver_day', 'is_maneuver_day_extended', 'is_missing_day_extended', 'is_man_or_missing', 'is_maneuver_unresolved', 'is_maneuver_unresolved_10m_decay', 'is_maneuver_period_generic']\n",
    "fname = ['is_maneuver_day', 'is_missing_day', 'is_outlier_maneuver_day', 'is_maneuver_day_extended', 'is_missing_day_extended', 'is_man_or_missing', 'is_maneuver_unresolved', 'is_maneuver_unresolved_10m_decay', 'is_maneuver_period_generic']\n",
    "# =====================================================================\n",
    "\n",
    "# Helper function for tick formatting\n",
    "def format_ticks(ax, tick_interval, tick_step):\n",
    "    if tick_interval == 'monthly':\n",
    "        ax.xaxis.set_major_locator(mdates.MonthLocator(interval=tick_step))\n",
    "        ax.xaxis.set_major_formatter(mdates.DateFormatter('%Y-%b'))\n",
    "    elif tick_interval == 'daily':\n",
    "        ax.xaxis.set_major_locator(mdates.DayLocator(interval=tick_step))\n",
    "        ax.xaxis.set_major_formatter(mdates.DateFormatter('%Y-%m-%d'))\n",
    "    elif tick_interval == 'hourly':\n",
    "        ax.xaxis.set_major_locator(mdates.HourLocator(interval=tick_step))\n",
    "        ax.xaxis.set_major_formatter(mdates.DateFormatter('%Y-%m-%d %H:%M'))\n",
    "    ax.tick_params(axis='x', rotation=60)\n",
    "\n",
    "# Time conversion\n",
    "GFOC_time = GFOC_data['time'][start:end]\n",
    "GFOC_time = pd.to_datetime(GFOC_time, format='%Y-%m-%d %H:%M:%S')\n",
    "SWMA_time = SWMA_data['time'][start:end]\n",
    "SWMA_time = pd.to_datetime(SWMA_time, format='%Y-%m-%d %H:%M:%S')\n",
    "\n",
    "for i in range(len(features)):\n",
    "\n",
    "    feature = features[i]\n",
    "    # Check if the feature exists in both datasets \n",
    "    if feature not in GFOC_data.columns or feature not in SWMA_data.columns:\n",
    "        print(f\"Feature '{feature}' not found in both datasets.\")\n",
    "        continue\n",
    "    \n",
    "    #Residuals: GFOC - SWMA\n",
    "    try:\n",
    "        residuals = GFOC_data[feature][start:end].astype(float) - SWMA_data[feature][start:end].astype(float)\n",
    "    except ValueError as e:\n",
    "        print(f\"Error calculating residuals for feature '{feature}': {e}\")\n",
    "        continue\n",
    "    # Record times and feature values where residuals are not zero\n",
    "    # non_zero_residuals = residuals[(residuals != 0) & (~residuals.isna())]\n",
    "    non_zero_residuals = residuals[(residuals != 0) & (~residuals.isna()) & (GFOC_time.dt.time == pd.Timestamp(\"00:00:00\").time())]\n",
    "    if not non_zero_residuals.empty:\n",
    "        result = pd.DataFrame({\n",
    "            'Time_GFOC': GFOC_time.iloc[non_zero_residuals.index],\n",
    "            'Time_SWMA': SWMA_time.iloc[non_zero_residuals.index],\n",
    "            f'GFOC_{feature}': GFOC_data[feature].iloc[non_zero_residuals.index],\n",
    "            f'SWMA_{feature}': SWMA_data[feature].iloc[non_zero_residuals.index],\n",
    "            f'Residual_{feature}': non_zero_residuals\n",
    "        })\n",
    "        # result.to_csv(f'/home/dschwarz/Documents/MT/Dataset_MSc/Residuals/{str(i+96)}_{fname[i]}_res.csv', index=True)\n",
    "        result.to_csv(f'/home/dschwarz/Documents/MT/Dataset_MSc/Manuevers/{str(i+96)}_{fname[i]}_res.csv', index=True)\n"
   ]
  }
 ],
 "metadata": {
  "kernelspec": {
   "display_name": "base",
   "language": "python",
   "name": "python3"
  },
  "language_info": {
   "codemirror_mode": {
    "name": "ipython",
    "version": 3
   },
   "file_extension": ".py",
   "mimetype": "text/x-python",
   "name": "python",
   "nbconvert_exporter": "python",
   "pygments_lexer": "ipython3",
   "version": "3.12.7"
  }
 },
 "nbformat": 4,
 "nbformat_minor": 2
}
