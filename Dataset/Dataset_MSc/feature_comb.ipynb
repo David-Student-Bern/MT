{
 "cells": [
  {
   "cell_type": "code",
   "execution_count": 2,
   "metadata": {},
   "outputs": [],
   "source": [
    "import pandas as pd\n",
    "import os\n",
    "\n",
    "folder_path = '/home/dschwarz/Documents/MT/Dataset_MSc/Residuals'\n",
    "all_files = sorted([f for f in os.listdir(folder_path) if f.endswith('.csv')])\n",
    "\n",
    "combined_df = None\n",
    "\n",
    "for file in all_files:\n",
    "    file_path = os.path.join(folder_path, file)\n",
    "    df = pd.read_csv(file_path)\n",
    "\n",
    "    # Get the name of the 6th column\n",
    "    feature_col_name = df.columns[5]\n",
    "\n",
    "    # Create a new unique column name using the file name\n",
    "    new_col_name = f\"{os.path.splitext(file)[0]}\"\n",
    "\n",
    "    # Select relevant columns: Index, Time_GFOC, Time_SWMA, and the 6th column\n",
    "    df_sub = df.iloc[:, [0, 1, 2, 5]].copy()\n",
    "    df_sub.rename(columns={feature_col_name: new_col_name}, inplace=True)\n",
    "\n",
    "    if combined_df is None:\n",
    "        combined_df = df_sub\n",
    "    else:\n",
    "        # Merge on all three columns\n",
    "        combined_df = pd.merge(\n",
    "            combined_df, df_sub,\n",
    "            on=[df_sub.columns[0], 'Time_GFOC', 'Time_SWMA'],\n",
    "            how='outer'\n",
    "        )\n",
    "\n",
    "# Optional: sort by Index and/or Time_GFOC\n",
    "combined_df.sort_values(by=[combined_df.columns[0], 'Time_GFOC'], inplace=True)\n",
    "\n",
    "# Save to CSV\n",
    "combined_df.to_csv('combined_features.csv', index=False)"
   ]
  }
 ],
 "metadata": {
  "kernelspec": {
   "display_name": "base",
   "language": "python",
   "name": "python3"
  },
  "language_info": {
   "codemirror_mode": {
    "name": "ipython",
    "version": 3
   },
   "file_extension": ".py",
   "mimetype": "text/x-python",
   "name": "python",
   "nbconvert_exporter": "python",
   "pygments_lexer": "ipython3",
   "version": "3.12.7"
  }
 },
 "nbformat": 4,
 "nbformat_minor": 2
}
