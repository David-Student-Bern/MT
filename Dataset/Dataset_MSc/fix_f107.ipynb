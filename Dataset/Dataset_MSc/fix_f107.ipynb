{
 "cells": [
  {
   "cell_type": "code",
   "execution_count": 1,
   "id": "1b44bb43",
   "metadata": {},
   "outputs": [],
   "source": [
    "import pandas as pd\n",
    "import matplotlib.pyplot as plt\n",
    "\n",
    "# local_head = 'C:/Users/david/Documents/David/Unibe/Master_Thesis/'\n",
    "local_head = '/home/dschwarz/Documents/MT/'\n",
    "\n",
    "# Load the GOFC data more efficiently\n",
    "GFOC_dir = local_head+'Dataset/Dataset_MSc/GFOC_RDCDFI.csv'\n",
    "GFOC_data = pd.read_csv(GFOC_dir, low_memory=True)\n",
    "\n",
    "# Load the SWMA data more efficiently\n",
    "SWMA_dir = local_head+'Dataset/Dataset_MSc/SWMA_RDAWFI.csv'\n",
    "SWMA_data = pd.read_csv(SWMA_dir, low_memory=True)\n",
    "\n",
    "f107_dir = local_head+'Dataset/Dataset_MSc/F107.csv'\n",
    "f107_data = pd.read_csv(f107_dir, low_memory=True)"
   ]
  },
  {
   "cell_type": "markdown",
   "id": "5a4b6c3b",
   "metadata": {},
   "source": [
    "Compare times"
   ]
  },
  {
   "cell_type": "code",
   "execution_count": 2,
   "id": "32e1598f",
   "metadata": {},
   "outputs": [],
   "source": [
    "GFOC_time = GFOC_data['time']\n",
    "SWMA_time = SWMA_data['time']\n",
    "f107_time = f107_data['time']"
   ]
  },
  {
   "cell_type": "code",
   "execution_count": 3,
   "id": "f6019e59",
   "metadata": {},
   "outputs": [
    {
     "name": "stdout",
     "output_type": "stream",
     "text": [
      "GFOC time range: 2023-01-02 12:00:00 to 2024-06-30 11:59:30\n",
      "SWMA time range: 2023-01-02 12:00:00 to 2024-05-30 11:59:00\n",
      "F107 time range: 2023-01-01 00:00:00 to 2024-05-15 21:00:00\n"
     ]
    }
   ],
   "source": [
    "print(\"GFOC time range:\", GFOC_time.min(), \"to\", GFOC_time.max())\n",
    "print(\"SWMA time range:\", SWMA_time.min(), \"to\", SWMA_time.max())\n",
    "print(\"F107 time range:\", f107_time.min(), \"to\", f107_time.max())"
   ]
  },
  {
   "cell_type": "markdown",
   "id": "303a24dc",
   "metadata": {},
   "source": [
    "Print out all none values of 'F10.7 (LASP)' for GFOC and SWMA"
   ]
  },
  {
   "cell_type": "code",
   "execution_count": 10,
   "id": "3f82978f",
   "metadata": {},
   "outputs": [
    {
     "name": "stdout",
     "output_type": "stream",
     "text": [
      "GFOC_data rows with NOT NaN in 'F10.7 (LASP)':\n",
      "                        time  F10.7 (LASP)\n",
      "0        2023-01-02 12:00:00    149.475000\n",
      "1        2023-01-02 12:00:30    149.473368\n",
      "2        2023-01-02 12:01:00    149.471736\n",
      "3        2023-01-02 12:01:30    149.470104\n",
      "4        2023-01-02 12:02:00    149.468472\n",
      "...                      ...           ...\n",
      "1481754  2024-05-30 23:57:00    164.100000\n",
      "1481755  2024-05-30 23:57:30    164.100000\n",
      "1481756  2024-05-30 23:58:00    164.100000\n",
      "1481757  2024-05-30 23:58:30    164.100000\n",
      "1481758  2024-05-30 23:59:00    164.100000\n",
      "\n",
      "[1481759 rows x 2 columns]\n",
      "\n",
      "SWMA_data rows with NOT NaN in 'F10.7 (LASP)':\n",
      "                        time  F10.7 (LASP)\n",
      "0        2023-01-02 12:00:00    149.475000\n",
      "1        2023-01-02 12:00:30    149.473368\n",
      "2        2023-01-02 12:01:00    149.471736\n",
      "3        2023-01-02 12:01:30    149.470104\n",
      "4        2023-01-02 12:02:00    149.468472\n",
      "...                      ...           ...\n",
      "1480314  2024-05-30 11:57:00    164.100000\n",
      "1480315  2024-05-30 11:57:30    164.100000\n",
      "1480316  2024-05-30 11:58:00    164.100000\n",
      "1480317  2024-05-30 11:58:30    164.100000\n",
      "1480318  2024-05-30 11:59:00    164.100000\n",
      "\n",
      "[1460159 rows x 2 columns]\n"
     ]
    }
   ],
   "source": [
    "print(\"GFOC_data rows with NOT NaN in 'F10.7 (LASP)':\")\n",
    "print(GFOC_data.loc[GFOC_data['F10.7 (LASP)'].notna(), ['time', 'F10.7 (LASP)']])\n",
    "\n",
    "print(\"\\nSWMA_data rows with NOT NaN in 'F10.7 (LASP)':\")\n",
    "print(SWMA_data.loc[SWMA_data['F10.7 (LASP)'].notna(), ['time', 'F10.7 (LASP)']])"
   ]
  },
  {
   "cell_type": "markdown",
   "id": "6afcf37a",
   "metadata": {},
   "source": [
    "I am confused: There are F10.7 values already in the dataset. Why replace them? F30 seems to be missing though..."
   ]
  },
  {
   "cell_type": "code",
   "execution_count": 11,
   "id": "96ba06c9",
   "metadata": {},
   "outputs": [
    {
     "name": "stdout",
     "output_type": "stream",
     "text": [
      "GFOC_data columns: ['time', 'SVN', 'X_IN [m]', 'Y_IN [m]', 'Z_IN [m]', 'VX_IN [m/s]', 'VY_IN [m/s]', 'VZ_IN [m/s]', 'X_EF [m]', 'Y_EF [m]', 'Z_EF [m]', 'r [m]', 'lat_sph [deg]', 'lon_sph [deg]', 'lat_ell [deg]', 'lon_ell [deg]', 'h_ell [m]', 'u_sat [deg]', 'beta_sun [deg]', 'u_sun [deg]', 'a [m]', 'e [-]', 'i [deg]', 'Omega [deg]', 'omega [deg]', 'T0 [s]', 'rho [kg/m^3]', 'air_x [nm/s^2]', 'air_y [nm/s^2]', 'air_z [nm/s^2]', 'VX_EF [m/s]', 'VY_EF [m/s]', 'VZ_EF [m/s]', 'V [m^2/s^2]', 'trend', 'seasonal_1', 'residual', 'unresolved', 'seasonal_2', 'seasonal_3', 'seasonal_4', 'res_std', 'slope', 'intercept', 'se_slope', 'res', 'orbital_decay', 'se_orbital_decay', 'mean_altitude', 'a [m] TLE', 'Spacecraft ID (IMF)', 'Spacecraft ID (Plasma)', 'ae (Omni)', 'AL (Omni)', 'Au (Omni)', 'SymD (Omni)', 'SymH (Omni)', 'AsyD (Omni)', 'AsyH (Omni)', 'Percent Interpolated', 'Timeshift (seconds)', 'Time between observations (seconds)', '|avg B|', 'Flow Speed (km/s', 'Proton density (n/cc)', 'Temperature (K)', 'Alpha/Proton Ratio', 'Flow pressure (nPa)', 'Electric Field (Mv/m)', 'Plasma beta', 'Alfven mach number', 'Magnetosonic mach number', 'Vx Velocity (km/s)', 'Vy Velocity (km/s)', 'Vz Velocity (km/s)', 'Bx GSE', 'By GSE', 'Bz GSE', 'By GSM', 'Bz GSM', 'Spacecraft Position x', 'Spacecraft Position y', 'Spacecraft Position z', 'Bow Shock Nose Position x', 'Bow Shock Nose Position y', 'Bow Shock Nose Position z', 'RMS SD B scalar (nT)', 'RMS SD B vector (nT)', 'RMS Timeshift (seconds)', '# fine scale IMF points', '# fine scale Plasma points', 'Approximate Distance to SEL (Re)', 'F10.7 (LASP)', 'Kp (LASP)', 'ap (LASP)', 'Dst (nT) (LASP)', 'is_maneuver_day', 'DoY', 'is_missing_day', 'is_maneuver_day_extended', 'is_missing_day_extended', 'is_man_or_missing', 'is_maneuver_unresolved', 'is_maneuver_unresolved_10m_decay', 'is_maneuver_period_generic', 'orbital_decay_c', 'res_c', 'res_std_c', 'unresolved_c', 'mean_altitude_c', 'trend_c', 'residual_c', 'seasonal_1_c', 'seasonal_2_c', 'seasonal_3_c', 'seasonal_4_c', 'se_orbital_decay_c']\n",
      "SWMA_data columns: ['time', 'SVN', 'X_IN [m]', 'Y_IN [m]', 'Z_IN [m]', 'VX_IN [m/s]', 'VY_IN [m/s]', 'VZ_IN [m/s]', 'X_EF [m]', 'Y_EF [m]', 'Z_EF [m]', 'r [m]', 'lat_sph [deg]', 'lon_sph [deg]', 'lat_ell [deg]', 'lon_ell [deg]', 'h_ell [m]', 'u_sat [deg]', 'beta_sun [deg]', 'u_sun [deg]', 'a [m]', 'e [-]', 'i [deg]', 'Omega [deg]', 'omega [deg]', 'T0 [s]', 'rho [kg/m^3]', 'air_x [nm/s^2]', 'air_y [nm/s^2]', 'air_z [nm/s^2]', 'VX_EF [m/s]', 'VY_EF [m/s]', 'VZ_EF [m/s]', 'V [m^2/s^2]', 'trend', 'seasonal_1', 'residual', 'unresolved', 'seasonal_2', 'seasonal_3', 'seasonal_4', 'res_std', 'slope', 'intercept', 'se_slope', 'res', 'orbital_decay', 'se_orbital_decay', 'mean_altitude', 'a [m] TLE', 'Spacecraft ID (IMF)', 'Spacecraft ID (Plasma)', 'ae (Omni)', 'AL (Omni)', 'Au (Omni)', 'SymD (Omni)', 'SymH (Omni)', 'AsyD (Omni)', 'AsyH (Omni)', 'Percent Interpolated', 'Timeshift (seconds)', 'Time between observations (seconds)', '|avg B|', 'Flow Speed (km/s', 'Proton density (n/cc)', 'Temperature (K)', 'Alpha/Proton Ratio', 'Flow pressure (nPa)', 'Electric Field (Mv/m)', 'Plasma beta', 'Alfven mach number', 'Magnetosonic mach number', 'Vx Velocity (km/s)', 'Vy Velocity (km/s)', 'Vz Velocity (km/s)', 'Bx GSE', 'By GSE', 'Bz GSE', 'By GSM', 'Bz GSM', 'Spacecraft Position x', 'Spacecraft Position y', 'Spacecraft Position z', 'Bow Shock Nose Position x', 'Bow Shock Nose Position y', 'Bow Shock Nose Position z', 'RMS SD B scalar (nT)', 'RMS SD B vector (nT)', 'RMS Timeshift (seconds)', '# fine scale IMF points', '# fine scale Plasma points', 'Approximate Distance to SEL (Re)', 'F10.7 (LASP)', 'Kp (LASP)', 'ap (LASP)', 'Dst (nT) (LASP)', 'is_maneuver_day', 'DoY', 'is_missing_day', 'is_outlier_maneuver_day', 'is_maneuver_day_extended', 'is_missing_day_extended', 'is_man_or_missing', 'is_maneuver_unresolved', 'is_maneuver_unresolved_10m_decay', 'is_maneuver_period_generic', 'orbital_decay_c', 'res_c', 'res_std_c', 'unresolved_c', 'mean_altitude_c', 'trend_c', 'residual_c', 'seasonal_1_c', 'seasonal_2_c', 'seasonal_3_c', 'seasonal_4_c', 'se_orbital_decay_c']\n"
     ]
    }
   ],
   "source": [
    "print(\"GFOC_data columns:\", GFOC_data.columns.tolist())\n",
    "print(\"SWMA_data columns:\", SWMA_data.columns.tolist())"
   ]
  }
 ],
 "metadata": {
  "kernelspec": {
   "display_name": "mt_env",
   "language": "python",
   "name": "python3"
  },
  "language_info": {
   "codemirror_mode": {
    "name": "ipython",
    "version": 3
   },
   "file_extension": ".py",
   "mimetype": "text/x-python",
   "name": "python",
   "nbconvert_exporter": "python",
   "pygments_lexer": "ipython3",
   "version": "3.11.11"
  }
 },
 "nbformat": 4,
 "nbformat_minor": 5
}
