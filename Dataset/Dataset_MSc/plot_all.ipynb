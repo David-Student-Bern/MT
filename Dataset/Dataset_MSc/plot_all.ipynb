{
 "cells": [
  {
   "cell_type": "markdown",
   "metadata": {},
   "source": [
    "I want to save a figure with the plot of each feature against time (both for GFOC and SWMA) and the Residuals of the two."
   ]
  },
  {
   "cell_type": "code",
   "execution_count": 1,
   "metadata": {},
   "outputs": [],
   "source": [
    "import pandas as pd\n",
    "import matplotlib.pyplot as plt"
   ]
  },
  {
   "cell_type": "code",
   "execution_count": 2,
   "metadata": {},
   "outputs": [],
   "source": [
    "# Load the GOFC data more efficiently\n",
    "GFOC_dir = \"/home/dschwarz/Documents/MT/Dataset_MSc/GFOC_RDCDFI.csv\"\n",
    "GFOC_data = pd.read_csv(GFOC_dir, low_memory=True)\n",
    "\n",
    "# Load the SWMA data more efficiently\n",
    "SWMA_dir = \"/home/dschwarz/Documents/MT/Dataset_MSc/SWMA_RDAWFI.csv\"\n",
    "SWMA_data = pd.read_csv(SWMA_dir, low_memory=True)"
   ]
  },
  {
   "cell_type": "code",
   "execution_count": 6,
   "metadata": {},
   "outputs": [
    {
     "name": "stdout",
     "output_type": "stream",
     "text": [
      "Error calculating residuals for feature 'DoY': could not convert string to float: '2023-002'\n",
      "Feature 'is_outlier_maneuver_day' not found in both datasets.\n"
     ]
    }
   ],
   "source": [
    "import matplotlib.dates as mdates\n",
    "\n",
    "# =========================== Input ===================================\n",
    "start, end = 0, -1  # Define the interval for plotting\n",
    "\n",
    "# Add an option for monthly, daily, or hourly ticks\n",
    "tick_interval = 'monthly'  # Change to 'monthly', 'daily', or 'hourly'\n",
    "tick_step = 2  # Step for the ticks (e.g., every month =1, every 2 months = 2, etc)\n",
    "\n",
    "# features 'SVN', 'X_IN [m]', 'Y_IN [m]', 'Z_IN [m]', 'VX_IN [m/s]', 'VY_IN [m/s]', 'VZ_IN [m/s]', 'X_EF [m]', 'Y_EF [m]', 'Z_EF [m]', 'r [m]', 'lat_sph [deg]', 'lon_sph [deg]', 'lat_ell [deg]', 'lon_ell [deg]', 'h_ell [m]', 'u_sat [deg]', 'beta_sun [deg]', 'u_sun [deg]', 'a [m]', 'e [-]', 'i [deg]', 'Omega [deg]', 'omega [deg]', 'T0 [s]', 'rho [kg/m^3]', 'air_x [nm/s^2]', 'air_y [nm/s^2]', 'air_z [nm/s^2]', 'VX_EF [m/s]', 'VY_EF [m/s]', 'VZ_EF [m/s]', 'V [m^2/s^2]', 'trend', 'seasonal_1', 'residual', 'unresolved', 'seasonal_2', 'seasonal_3', 'seasonal_4', 'res_std', 'slope', 'intercept', 'se_slope', 'res', 'orbital_decay', 'se_orbital_decay', 'mean_altitude', 'a [m] TLE', 'Spacecraft ID (IMF)', 'Spacecraft ID (Plasma)', 'ae (Omni)', 'AL (Omni)', 'Au (Omni)', 'SymD (Omni)', 'SymH (Omni)', 'AsyD (Omni)', 'AsyH (Omni)', 'Percent Interpolated', 'Timeshift (seconds)', 'Time between observations (seconds)', '|avg B|', 'Flow Speed (km/s', 'Proton density (n/cc)', 'Temperature (K)', 'Alpha/Proton Ratio', 'Flow pressure (nPa)', 'Electric Field (Mv/m)', 'Plasma beta', 'Alfven mach number', 'Magnetosonic mach number', 'Vx Velocity (km/s)', 'Vy Velocity (km/s)', 'Vz Velocity (km/s)', 'Bx GSE', 'By GSE', 'Bz GSE', 'By GSM', 'Bz GSM', 'Spacecraft Position x', 'Spacecraft Position y', 'Spacecraft Position z', 'Bow Shock Nose Position x', 'Bow Shock Nose Position y', 'Bow Shock Nose Position z', 'RMS SD B scalar (nT)', 'RMS SD B vector (nT)', 'RMS Timeshift (seconds)', '# fine scale IMF points', '# fine scale Plasma points', 'Approximate Distance to SEL (Re)', 'F10.7 (LASP)', 'Kp (LASP)', 'ap (LASP)', 'Dst (nT) (LASP)', 'is_maneuver_day', \n",
    "features = ['DoY', 'is_missing_day', 'is_outlier_maneuver_day', 'is_maneuver_day_extended', 'is_missing_day_extended', 'is_man_or_missing', 'is_maneuver_unresolved', 'is_maneuver_unresolved_10m_decay', 'is_maneuver_period_generic', 'orbital_decay_c', 'res_c', 'res_std_c', 'unresolved_c', 'mean_altitude_c', 'trend_c', 'residual_c', 'seasonal_1_c', 'seasonal_2_c', 'seasonal_3_c', 'seasonal_4_c', 'se_orbital_decay_c']\n",
    "# fname  'SVN', 'X_IN ', 'Y_IN', 'Z_IN', 'VX_IN', 'VY_IN', 'VZ_IN', 'X_EF', 'Y_EF', 'Z_EF', 'r', 'lat_sph', 'lon_sph', 'lat_ell', 'lon_ell', 'h_ell', 'u_sat', 'beta_sun', 'u_sun', 'a', 'e', 'i', 'Omega', 'omega', 'T0', 'rho', 'air_x', 'air_y', 'air_z', 'VX_EF', 'VY_EF', 'VZ_EF', 'V', 'trend', 'seasonal_1', 'residual', 'unresolved', 'seasonal_2', 'seasonal_3', 'seasonal_4', 'res_std', 'slope', 'intercept', 'se_slope', 'res', 'orbital_decay', 'se_orbital_decay', 'mean_altitude', 'a TLE', 'Spacecraft ID (IMF)', 'Spacecraft ID (Plasma)', 'ae (Omni)', 'AL (Omni)', 'Au (Omni)', 'SymD (Omni)', 'SymH (Omni)', 'AsyD (Omni)', 'AsyH (Omni)', 'Percent Interpolated', 'Timeshift (seconds)', 'Time between observations (seconds)', '|avg B|', 'Flow Speed (kms', 'Proton density (ncc)', 'Temperature (K)', 'AlphaProton Ratio', 'Flow pressure (nPa)', 'Electric Field (Mvm)', 'Plasma beta', 'Alfven mach number', 'Magnetosonic mach number', 'Vx Velocity (kms)', 'Vy Velocity (kms)', 'Vz Velocity (kms)', 'Bx GSE', 'By GSE', 'Bz GSE', 'By GSM', 'Bz GSM', 'Spacecraft Position x', 'Spacecraft Position y', 'Spacecraft Position z', 'Bow Shock Nose Position x', 'Bow Shock Nose Position y', 'Bow Shock Nose Position z', 'RMS SD B scalar (nT)', 'RMS SD B vector (nT)', 'RMS Timeshift (seconds)', 'No fine scale IMF points', 'No fine scale Plasma points', 'Approximate Distance to SEL (Re)', 'F10_7 (LASP)', 'Kp (LASP)', 'ap (LASP)', 'Dst (nT) (LASP)', 'is_maneuver_day', \n",
    "fname = ['DoY', 'is_missing_day', 'is_outlier_maneuver_day', 'is_maneuver_day_extended', 'is_missing_day_extended', 'is_man_or_missing', 'is_maneuver_unresolved', 'is_maneuver_unresolved_10m_decay', 'is_maneuver_period_generic', 'orbital_decay_c', 'res_c', 'res_std_c', 'unresolved_c', 'mean_altitude_c', 'trend_c', 'residual_c', 'seasonal_1_c', 'seasonal_2_c', 'seasonal_3_c', 'seasonal_4_c', 'se_orbital_decay_c']\n",
    "# =====================================================================\n",
    "\n",
    "# Helper function for tick formatting\n",
    "def format_ticks(ax, tick_interval, tick_step):\n",
    "    if tick_interval == 'monthly':\n",
    "        ax.xaxis.set_major_locator(mdates.MonthLocator(interval=tick_step))\n",
    "        ax.xaxis.set_major_formatter(mdates.DateFormatter('%Y-%b'))\n",
    "    elif tick_interval == 'daily':\n",
    "        ax.xaxis.set_major_locator(mdates.DayLocator(interval=tick_step))\n",
    "        ax.xaxis.set_major_formatter(mdates.DateFormatter('%Y-%m-%d'))\n",
    "    elif tick_interval == 'hourly':\n",
    "        ax.xaxis.set_major_locator(mdates.HourLocator(interval=tick_step))\n",
    "        ax.xaxis.set_major_formatter(mdates.DateFormatter('%Y-%m-%d %H:%M'))\n",
    "    ax.tick_params(axis='x', rotation=60)\n",
    "\n",
    "# Time conversion\n",
    "GFOC_time = GFOC_data['time'][start:end]\n",
    "GFOC_time = pd.to_datetime(GFOC_time, format='%Y-%m-%d %H:%M:%S')\n",
    "SWMA_time = SWMA_data['time'][start:end]\n",
    "SWMA_time = pd.to_datetime(SWMA_time, format='%Y-%m-%d %H:%M:%S')\n",
    "\n",
    "for i in range(len(features)):\n",
    "\n",
    "    feature = features[i]\n",
    "    # Check if the feature exists in both datasets \n",
    "    if feature not in GFOC_data.columns or feature not in SWMA_data.columns:\n",
    "        print(f\"Feature '{feature}' not found in both datasets.\")\n",
    "        continue\n",
    "    \n",
    "    #Residuals: GFOC - SWMA\n",
    "    try:\n",
    "        residuals = GFOC_data[feature][start:end].astype(float) - SWMA_data[feature][start:end].astype(float)\n",
    "    except ValueError as e:\n",
    "        print(f\"Error calculating residuals for feature '{feature}': {e}\")\n",
    "        continue\n",
    "\n",
    "    # Create a figure with three subplots\n",
    "    fig, axs = plt.subplots(3, 1, figsize=(10, 12))\n",
    "\n",
    "    # Plot |avg B| against time for GFOC_data\n",
    "    axs[0].plot(GFOC_time, GFOC_data[feature][start:end], 'k', label='GFOC: ' + feature + ' vs Time')\n",
    "    axs[0].set_title('GFOC: Plot of ' + feature + ' against Time')\n",
    "    axs[0].set_ylabel(feature)\n",
    "    axs[0].legend()\n",
    "    axs[0].grid()\n",
    "    format_ticks(axs[0], tick_interval, tick_step)\n",
    "\n",
    "    # Plot |avg B| against time for SWMA_data\n",
    "    axs[1].plot(SWMA_time, SWMA_data[feature][start:end], 'b', label='SWMA: ' + feature + ' vs Time')\n",
    "    axs[1].set_title('SWMA: Plot of ' + feature + ' against Time')\n",
    "    axs[1].set_ylabel(feature)\n",
    "    axs[1].legend()\n",
    "    axs[1].grid()\n",
    "    format_ticks(axs[1], tick_interval, tick_step)\n",
    "\n",
    "    # Plot residuals against time\n",
    "    axs[2].plot(GFOC_time, residuals, 'r', label='Residuals: GFOC - SWMA')\n",
    "    axs[2].set_title('Residuals: GFOC - SWMA of ' + feature + ' against Time')\n",
    "    axs[2].set_ylabel(feature + ' Residuals')\n",
    "    axs[2].legend()\n",
    "    axs[2].grid()\n",
    "    format_ticks(axs[2], tick_interval, tick_step)\n",
    "\n",
    "    # Set the figure title\n",
    "    fig.suptitle('Analysis of ' + feature, fontsize=16)\n",
    "\n",
    "    plt.tight_layout(rect=[0, 0, 1, 0.96])  # Adjust layout to fit the title\n",
    "    plt.savefig(f'/home/dschwarz/Documents/MT/Dataset_MSc/Features/{str(i+96)}_{fname[i]}.png', dpi=300)\n",
    "    plt.close(fig)  # Close the figure to avoid RuntimeWarning for too many open figures"
   ]
  }
 ],
 "metadata": {
  "kernelspec": {
   "display_name": "base",
   "language": "python",
   "name": "python3"
  },
  "language_info": {
   "codemirror_mode": {
    "name": "ipython",
    "version": 3
   },
   "file_extension": ".py",
   "mimetype": "text/x-python",
   "name": "python",
   "nbconvert_exporter": "python",
   "pygments_lexer": "ipython3",
   "version": "3.12.7"
  }
 },
 "nbformat": 4,
 "nbformat_minor": 2
}
