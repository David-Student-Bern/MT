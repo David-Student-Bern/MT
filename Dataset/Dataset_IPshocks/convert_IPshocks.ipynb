{
 "cells": [
  {
   "cell_type": "code",
   "execution_count": 10,
   "id": "1d915d47",
   "metadata": {},
   "outputs": [
    {
     "name": "stdout",
     "output_type": "stream",
     "text": [
      "   Year  Month  Day  Hour  Minute  Second Spacecraft    SC_X    SC_Y  SC_Z  \\\n",
      "0  2024      3   25    10       4      50       Wind   196.9  -36.99 -9.75   \n",
      "1  2024      3   24    14      13      13       Wind  196.99  -39.81 -9.58   \n",
      "2  2024      2   24    16      51      16       OMNI   12.38   -0.74 -1.17   \n",
      "3  2024      2   24    16      22      24       Wind  213.48 -101.45  0.72   \n",
      "4  2024      2   13     1      45      48       Wind  228.44   -97.3   5.4   \n",
      "\n",
      "   ... V_Alfven_up V_magnetosonic_up  Plasma_beta_up  Shock_normal_X  \\\n",
      "0  ...       42.63             66.67            1.74            0.96   \n",
      "1  ...       58.62             94.27            1.91           -0.31   \n",
      "2  ...       44.60             65.64            1.40           -0.88   \n",
      "3  ...       43.25             64.74            1.49           -0.82   \n",
      "4  ...       44.54             69.42            1.72           -0.53   \n",
      "\n",
      "   Shock_normal_Y  Shock_normal_Z  Shock_theta_deg  Shock_speed  Mach_number  \\\n",
      "0            0.26           -0.15            78.80       660.67         1.44   \n",
      "1           -0.60           -0.73            73.50       348.22         1.76   \n",
      "2           -0.01            0.48            37.16       388.52         1.56   \n",
      "3            0.03            0.57            39.40       386.60         1.82   \n",
      "4            0.17            0.84            82.08       365.52         1.75   \n",
      "\n",
      "                 Time  \n",
      "0 2024-03-25 10:04:50  \n",
      "1 2024-03-24 14:13:13  \n",
      "2 2024-02-24 16:51:16  \n",
      "3 2024-02-24 16:22:24  \n",
      "4 2024-02-13 01:45:48  \n",
      "\n",
      "[5 rows x 42 columns]\n"
     ]
    }
   ],
   "source": [
    "import pandas as pd\n",
    "\n",
    "# Define column names from the metadata\n",
    "column_names = [\n",
    "    'Year', 'Month', 'Day', 'Hour', 'Minute', 'Second',\n",
    "    'Spacecraft',\n",
    "    'SC_X', 'SC_Y', 'SC_Z',\n",
    "    'Coordinate_System', 'Shock_Type',\n",
    "    'B_upstream', 'Bx_up', 'By_up', 'Bz_up',\n",
    "    'B_downstream', 'Bx_down', 'By_down', 'Bz_down',\n",
    "    'B_ratio',\n",
    "    'V_up', 'Vx_up', 'Vy_up', 'Vz_up',\n",
    "    'V_down', 'Vx_down', 'Vy_down', 'Vz_down',\n",
    "    'Speed_jump',\n",
    "    'Density_ratio', 'Temp_ratio',\n",
    "    'V_Alfven_up', 'V_magnetosonic_up', 'Plasma_beta_up',\n",
    "    'Shock_normal_X', 'Shock_normal_Y', 'Shock_normal_Z',\n",
    "    'Shock_theta_deg', 'Shock_speed', 'Mach_number'\n",
    "]\n",
    "\n",
    "# Read the .dat file, skipping the comment lines\n",
    "df = pd.read_csv(\n",
    "    'shocks_20250514_121541.dat',\n",
    "    sep='\\s+',\n",
    "    comment='#',\n",
    "    header=None,\n",
    "    names=column_names\n",
    ")\n",
    "\n",
    "# create new column 'Time' by combining Year, Month, Day, Hour, Minute, Second\n",
    "df['Time'] = pd.to_datetime(\n",
    "    df[['Year', 'Month', 'Day', 'Hour', 'Minute', 'Second']]\n",
    ")\n",
    "\n",
    "# rename 9999.99 to Nan\n",
    "df.replace(9999.99, pd.NA, inplace=True)\n",
    "\n",
    "# Preview the DataFrame\n",
    "print(df.head())\n",
    "\n",
    "# Save the DataFrame to a CSV file\n",
    "df.to_csv('shocks_20250514_121541.csv', index=False)"
   ]
  }
 ],
 "metadata": {
  "kernelspec": {
   "display_name": "mt_env",
   "language": "python",
   "name": "python3"
  },
  "language_info": {
   "codemirror_mode": {
    "name": "ipython",
    "version": 3
   },
   "file_extension": ".py",
   "mimetype": "text/x-python",
   "name": "python",
   "nbconvert_exporter": "python",
   "pygments_lexer": "ipython3",
   "version": "3.11.11"
  }
 },
 "nbformat": 4,
 "nbformat_minor": 5
}
