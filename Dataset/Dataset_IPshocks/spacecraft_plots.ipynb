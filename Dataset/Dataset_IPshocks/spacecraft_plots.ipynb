{
 "cells": [
  {
   "cell_type": "code",
   "execution_count": 1,
   "id": "8dbe5b30",
   "metadata": {},
   "outputs": [],
   "source": [
    "import pandas as pd\n",
    "\n",
    "# import the data\n",
    "df = pd.read_csv('shocks_20250514_121541.csv')"
   ]
  },
  {
   "cell_type": "code",
   "execution_count": 2,
   "id": "34d8397a",
   "metadata": {},
   "outputs": [
    {
     "name": "stdout",
     "output_type": "stream",
     "text": [
      "['Wind' 'OMNI' 'ACE' 'DSCOVR']\n"
     ]
    }
   ],
   "source": [
    "Wind_df = df[df['Spacecraft'] == 'Wind']\n",
    "ACE_df = df[df['Spacecraft'] == 'ACE']\n",
    "DSCOVR_df = df[df['Spacecraft'] == 'DSCOVR']\n",
    "OMNI_df = df[df['Spacecraft'] == 'OMNI']\n",
    "\n",
    "# list all unique spacecraft\n",
    "print(df['Spacecraft'].unique())"
   ]
  },
  {
   "cell_type": "markdown",
   "id": "e9e84520",
   "metadata": {},
   "source": [
    "# GSE Plots"
   ]
  },
  {
   "cell_type": "code",
   "execution_count": 3,
   "id": "e9da8a69",
   "metadata": {},
   "outputs": [],
   "source": [
    "# create a 3d plot template\n",
    "import plotly.express as px\n",
    "import plotly.graph_objects as go\n",
    "import numpy as np\n",
    "\n",
    "def GSE_sc_plot(plot_df, plot_title):\n",
    "\n",
    "    # Convert datetime to float for linear scaling (days since epoch)\n",
    "    event_time_dt = pd.DatetimeIndex(plot_df['Time'])\n",
    "    event_time_numeric = (event_time_dt - pd.Timestamp(\"1970-01-01\")) / pd.Timedelta(days=1)\n",
    "\n",
    "    # Also create string labels for hover\n",
    "    event_dates_str = event_time_dt.strftime('%Y-%m-%d')\n",
    "\n",
    "    # Spherical to Cartesian\n",
    "    x = plot_df['SC_X']\n",
    "    y = plot_df['SC_Y']\n",
    "    z = plot_df['SC_Z']\n",
    "\n",
    "    ## Create DataFrame\n",
    "    df = pd.DataFrame({\n",
    "        'x': x,\n",
    "        'y': y,\n",
    "        'z': z,\n",
    "        'Event Time Numeric': event_time_numeric,\n",
    "        'Event Time Label': event_dates_str,\n",
    "        'Event Time': event_time_dt\n",
    "    })\n",
    "\n",
    "\n",
    "    # Main scatter plot with linear color mapping\n",
    "    fig = px.scatter_3d(\n",
    "        df,\n",
    "        x='x', y='y', z='z',\n",
    "        color='Event Time Numeric',  # linear numeric scale\n",
    "        color_continuous_scale='Viridis',\n",
    "        title=plot_title,\n",
    "        labels={\n",
    "            'X': 'X []',\n",
    "            'Y': 'Y []',\n",
    "            'Z': 'Z []',\n",
    "            'Event Time Numeric': 'Event Time'\n",
    "        },\n",
    "        hover_name='Event Time Label',\n",
    "        hover_data={'Event Time Numeric': False},\n",
    "        width=800,  # Set figure width\n",
    "        height=600  # Set figure height\n",
    "    )\n",
    "\n",
    "    fig.update_traces(marker=dict(size=4, opacity=0.4))\n",
    "\n",
    "    # Earth marker (larger, blue)\n",
    "    fig.add_trace(go.Scatter3d(\n",
    "        x=[0], y=[0], z=[0],\n",
    "        mode='markers+text',\n",
    "        marker=dict(size=10, color='blue', line=dict(color='black', width=2)),\n",
    "        text=['Earth'],\n",
    "        textposition='top center',\n",
    "        name='Earth',\n",
    "        hoverinfo='text'\n",
    "    ))\n",
    "\n",
    "    # Manually set colorbar ticks to formatted dates\n",
    "    tick_vals = np.linspace(event_time_numeric.min(), event_time_numeric.max(), 5)\n",
    "    tick_text = [pd.to_datetime(int(val), origin='unix', unit='D').strftime('%Y-%m') for val in tick_vals]\n",
    "\n",
    "    fig.update_layout(coloraxis_colorbar=dict(\n",
    "        title='Event Time',\n",
    "        tickvals=tick_vals,\n",
    "        ticktext=tick_text\n",
    "    ))\n",
    "\n",
    "    # L1 marker (smaller, red)\n",
    "    fig.add_trace(go.Scatter3d(\n",
    "        x=[238], y=[0], z=[0],\n",
    "        mode='markers+text',\n",
    "        marker=dict(size=5, color='red', line=dict(color='black', width=1)),\n",
    "        text=['L1'],\n",
    "        textposition='top center',\n",
    "        name='L1',\n",
    "        hoverinfo='text'\n",
    "    ))\n",
    "\n",
    "    # Customize layout\n",
    "    fig.update_traces(marker=dict(opacity=0.8))\n",
    "    fig.update_layout(\n",
    "        scene=dict(\n",
    "            xaxis=dict(title='X: [Earth radii]', range=[np.min(x), np.max(x)]),\n",
    "            yaxis=dict(title='Y: [Earth radii]', range=[np.min(y), np.max(y)]),\n",
    "            zaxis=dict(title='Z: [Earth radii]', range=[np.min(z), np.max(z)])\n",
    "        ),\n",
    "        legend=dict(x=0.8, y=0.9),\n",
    "        margin=dict(l=0, r=0, b=0, t=50)\n",
    "    )\n",
    "\n",
    "    fig.show()"
   ]
  },
  {
   "cell_type": "code",
   "execution_count": 7,
   "id": "0336cd85",
   "metadata": {},
   "outputs": [
    {
     "data": {
      "application/vnd.plotly.v1+json": {
       "config": {
        "plotlyServerURL": "https://plot.ly"
       },
       "data": [
        {
         "customdata": {
          "bdata": "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",
          "dtype": "f8",
          "shape": "425, 1"
         },
         "hovertemplate": "<b>%{hovertext}</b><br><br>x=%{x}<br>y=%{y}<br>z=%{z}<extra></extra>",
         "hovertext": [
          "2024-03-25",
          "2024-03-24",
          "2024-02-24",
          "2024-02-13",
          "2024-02-11",
          "2024-02-08",
          "2024-01-25",
          "2024-01-03",
          "2024-01-03",
          "2023-12-28",
          "2023-12-17",
          "2023-12-15",
          "2023-12-13",
          "2023-11-30",
          "2023-11-25",
          "2023-11-13",
          "2023-11-12",
          "2023-11-05",
          "2023-11-05",
          "2023-10-27",
          "2023-10-18",
          "2023-10-13",
          "2023-10-03",
          "2023-09-24",
          "2023-09-18",
          "2023-09-17",
          "2023-09-05",
          "2023-08-18",
          "2023-08-07",
          "2023-07-13",
          "2023-06-16",
          "2023-06-07",
          "2023-05-12",
          "2023-05-09",
          "2023-05-06",
          "2023-04-23",
          "2023-04-18",
          "2023-04-09",
          "2023-03-15",
          "2023-02-26",
          "2023-02-20",
          "2023-02-14",
          "2023-02-01",
          "2023-01-23",
          "2023-01-17",
          "2022-08-29",
          "2022-08-19",
          "2022-08-17",
          "2022-07-23",
          "2022-07-18",
          "2022-07-11",
          "2022-07-07",
          "2022-06-15",
          "2022-06-06",
          "2022-05-19",
          "2022-05-01",
          "2022-04-12",
          "2022-03-13",
          "2022-02-11",
          "2022-02-09",
          "2022-02-01",
          "2022-01-21",
          "2022-01-18",
          "2022-01-15",
          "2022-01-09",
          "2022-01-08",
          "2021-12-30",
          "2021-12-27",
          "2021-12-20",
          "2021-12-19",
          "2021-11-27",
          "2021-11-03",
          "2021-10-31",
          "2021-10-12",
          "2021-10-05",
          "2021-09-17",
          "2021-08-29",
          "2021-08-27",
          "2021-07-15",
          "2021-07-05",
          "2021-06-02",
          "2021-05-26",
          "2021-05-17",
          "2021-05-12",
          "2021-04-24",
          "2021-01-11",
          "2020-12-10",
          "2020-10-24",
          "2020-10-19",
          "2020-09-20",
          "2020-06-30",
          "2020-04-20",
          "2020-04-14",
          "2020-02-18",
          "2019-11-22",
          "2019-11-16",
          "2019-09-27",
          "2019-09-24",
          "2019-09-24",
          "2019-09-01",
          "2019-08-20",
          "2019-07-27",
          "2019-07-08",
          "2019-06-08",
          "2019-05-26",
          "2019-03-24",
          "2019-02-01",
          "2019-01-25",
          "2019-01-22",
          "2018-05-08",
          "2018-05-06",
          "2018-05-05",
          "2018-04-19",
          "2018-03-09",
          "2018-02-15",
          "2018-01-09",
          "2018-01-08",
          "2017-12-05",
          "2017-10-21",
          "2017-09-14",
          "2017-09-12",
          "2017-09-07",
          "2017-08-31",
          "2017-08-31",
          "2017-08-31",
          "2017-08-29",
          "2017-08-22",
          "2017-07-18",
          "2017-07-16",
          "2017-07-11",
          "2017-07-08",
          "2017-07-01",
          "2017-05-30",
          "2017-05-27",
          "2017-05-20",
          "2017-02-24",
          "2017-01-27",
          "2017-01-05",
          "2016-12-31",
          "2016-11-09",
          "2016-10-12",
          "2016-09-08",
          "2016-08-03",
          "2016-07-29",
          "2016-07-19",
          "2016-04-14",
          "2016-04-13",
          "2016-03-11",
          "2016-03-11",
          "2016-03-07",
          "2016-02-13",
          "2016-01-21",
          "2016-01-18",
          "2015-12-31",
          "2015-12-19",
          "2015-12-14",
          "2015-11-18",
          "2015-11-06",
          "2015-11-04",
          "2015-11-03",
          "2015-11-03",
          "2015-10-24",
          "2015-09-20",
          "2015-08-15",
          "2015-08-07",
          "2015-06-27",
          "2015-06-24",
          "2015-06-22",
          "2015-06-22",
          "2015-06-21",
          "2015-06-12",
          "2015-06-08",
          "2015-05-06",
          "2015-05-01",
          "2015-04-16",
          "2015-04-03",
          "2015-03-31",
          "2015-03-21",
          "2015-03-17",
          "2015-03-11",
          "2015-02-02",
          "2015-01-07",
          "2014-12-22",
          "2014-12-21",
          "2014-12-21",
          "2014-09-12",
          "2014-09-11",
          "2014-08-19",
          "2014-07-14",
          "2014-07-02",
          "2014-06-23",
          "2014-06-21",
          "2014-05-03",
          "2014-04-20",
          "2014-04-19",
          "2014-03-25",
          "2014-02-27",
          "2014-02-20",
          "2014-02-19",
          "2014-02-18",
          "2014-02-17",
          "2014-02-15",
          "2014-02-13",
          "2014-02-07",
          "2014-01-09",
          "2014-01-07",
          "2013-12-13",
          "2013-12-08",
          "2013-11-09",
          "2013-10-29",
          "2013-10-08",
          "2013-10-07",
          "2013-10-02",
          "2013-09-02",
          "2013-08-22",
          "2013-08-22",
          "2013-07-18",
          "2013-07-12",
          "2013-07-09",
          "2013-06-30",
          "2013-06-27",
          "2013-06-23",
          "2013-06-02",
          "2013-05-31",
          "2013-05-25",
          "2013-05-24",
          "2013-05-19",
          "2013-04-13",
          "2013-03-17",
          "2013-02-16",
          "2013-02-13",
          "2013-01-26",
          "2013-01-25",
          "2012-12-16",
          "2012-12-14",
          "2012-12-04",
          "2012-11-26",
          "2012-11-23",
          "2012-11-14",
          "2012-11-12",
          "2012-10-31",
          "2012-10-13",
          "2012-10-11",
          "2012-10-09",
          "2012-10-08",
          "2012-09-30",
          "2012-09-30",
          "2012-09-13",
          "2012-09-12",
          "2012-09-03",
          "2012-08-10",
          "2012-07-21",
          "2012-07-20",
          "2012-07-14",
          "2012-06-30",
          "2012-06-16",
          "2012-06-16",
          "2012-05-21",
          "2012-05-20",
          "2012-05-15",
          "2012-05-12",
          "2012-05-09",
          "2012-04-25",
          "2012-04-23",
          "2012-04-13",
          "2012-03-24",
          "2012-03-15",
          "2012-03-12",
          "2012-03-09",
          "2012-03-08",
          "2012-03-07",
          "2012-03-07",
          "2012-02-22",
          "2012-02-20",
          "2012-01-30",
          "2012-01-24",
          "2012-01-22",
          "2012-01-21",
          "2011-12-18",
          "2011-12-02",
          "2011-11-28",
          "2011-11-12",
          "2011-10-30",
          "2011-10-24",
          "2011-10-05",
          "2011-09-26",
          "2011-09-25",
          "2011-09-17",
          "2011-09-10",
          "2011-09-09",
          "2011-08-05",
          "2011-08-05",
          "2011-07-11",
          "2011-06-23",
          "2011-06-17",
          "2011-06-11",
          "2011-06-10",
          "2011-06-04",
          "2011-05-29",
          "2011-04-19",
          "2011-04-18",
          "2011-04-12",
          "2011-04-02",
          "2011-03-29",
          "2011-03-02",
          "2011-02-18",
          "2011-02-14",
          "2011-02-05",
          "2011-02-04",
          "2010-10-19",
          "2010-09-24",
          "2010-08-03",
          "2010-06-01",
          "2010-05-28",
          "2010-04-11",
          "2010-04-05",
          "2010-04-02",
          "2010-02-15",
          "2010-02-10",
          "2009-10-21",
          "2009-10-10",
          "2009-10-04",
          "2009-09-03",
          "2009-08-30",
          "2009-07-22",
          "2009-07-14",
          "2009-06-27",
          "2009-06-24",
          "2009-06-24",
          "2009-05-28",
          "2009-04-23",
          "2009-03-03",
          "2009-02-14",
          "2009-02-03",
          "2009-01-14",
          "2008-11-25",
          "2008-11-24",
          "2008-10-28",
          "2008-10-11",
          "2008-08-10",
          "2008-07-22",
          "2008-05-28",
          "2008-03-09",
          "2008-01-06",
          "2007-12-17",
          "2007-11-19",
          "2007-10-25",
          "2007-10-25",
          "2007-09-29",
          "2007-09-20",
          "2007-08-10",
          "2007-07-27",
          "2007-05-07",
          "2007-04-23",
          "2007-01-02",
          "2006-12-18",
          "2006-12-16",
          "2006-12-14",
          "2006-12-08",
          "2006-11-10",
          "2006-10-21",
          "2006-10-07",
          "2006-10-01",
          "2006-09-03",
          "2006-08-19",
          "2006-08-18",
          "2006-08-17",
          "2006-08-07",
          "2006-07-28",
          "2006-07-09",
          "2006-05-07",
          "2006-04-28",
          "2006-04-13",
          "2006-04-09",
          "2006-03-15",
          "2006-03-09",
          "2006-01-01",
          "2005-12-30",
          "2005-12-12",
          "2005-10-08",
          "2005-09-15",
          "2005-09-12",
          "2005-09-09",
          "2005-09-02",
          "2005-08-24",
          "2005-08-23",
          "2005-08-13",
          "2005-08-01",
          "2005-07-17",
          "2005-07-16",
          "2005-07-16",
          "2005-07-10",
          "2005-06-16",
          "2005-06-14",
          "2005-06-12",
          "2005-05-28",
          "2005-05-15",
          "2005-05-08",
          "2005-05-06",
          "2005-05-01",
          "2005-03-25",
          "2005-01-18",
          "2005-01-17",
          "2005-01-16",
          "2005-01-01",
          "2004-12-11",
          "2004-12-05",
          "2004-12-05",
          "2004-11-21",
          "2004-11-11",
          "2004-11-09",
          "2004-11-09",
          "2004-11-08",
          "2004-11-07",
          "2004-11-07",
          "2004-11-07",
          "2004-10-27",
          "2004-10-02",
          "2004-09-22",
          "2004-08-01",
          "2004-07-30",
          "2004-07-26",
          "2004-07-24",
          "2004-07-22",
          "2004-07-12"
         ],
         "legendgroup": "",
         "marker": {
          "color": {
           "bdata": "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",
           "dtype": "f8"
          },
          "coloraxis": "coloraxis",
          "opacity": 0.8,
          "size": 4,
          "symbol": "circle"
         },
         "mode": "markers",
         "name": "",
         "scene": "scene",
         "showlegend": false,
         "type": "scatter3d",
         "x": {
          "bdata": "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",
          "dtype": "f8"
         },
         "y": {
          "bdata": "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",
          "dtype": "f8"
         },
         "z": {
          "bdata": "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",
          "dtype": "f8"
         }
        },
        {
         "hoverinfo": "text",
         "marker": {
          "color": "blue",
          "line": {
           "color": "black",
           "width": 2
          },
          "opacity": 0.8,
          "size": 10
         },
         "mode": "markers+text",
         "name": "Earth",
         "text": [
          "Earth"
         ],
         "textposition": "top center",
         "type": "scatter3d",
         "x": [
          0
         ],
         "y": [
          0
         ],
         "z": [
          0
         ]
        },
        {
         "hoverinfo": "text",
         "marker": {
          "color": "red",
          "line": {
           "color": "black",
           "width": 1
          },
          "opacity": 0.8,
          "size": 5
         },
         "mode": "markers+text",
         "name": "L1",
         "text": [
          "L1"
         ],
         "textposition": "top center",
         "type": "scatter3d",
         "x": [
          238
         ],
         "y": [
          0
         ],
         "z": [
          0
         ]
        }
       ],
       "layout": {
        "coloraxis": {
         "colorbar": {
          "ticktext": [
           "2004-07",
           "2009-06",
           "2014-05",
           "2019-04",
           "2024-03"
          ],
          "tickvals": {
           "bdata": "CBkqO5qhyEBi9TMdISXMQLvRPf+nqM9ACtejcBeW0UA3xajh2lfTQA==",
           "dtype": "f8"
          },
          "title": {
           "text": "Event Time"
          }
         },
         "colorscale": [
          [
           0,
           "#440154"
          ],
          [
           0.1111111111111111,
           "#482878"
          ],
          [
           0.2222222222222222,
           "#3e4989"
          ],
          [
           0.3333333333333333,
           "#31688e"
          ],
          [
           0.4444444444444444,
           "#26828e"
          ],
          [
           0.5555555555555556,
           "#1f9e89"
          ],
          [
           0.6666666666666666,
           "#35b779"
          ],
          [
           0.7777777777777778,
           "#6ece58"
          ],
          [
           0.8888888888888888,
           "#b5de2b"
          ],
          [
           1,
           "#fde725"
          ]
         ]
        },
        "height": 600,
        "legend": {
         "tracegroupgap": 0,
         "x": 0.8,
         "y": 0.9
        },
        "margin": {
         "b": 0,
         "l": 0,
         "r": 0,
         "t": 50
        },
        "scene": {
         "domain": {
          "x": [
           0,
           1
          ],
          "y": [
           0,
           1
          ]
         },
         "xaxis": {
          "range": [
           193.93,
           266
          ],
          "title": {
           "text": "X: [Earth radii]"
          }
         },
         "yaxis": {
          "range": [
           -102.6,
           104.68
          ],
          "title": {
           "text": "Y: [Earth radii]"
          }
         },
         "zaxis": {
          "range": [
           -20.68,
           25.28
          ],
          "title": {
           "text": "Z: [Earth radii]"
          }
         }
        },
        "template": {
         "data": {
          "bar": [
           {
            "error_x": {
             "color": "#2a3f5f"
            },
            "error_y": {
             "color": "#2a3f5f"
            },
            "marker": {
             "line": {
              "color": "#E5ECF6",
              "width": 0.5
             },
             "pattern": {
              "fillmode": "overlay",
              "size": 10,
              "solidity": 0.2
             }
            },
            "type": "bar"
           }
          ],
          "barpolar": [
           {
            "marker": {
             "line": {
              "color": "#E5ECF6",
              "width": 0.5
             },
             "pattern": {
              "fillmode": "overlay",
              "size": 10,
              "solidity": 0.2
             }
            },
            "type": "barpolar"
           }
          ],
          "carpet": [
           {
            "aaxis": {
             "endlinecolor": "#2a3f5f",
             "gridcolor": "white",
             "linecolor": "white",
             "minorgridcolor": "white",
             "startlinecolor": "#2a3f5f"
            },
            "baxis": {
             "endlinecolor": "#2a3f5f",
             "gridcolor": "white",
             "linecolor": "white",
             "minorgridcolor": "white",
             "startlinecolor": "#2a3f5f"
            },
            "type": "carpet"
           }
          ],
          "choropleth": [
           {
            "colorbar": {
             "outlinewidth": 0,
             "ticks": ""
            },
            "type": "choropleth"
           }
          ],
          "contour": [
           {
            "colorbar": {
             "outlinewidth": 0,
             "ticks": ""
            },
            "colorscale": [
             [
              0,
              "#0d0887"
             ],
             [
              0.1111111111111111,
              "#46039f"
             ],
             [
              0.2222222222222222,
              "#7201a8"
             ],
             [
              0.3333333333333333,
              "#9c179e"
             ],
             [
              0.4444444444444444,
              "#bd3786"
             ],
             [
              0.5555555555555556,
              "#d8576b"
             ],
             [
              0.6666666666666666,
              "#ed7953"
             ],
             [
              0.7777777777777778,
              "#fb9f3a"
             ],
             [
              0.8888888888888888,
              "#fdca26"
             ],
             [
              1,
              "#f0f921"
             ]
            ],
            "type": "contour"
           }
          ],
          "contourcarpet": [
           {
            "colorbar": {
             "outlinewidth": 0,
             "ticks": ""
            },
            "type": "contourcarpet"
           }
          ],
          "heatmap": [
           {
            "colorbar": {
             "outlinewidth": 0,
             "ticks": ""
            },
            "colorscale": [
             [
              0,
              "#0d0887"
             ],
             [
              0.1111111111111111,
              "#46039f"
             ],
             [
              0.2222222222222222,
              "#7201a8"
             ],
             [
              0.3333333333333333,
              "#9c179e"
             ],
             [
              0.4444444444444444,
              "#bd3786"
             ],
             [
              0.5555555555555556,
              "#d8576b"
             ],
             [
              0.6666666666666666,
              "#ed7953"
             ],
             [
              0.7777777777777778,
              "#fb9f3a"
             ],
             [
              0.8888888888888888,
              "#fdca26"
             ],
             [
              1,
              "#f0f921"
             ]
            ],
            "type": "heatmap"
           }
          ],
          "histogram": [
           {
            "marker": {
             "pattern": {
              "fillmode": "overlay",
              "size": 10,
              "solidity": 0.2
             }
            },
            "type": "histogram"
           }
          ],
          "histogram2d": [
           {
            "colorbar": {
             "outlinewidth": 0,
             "ticks": ""
            },
            "colorscale": [
             [
              0,
              "#0d0887"
             ],
             [
              0.1111111111111111,
              "#46039f"
             ],
             [
              0.2222222222222222,
              "#7201a8"
             ],
             [
              0.3333333333333333,
              "#9c179e"
             ],
             [
              0.4444444444444444,
              "#bd3786"
             ],
             [
              0.5555555555555556,
              "#d8576b"
             ],
             [
              0.6666666666666666,
              "#ed7953"
             ],
             [
              0.7777777777777778,
              "#fb9f3a"
             ],
             [
              0.8888888888888888,
              "#fdca26"
             ],
             [
              1,
              "#f0f921"
             ]
            ],
            "type": "histogram2d"
           }
          ],
          "histogram2dcontour": [
           {
            "colorbar": {
             "outlinewidth": 0,
             "ticks": ""
            },
            "colorscale": [
             [
              0,
              "#0d0887"
             ],
             [
              0.1111111111111111,
              "#46039f"
             ],
             [
              0.2222222222222222,
              "#7201a8"
             ],
             [
              0.3333333333333333,
              "#9c179e"
             ],
             [
              0.4444444444444444,
              "#bd3786"
             ],
             [
              0.5555555555555556,
              "#d8576b"
             ],
             [
              0.6666666666666666,
              "#ed7953"
             ],
             [
              0.7777777777777778,
              "#fb9f3a"
             ],
             [
              0.8888888888888888,
              "#fdca26"
             ],
             [
              1,
              "#f0f921"
             ]
            ],
            "type": "histogram2dcontour"
           }
          ],
          "mesh3d": [
           {
            "colorbar": {
             "outlinewidth": 0,
             "ticks": ""
            },
            "type": "mesh3d"
           }
          ],
          "parcoords": [
           {
            "line": {
             "colorbar": {
              "outlinewidth": 0,
              "ticks": ""
             }
            },
            "type": "parcoords"
           }
          ],
          "pie": [
           {
            "automargin": true,
            "type": "pie"
           }
          ],
          "scatter": [
           {
            "fillpattern": {
             "fillmode": "overlay",
             "size": 10,
             "solidity": 0.2
            },
            "type": "scatter"
           }
          ],
          "scatter3d": [
           {
            "line": {
             "colorbar": {
              "outlinewidth": 0,
              "ticks": ""
             }
            },
            "marker": {
             "colorbar": {
              "outlinewidth": 0,
              "ticks": ""
             }
            },
            "type": "scatter3d"
           }
          ],
          "scattercarpet": [
           {
            "marker": {
             "colorbar": {
              "outlinewidth": 0,
              "ticks": ""
             }
            },
            "type": "scattercarpet"
           }
          ],
          "scattergeo": [
           {
            "marker": {
             "colorbar": {
              "outlinewidth": 0,
              "ticks": ""
             }
            },
            "type": "scattergeo"
           }
          ],
          "scattergl": [
           {
            "marker": {
             "colorbar": {
              "outlinewidth": 0,
              "ticks": ""
             }
            },
            "type": "scattergl"
           }
          ],
          "scattermap": [
           {
            "marker": {
             "colorbar": {
              "outlinewidth": 0,
              "ticks": ""
             }
            },
            "type": "scattermap"
           }
          ],
          "scattermapbox": [
           {
            "marker": {
             "colorbar": {
              "outlinewidth": 0,
              "ticks": ""
             }
            },
            "type": "scattermapbox"
           }
          ],
          "scatterpolar": [
           {
            "marker": {
             "colorbar": {
              "outlinewidth": 0,
              "ticks": ""
             }
            },
            "type": "scatterpolar"
           }
          ],
          "scatterpolargl": [
           {
            "marker": {
             "colorbar": {
              "outlinewidth": 0,
              "ticks": ""
             }
            },
            "type": "scatterpolargl"
           }
          ],
          "scatterternary": [
           {
            "marker": {
             "colorbar": {
              "outlinewidth": 0,
              "ticks": ""
             }
            },
            "type": "scatterternary"
           }
          ],
          "surface": [
           {
            "colorbar": {
             "outlinewidth": 0,
             "ticks": ""
            },
            "colorscale": [
             [
              0,
              "#0d0887"
             ],
             [
              0.1111111111111111,
              "#46039f"
             ],
             [
              0.2222222222222222,
              "#7201a8"
             ],
             [
              0.3333333333333333,
              "#9c179e"
             ],
             [
              0.4444444444444444,
              "#bd3786"
             ],
             [
              0.5555555555555556,
              "#d8576b"
             ],
             [
              0.6666666666666666,
              "#ed7953"
             ],
             [
              0.7777777777777778,
              "#fb9f3a"
             ],
             [
              0.8888888888888888,
              "#fdca26"
             ],
             [
              1,
              "#f0f921"
             ]
            ],
            "type": "surface"
           }
          ],
          "table": [
           {
            "cells": {
             "fill": {
              "color": "#EBF0F8"
             },
             "line": {
              "color": "white"
             }
            },
            "header": {
             "fill": {
              "color": "#C8D4E3"
             },
             "line": {
              "color": "white"
             }
            },
            "type": "table"
           }
          ]
         },
         "layout": {
          "annotationdefaults": {
           "arrowcolor": "#2a3f5f",
           "arrowhead": 0,
           "arrowwidth": 1
          },
          "autotypenumbers": "strict",
          "coloraxis": {
           "colorbar": {
            "outlinewidth": 0,
            "ticks": ""
           }
          },
          "colorscale": {
           "diverging": [
            [
             0,
             "#8e0152"
            ],
            [
             0.1,
             "#c51b7d"
            ],
            [
             0.2,
             "#de77ae"
            ],
            [
             0.3,
             "#f1b6da"
            ],
            [
             0.4,
             "#fde0ef"
            ],
            [
             0.5,
             "#f7f7f7"
            ],
            [
             0.6,
             "#e6f5d0"
            ],
            [
             0.7,
             "#b8e186"
            ],
            [
             0.8,
             "#7fbc41"
            ],
            [
             0.9,
             "#4d9221"
            ],
            [
             1,
             "#276419"
            ]
           ],
           "sequential": [
            [
             0,
             "#0d0887"
            ],
            [
             0.1111111111111111,
             "#46039f"
            ],
            [
             0.2222222222222222,
             "#7201a8"
            ],
            [
             0.3333333333333333,
             "#9c179e"
            ],
            [
             0.4444444444444444,
             "#bd3786"
            ],
            [
             0.5555555555555556,
             "#d8576b"
            ],
            [
             0.6666666666666666,
             "#ed7953"
            ],
            [
             0.7777777777777778,
             "#fb9f3a"
            ],
            [
             0.8888888888888888,
             "#fdca26"
            ],
            [
             1,
             "#f0f921"
            ]
           ],
           "sequentialminus": [
            [
             0,
             "#0d0887"
            ],
            [
             0.1111111111111111,
             "#46039f"
            ],
            [
             0.2222222222222222,
             "#7201a8"
            ],
            [
             0.3333333333333333,
             "#9c179e"
            ],
            [
             0.4444444444444444,
             "#bd3786"
            ],
            [
             0.5555555555555556,
             "#d8576b"
            ],
            [
             0.6666666666666666,
             "#ed7953"
            ],
            [
             0.7777777777777778,
             "#fb9f3a"
            ],
            [
             0.8888888888888888,
             "#fdca26"
            ],
            [
             1,
             "#f0f921"
            ]
           ]
          },
          "colorway": [
           "#636efa",
           "#EF553B",
           "#00cc96",
           "#ab63fa",
           "#FFA15A",
           "#19d3f3",
           "#FF6692",
           "#B6E880",
           "#FF97FF",
           "#FECB52"
          ],
          "font": {
           "color": "#2a3f5f"
          },
          "geo": {
           "bgcolor": "white",
           "lakecolor": "white",
           "landcolor": "#E5ECF6",
           "showlakes": true,
           "showland": true,
           "subunitcolor": "white"
          },
          "hoverlabel": {
           "align": "left"
          },
          "hovermode": "closest",
          "mapbox": {
           "style": "light"
          },
          "paper_bgcolor": "white",
          "plot_bgcolor": "#E5ECF6",
          "polar": {
           "angularaxis": {
            "gridcolor": "white",
            "linecolor": "white",
            "ticks": ""
           },
           "bgcolor": "#E5ECF6",
           "radialaxis": {
            "gridcolor": "white",
            "linecolor": "white",
            "ticks": ""
           }
          },
          "scene": {
           "xaxis": {
            "backgroundcolor": "#E5ECF6",
            "gridcolor": "white",
            "gridwidth": 2,
            "linecolor": "white",
            "showbackground": true,
            "ticks": "",
            "zerolinecolor": "white"
           },
           "yaxis": {
            "backgroundcolor": "#E5ECF6",
            "gridcolor": "white",
            "gridwidth": 2,
            "linecolor": "white",
            "showbackground": true,
            "ticks": "",
            "zerolinecolor": "white"
           },
           "zaxis": {
            "backgroundcolor": "#E5ECF6",
            "gridcolor": "white",
            "gridwidth": 2,
            "linecolor": "white",
            "showbackground": true,
            "ticks": "",
            "zerolinecolor": "white"
           }
          },
          "shapedefaults": {
           "line": {
            "color": "#2a3f5f"
           }
          },
          "ternary": {
           "aaxis": {
            "gridcolor": "white",
            "linecolor": "white",
            "ticks": ""
           },
           "baxis": {
            "gridcolor": "white",
            "linecolor": "white",
            "ticks": ""
           },
           "bgcolor": "#E5ECF6",
           "caxis": {
            "gridcolor": "white",
            "linecolor": "white",
            "ticks": ""
           }
          },
          "title": {
           "x": 0.05
          },
          "xaxis": {
           "automargin": true,
           "gridcolor": "white",
           "linecolor": "white",
           "ticks": "",
           "title": {
            "standoff": 15
           },
           "zerolinecolor": "white",
           "zerolinewidth": 2
          },
          "yaxis": {
           "automargin": true,
           "gridcolor": "white",
           "linecolor": "white",
           "ticks": "",
           "title": {
            "standoff": 15
           },
           "zerolinecolor": "white",
           "zerolinewidth": 2
          }
         }
        },
        "title": {
         "text": "Shock: Wind Spacecraft in GSE Coordinates"
        },
        "width": 800
       }
      }
     },
     "metadata": {},
     "output_type": "display_data"
    },
    {
     "data": {
      "application/vnd.plotly.v1+json": {
       "config": {
        "plotlyServerURL": "https://plot.ly"
       },
       "data": [
        {
         "customdata": {
          "bdata": "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",
          "dtype": "f8",
          "shape": "674, 1"
         },
         "hovertemplate": "<b>%{hovertext}</b><br><br>x=%{x}<br>y=%{y}<br>z=%{z}<extra></extra>",
         "hovertext": [
          "2024-03-25",
          "2024-03-24",
          "2024-02-24",
          "2024-02-13",
          "2024-02-11",
          "2024-02-08",
          "2024-01-25",
          "2024-01-03",
          "2024-01-03",
          "2023-12-28",
          "2023-12-17",
          "2023-12-15",
          "2023-12-13",
          "2023-11-30",
          "2023-11-25",
          "2023-11-13",
          "2023-11-12",
          "2023-11-05",
          "2023-11-05",
          "2023-10-27",
          "2023-10-18",
          "2023-10-13",
          "2023-10-03",
          "2023-09-24",
          "2023-09-18",
          "2023-09-17",
          "2023-09-05",
          "2023-08-18",
          "2023-08-07",
          "2023-07-13",
          "2023-06-16",
          "2023-06-07",
          "2023-05-12",
          "2023-05-09",
          "2023-05-06",
          "2023-04-23",
          "2023-04-18",
          "2023-04-09",
          "2023-03-15",
          "2023-02-26",
          "2023-02-20",
          "2023-02-14",
          "2023-02-01",
          "2023-01-23",
          "2023-01-17",
          "2022-08-29",
          "2022-08-19",
          "2022-08-17",
          "2022-07-23",
          "2022-07-18",
          "2022-07-11",
          "2022-07-07",
          "2022-06-15",
          "2022-06-06",
          "2022-05-19",
          "2022-05-01",
          "2022-04-12",
          "2022-03-13",
          "2022-02-11",
          "2022-02-09",
          "2022-02-01",
          "2022-01-21",
          "2022-01-18",
          "2022-01-15",
          "2022-01-09",
          "2022-01-08",
          "2021-12-30",
          "2021-12-27",
          "2021-12-20",
          "2021-12-19",
          "2021-11-27",
          "2021-11-03",
          "2021-10-31",
          "2021-10-12",
          "2021-10-05",
          "2021-09-17",
          "2021-08-29",
          "2021-08-27",
          "2021-07-15",
          "2021-07-05",
          "2021-06-02",
          "2021-05-26",
          "2021-05-17",
          "2021-05-12",
          "2021-04-24",
          "2021-01-11",
          "2020-12-10",
          "2020-10-24",
          "2020-10-19",
          "2020-09-20",
          "2020-06-30",
          "2020-04-20",
          "2020-04-14",
          "2020-02-18",
          "2019-11-22",
          "2019-11-16",
          "2019-09-27",
          "2019-09-24",
          "2019-09-24",
          "2019-09-01",
          "2019-08-20",
          "2019-07-27",
          "2019-07-08",
          "2019-06-08",
          "2019-05-26",
          "2019-03-24",
          "2019-02-01",
          "2019-01-25",
          "2019-01-22",
          "2018-05-08",
          "2018-05-06",
          "2018-05-05",
          "2018-04-19",
          "2018-03-09",
          "2018-02-15",
          "2018-01-09",
          "2018-01-08",
          "2017-12-05",
          "2017-10-21",
          "2017-09-14",
          "2017-09-12",
          "2017-09-07",
          "2017-08-31",
          "2017-08-31",
          "2017-08-31",
          "2017-08-29",
          "2017-08-22",
          "2017-07-18",
          "2017-07-16",
          "2017-07-11",
          "2017-07-08",
          "2017-07-01",
          "2017-05-30",
          "2017-05-27",
          "2017-05-20",
          "2017-02-24",
          "2017-01-27",
          "2017-01-05",
          "2016-12-31",
          "2016-11-09",
          "2016-10-12",
          "2016-09-08",
          "2016-08-03",
          "2016-07-29",
          "2016-07-19",
          "2016-04-14",
          "2016-04-13",
          "2016-03-11",
          "2016-03-11",
          "2016-03-07",
          "2016-02-13",
          "2016-01-21",
          "2016-01-18",
          "2015-12-31",
          "2015-12-19",
          "2015-12-14",
          "2015-11-18",
          "2015-11-06",
          "2015-11-04",
          "2015-11-03",
          "2015-11-03",
          "2015-10-24",
          "2015-09-20",
          "2015-08-15",
          "2015-08-07",
          "2015-06-27",
          "2015-06-24",
          "2015-06-22",
          "2015-06-22",
          "2015-06-21",
          "2015-06-12",
          "2015-06-08",
          "2015-05-06",
          "2015-05-01",
          "2015-04-16",
          "2015-04-03",
          "2015-03-31",
          "2015-03-21",
          "2015-03-17",
          "2015-03-11",
          "2015-02-02",
          "2015-01-07",
          "2014-12-22",
          "2014-12-21",
          "2014-12-21",
          "2014-09-12",
          "2014-09-11",
          "2014-08-19",
          "2014-07-14",
          "2014-07-02",
          "2014-06-23",
          "2014-06-21",
          "2014-05-03",
          "2014-04-20",
          "2014-04-19",
          "2014-03-25",
          "2014-02-27",
          "2014-02-20",
          "2014-02-19",
          "2014-02-18",
          "2014-02-17",
          "2014-02-15",
          "2014-02-13",
          "2014-02-07",
          "2014-01-09",
          "2014-01-07",
          "2013-12-13",
          "2013-12-08",
          "2013-11-09",
          "2013-10-29",
          "2013-10-08",
          "2013-10-07",
          "2013-10-02",
          "2013-09-02",
          "2013-08-22",
          "2013-08-22",
          "2013-07-18",
          "2013-07-12",
          "2013-07-09",
          "2013-06-30",
          "2013-06-27",
          "2013-06-23",
          "2013-06-02",
          "2013-05-31",
          "2013-05-25",
          "2013-05-24",
          "2013-05-19",
          "2013-04-13",
          "2013-03-17",
          "2013-02-16",
          "2013-02-13",
          "2013-01-26",
          "2013-01-25",
          "2012-12-16",
          "2012-12-14",
          "2012-12-04",
          "2012-11-26",
          "2012-11-23",
          "2012-11-14",
          "2012-11-12",
          "2012-10-31",
          "2012-10-13",
          "2012-10-11",
          "2012-10-09",
          "2012-10-08",
          "2012-09-30",
          "2012-09-30",
          "2012-09-13",
          "2012-09-12",
          "2012-09-03",
          "2012-08-10",
          "2012-07-21",
          "2012-07-20",
          "2012-07-14",
          "2012-06-30",
          "2012-06-16",
          "2012-06-16",
          "2012-05-21",
          "2012-05-20",
          "2012-05-15",
          "2012-05-12",
          "2012-05-09",
          "2012-04-25",
          "2012-04-23",
          "2012-04-13",
          "2012-03-24",
          "2012-03-15",
          "2012-03-12",
          "2012-03-09",
          "2012-03-08",
          "2012-03-07",
          "2012-03-07",
          "2012-02-22",
          "2012-02-20",
          "2012-01-30",
          "2012-01-24",
          "2012-01-22",
          "2012-01-21",
          "2011-12-18",
          "2011-12-02",
          "2011-11-28",
          "2011-11-12",
          "2011-10-30",
          "2011-10-24",
          "2011-10-05",
          "2011-09-26",
          "2011-09-25",
          "2011-09-17",
          "2011-09-10",
          "2011-09-09",
          "2011-08-05",
          "2011-08-05",
          "2011-07-11",
          "2011-06-23",
          "2011-06-17",
          "2011-06-11",
          "2011-06-10",
          "2011-06-04",
          "2011-05-29",
          "2011-04-19",
          "2011-04-18",
          "2011-04-12",
          "2011-04-02",
          "2011-03-29",
          "2011-03-02",
          "2011-02-18",
          "2011-02-14",
          "2011-02-05",
          "2011-02-04",
          "2010-10-19",
          "2010-09-24",
          "2010-08-03",
          "2010-06-01",
          "2010-05-28",
          "2010-04-11",
          "2010-04-05",
          "2010-04-02",
          "2010-02-15",
          "2010-02-10",
          "2009-10-21",
          "2009-10-10",
          "2009-10-04",
          "2009-09-03",
          "2009-08-30",
          "2009-07-22",
          "2009-07-14",
          "2009-06-27",
          "2009-06-24",
          "2009-06-24",
          "2009-05-28",
          "2009-04-23",
          "2009-03-03",
          "2009-02-14",
          "2009-02-03",
          "2009-01-14",
          "2008-11-25",
          "2008-11-24",
          "2008-10-28",
          "2008-10-11",
          "2008-08-10",
          "2008-07-22",
          "2008-05-28",
          "2008-03-09",
          "2008-01-06",
          "2007-12-17",
          "2007-11-19",
          "2007-10-25",
          "2007-10-25",
          "2007-09-29",
          "2007-09-20",
          "2007-08-10",
          "2007-07-27",
          "2007-05-07",
          "2007-04-23",
          "2007-01-02",
          "2006-12-18",
          "2006-12-16",
          "2006-12-14",
          "2006-12-08",
          "2006-11-10",
          "2006-10-21",
          "2006-10-07",
          "2006-10-01",
          "2006-09-03",
          "2006-08-19",
          "2006-08-18",
          "2006-08-17",
          "2006-08-07",
          "2006-07-28",
          "2006-07-09",
          "2006-05-07",
          "2006-04-28",
          "2006-04-13",
          "2006-04-09",
          "2006-03-15",
          "2006-03-09",
          "2006-01-01",
          "2005-12-30",
          "2005-12-12",
          "2005-10-08",
          "2005-09-15",
          "2005-09-12",
          "2005-09-09",
          "2005-09-02",
          "2005-08-24",
          "2005-08-23",
          "2005-08-13",
          "2005-08-01",
          "2005-07-17",
          "2005-07-16",
          "2005-07-16",
          "2005-07-10",
          "2005-06-16",
          "2005-06-14",
          "2005-06-12",
          "2005-05-28",
          "2005-05-15",
          "2005-05-08",
          "2005-05-06",
          "2005-05-01",
          "2005-03-25",
          "2005-01-18",
          "2005-01-17",
          "2005-01-16",
          "2005-01-01",
          "2004-12-11",
          "2004-12-05",
          "2004-12-05",
          "2004-11-21",
          "2004-11-11",
          "2004-11-09",
          "2004-11-09",
          "2004-11-08",
          "2004-11-07",
          "2004-11-07",
          "2004-11-07",
          "2004-10-27",
          "2004-10-02",
          "2004-09-22",
          "2004-08-01",
          "2004-07-30",
          "2004-07-26",
          "2004-07-24",
          "2004-07-22",
          "2004-07-12",
          "2004-04-13",
          "2004-04-12",
          "2004-04-10",
          "2004-04-03",
          "2003-07-27",
          "2003-07-17",
          "2003-07-06",
          "2003-06-20",
          "2003-06-18",
          "2003-06-14",
          "2003-05-30",
          "2003-05-30",
          "2003-05-29",
          "2003-05-29",
          "2003-05-09",
          "2003-04-08",
          "2003-03-26",
          "2003-03-20",
          "2003-02-27",
          "2003-01-04",
          "2002-12-24",
          "2002-12-19",
          "2002-11-20",
          "2002-11-11",
          "2002-11-09",
          "2002-10-16",
          "2002-10-02",
          "2002-09-30",
          "2002-09-19",
          "2002-09-07",
          "2002-09-04",
          "2002-08-26",
          "2002-08-20",
          "2002-08-18",
          "2002-08-01",
          "2002-08-01",
          "2002-07-29",
          "2002-07-25",
          "2002-06-08",
          "2002-05-23",
          "2002-05-21",
          "2002-05-18",
          "2002-05-12",
          "2002-05-11",
          "2002-04-23",
          "2002-04-19",
          "2002-04-17",
          "2002-03-29",
          "2002-03-26",
          "2002-03-25",
          "2002-03-23",
          "2002-03-22",
          "2002-03-20",
          "2002-03-18",
          "2002-02-28",
          "2002-02-17",
          "2002-01-31",
          "2002-01-10",
          "2001-12-30",
          "2001-12-29",
          "2001-12-23",
          "2001-12-16",
          "2001-12-16",
          "2001-12-06",
          "2001-11-30",
          "2001-11-24",
          "2001-11-24",
          "2001-11-24",
          "2001-11-19",
          "2001-10-31",
          "2001-10-28",
          "2001-10-25",
          "2001-10-22",
          "2001-10-21",
          "2001-10-11",
          "2001-09-29",
          "2001-09-25",
          "2001-09-14",
          "2001-08-31",
          "2001-08-30",
          "2001-08-27",
          "2001-08-17",
          "2001-08-12",
          "2001-08-03",
          "2001-06-02",
          "2001-05-27",
          "2001-04-28",
          "2001-04-21",
          "2001-04-18",
          "2001-04-13",
          "2001-04-11",
          "2001-04-11",
          "2001-04-08",
          "2001-04-07",
          "2001-04-04",
          "2001-03-31",
          "2001-03-31",
          "2001-03-29",
          "2001-03-27",
          "2001-03-27",
          "2001-03-22",
          "2001-03-19",
          "2001-03-03",
          "2001-02-13",
          "2001-01-31",
          "2001-01-23",
          "2001-01-17",
          "2001-01-13",
          "2001-01-10",
          "2000-11-28",
          "2000-11-26",
          "2000-11-26",
          "2000-11-11",
          "2000-11-10",
          "2000-11-08",
          "2000-11-06",
          "2000-11-04",
          "2000-10-31",
          "2000-10-28",
          "2000-10-12",
          "2000-10-05",
          "2000-10-03",
          "2000-09-17",
          "2000-09-17",
          "2000-09-15",
          "2000-09-06",
          "2000-08-14",
          "2000-08-11",
          "2000-07-28",
          "2000-07-28",
          "2000-07-26",
          "2000-07-26",
          "2000-07-19",
          "2000-07-13",
          "2000-06-23",
          "2000-06-08",
          "2000-06-04",
          "2000-05-23",
          "2000-04-17",
          "2000-04-06",
          "2000-02-24",
          "2000-02-20",
          "2000-02-14",
          "2000-02-11",
          "2000-01-30",
          "2000-01-27",
          "1999-12-12",
          "1999-12-11",
          "1999-11-20",
          "1999-11-13",
          "1999-11-08",
          "1999-11-05",
          "1999-10-28",
          "1999-10-24",
          "1999-10-21",
          "1999-09-22",
          "1999-09-15",
          "1999-09-15",
          "1999-09-12",
          "1999-08-23",
          "1999-08-17",
          "1999-08-15",
          "1999-08-04",
          "1999-07-26",
          "1999-07-06",
          "1999-07-02",
          "1999-06-27",
          "1999-06-26",
          "1999-06-26",
          "1999-05-25",
          "1999-05-18",
          "1999-05-18",
          "1999-05-05",
          "1999-03-10",
          "1999-02-18",
          "1999-02-17",
          "1999-01-22",
          "1999-01-13",
          "1998-11-30",
          "1998-11-13",
          "1998-11-12",
          "1998-11-08",
          "1998-11-07",
          "1998-10-23",
          "1998-10-18",
          "1998-10-06",
          "1998-10-02",
          "1998-09-24",
          "1998-09-08",
          "1998-08-26",
          "1998-08-19",
          "1998-08-10",
          "1998-08-06",
          "1998-07-31",
          "1998-07-17",
          "1998-07-05",
          "1998-06-25",
          "1998-06-13",
          "1998-05-15",
          "1998-05-08",
          "1998-05-03",
          "1998-05-01",
          "1998-04-30",
          "1998-04-23",
          "1998-04-18",
          "1998-04-07",
          "1998-01-24",
          "1998-01-06",
          "1997-12-30",
          "1997-12-10",
          "1997-11-30",
          "1997-11-22",
          "1997-10-24",
          "1997-10-23",
          "1997-10-10",
          "1997-09-03",
          "1997-09-02",
          "1997-05-26",
          "1997-05-25",
          "1997-05-20",
          "1997-05-15",
          "1997-03-05",
          "1997-02-09",
          "1997-01-28",
          "1997-01-10",
          "1996-12-02",
          "1996-09-26",
          "1996-07-28",
          "1996-06-18",
          "1996-02-06",
          "1995-12-25",
          "1995-12-24",
          "1995-11-27",
          "1995-10-19",
          "1995-10-18",
          "1995-10-04",
          "1995-09-06",
          "1995-08-24",
          "1995-08-22",
          "1995-08-17",
          "1995-07-24",
          "1995-06-26",
          "1995-05-24",
          "1995-04-07",
          "1995-03-23",
          "1995-03-12",
          "1995-03-04",
          "1995-01-01",
          "1994-12-05"
         ],
         "legendgroup": "",
         "marker": {
          "color": {
           "bdata": "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",
           "dtype": "f8"
          },
          "coloraxis": "coloraxis",
          "opacity": 0.8,
          "size": 4,
          "symbol": "circle"
         },
         "mode": "markers",
         "name": "",
         "scene": "scene",
         "showlegend": false,
         "type": "scatter3d",
         "x": {
          "bdata": "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",
          "dtype": "f8"
         },
         "y": {
          "bdata": "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",
          "dtype": "f8"
         },
         "z": {
          "bdata": "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",
          "dtype": "f8"
         }
        },
        {
         "hoverinfo": "text",
         "marker": {
          "color": "blue",
          "line": {
           "color": "black",
           "width": 2
          },
          "opacity": 0.8,
          "size": 10
         },
         "mode": "markers+text",
         "name": "Earth",
         "text": [
          "Earth"
         ],
         "textposition": "top center",
         "type": "scatter3d",
         "x": [
          0
         ],
         "y": [
          0
         ],
         "z": [
          0
         ]
        },
        {
         "hoverinfo": "text",
         "marker": {
          "color": "red",
          "line": {
           "color": "black",
           "width": 1
          },
          "opacity": 0.8,
          "size": 5
         },
         "mode": "markers+text",
         "name": "L1",
         "text": [
          "L1"
         ],
         "textposition": "top center",
         "type": "scatter3d",
         "x": [
          238
         ],
         "y": [
          0
         ],
         "z": [
          0
         ]
        }
       ],
       "layout": {
        "coloraxis": {
         "colorbar": {
          "ticktext": [
           "1994-12",
           "2002-04",
           "2009-07",
           "2016-11",
           "2024-03"
          ],
          "tickvals": {
           "bdata": "u9z+IHDIwUAoiJOJQQLHQJQzKPISPMxAgG9eLfK60EA3xajh2lfTQA==",
           "dtype": "f8"
          },
          "title": {
           "text": "Event Time"
          }
         },
         "colorscale": [
          [
           0,
           "#440154"
          ],
          [
           0.1111111111111111,
           "#482878"
          ],
          [
           0.2222222222222222,
           "#3e4989"
          ],
          [
           0.3333333333333333,
           "#31688e"
          ],
          [
           0.4444444444444444,
           "#26828e"
          ],
          [
           0.5555555555555556,
           "#1f9e89"
          ],
          [
           0.6666666666666666,
           "#35b779"
          ],
          [
           0.7777777777777778,
           "#6ece58"
          ],
          [
           0.8888888888888888,
           "#b5de2b"
          ],
          [
           1,
           "#fde725"
          ]
         ]
        },
        "height": 600,
        "legend": {
         "tracegroupgap": 0,
         "x": 0.8,
         "y": 0.9
        },
        "margin": {
         "b": 0,
         "l": 0,
         "r": 0,
         "t": 50
        },
        "scene": {
         "domain": {
          "x": [
           0,
           1
          ],
          "y": [
           0,
           1
          ]
         },
         "xaxis": {
          "range": [
           -73.56,
           266
          ],
          "title": {
           "text": "X: [Earth radii]"
          }
         },
         "yaxis": {
          "range": [
           -322.42,
           320.77
          ],
          "title": {
           "text": "Y: [Earth radii]"
          }
         },
         "zaxis": {
          "range": [
           -26.42,
           44.49
          ],
          "title": {
           "text": "Z: [Earth radii]"
          }
         }
        },
        "template": {
         "data": {
          "bar": [
           {
            "error_x": {
             "color": "#2a3f5f"
            },
            "error_y": {
             "color": "#2a3f5f"
            },
            "marker": {
             "line": {
              "color": "#E5ECF6",
              "width": 0.5
             },
             "pattern": {
              "fillmode": "overlay",
              "size": 10,
              "solidity": 0.2
             }
            },
            "type": "bar"
           }
          ],
          "barpolar": [
           {
            "marker": {
             "line": {
              "color": "#E5ECF6",
              "width": 0.5
             },
             "pattern": {
              "fillmode": "overlay",
              "size": 10,
              "solidity": 0.2
             }
            },
            "type": "barpolar"
           }
          ],
          "carpet": [
           {
            "aaxis": {
             "endlinecolor": "#2a3f5f",
             "gridcolor": "white",
             "linecolor": "white",
             "minorgridcolor": "white",
             "startlinecolor": "#2a3f5f"
            },
            "baxis": {
             "endlinecolor": "#2a3f5f",
             "gridcolor": "white",
             "linecolor": "white",
             "minorgridcolor": "white",
             "startlinecolor": "#2a3f5f"
            },
            "type": "carpet"
           }
          ],
          "choropleth": [
           {
            "colorbar": {
             "outlinewidth": 0,
             "ticks": ""
            },
            "type": "choropleth"
           }
          ],
          "contour": [
           {
            "colorbar": {
             "outlinewidth": 0,
             "ticks": ""
            },
            "colorscale": [
             [
              0,
              "#0d0887"
             ],
             [
              0.1111111111111111,
              "#46039f"
             ],
             [
              0.2222222222222222,
              "#7201a8"
             ],
             [
              0.3333333333333333,
              "#9c179e"
             ],
             [
              0.4444444444444444,
              "#bd3786"
             ],
             [
              0.5555555555555556,
              "#d8576b"
             ],
             [
              0.6666666666666666,
              "#ed7953"
             ],
             [
              0.7777777777777778,
              "#fb9f3a"
             ],
             [
              0.8888888888888888,
              "#fdca26"
             ],
             [
              1,
              "#f0f921"
             ]
            ],
            "type": "contour"
           }
          ],
          "contourcarpet": [
           {
            "colorbar": {
             "outlinewidth": 0,
             "ticks": ""
            },
            "type": "contourcarpet"
           }
          ],
          "heatmap": [
           {
            "colorbar": {
             "outlinewidth": 0,
             "ticks": ""
            },
            "colorscale": [
             [
              0,
              "#0d0887"
             ],
             [
              0.1111111111111111,
              "#46039f"
             ],
             [
              0.2222222222222222,
              "#7201a8"
             ],
             [
              0.3333333333333333,
              "#9c179e"
             ],
             [
              0.4444444444444444,
              "#bd3786"
             ],
             [
              0.5555555555555556,
              "#d8576b"
             ],
             [
              0.6666666666666666,
              "#ed7953"
             ],
             [
              0.7777777777777778,
              "#fb9f3a"
             ],
             [
              0.8888888888888888,
              "#fdca26"
             ],
             [
              1,
              "#f0f921"
             ]
            ],
            "type": "heatmap"
           }
          ],
          "histogram": [
           {
            "marker": {
             "pattern": {
              "fillmode": "overlay",
              "size": 10,
              "solidity": 0.2
             }
            },
            "type": "histogram"
           }
          ],
          "histogram2d": [
           {
            "colorbar": {
             "outlinewidth": 0,
             "ticks": ""
            },
            "colorscale": [
             [
              0,
              "#0d0887"
             ],
             [
              0.1111111111111111,
              "#46039f"
             ],
             [
              0.2222222222222222,
              "#7201a8"
             ],
             [
              0.3333333333333333,
              "#9c179e"
             ],
             [
              0.4444444444444444,
              "#bd3786"
             ],
             [
              0.5555555555555556,
              "#d8576b"
             ],
             [
              0.6666666666666666,
              "#ed7953"
             ],
             [
              0.7777777777777778,
              "#fb9f3a"
             ],
             [
              0.8888888888888888,
              "#fdca26"
             ],
             [
              1,
              "#f0f921"
             ]
            ],
            "type": "histogram2d"
           }
          ],
          "histogram2dcontour": [
           {
            "colorbar": {
             "outlinewidth": 0,
             "ticks": ""
            },
            "colorscale": [
             [
              0,
              "#0d0887"
             ],
             [
              0.1111111111111111,
              "#46039f"
             ],
             [
              0.2222222222222222,
              "#7201a8"
             ],
             [
              0.3333333333333333,
              "#9c179e"
             ],
             [
              0.4444444444444444,
              "#bd3786"
             ],
             [
              0.5555555555555556,
              "#d8576b"
             ],
             [
              0.6666666666666666,
              "#ed7953"
             ],
             [
              0.7777777777777778,
              "#fb9f3a"
             ],
             [
              0.8888888888888888,
              "#fdca26"
             ],
             [
              1,
              "#f0f921"
             ]
            ],
            "type": "histogram2dcontour"
           }
          ],
          "mesh3d": [
           {
            "colorbar": {
             "outlinewidth": 0,
             "ticks": ""
            },
            "type": "mesh3d"
           }
          ],
          "parcoords": [
           {
            "line": {
             "colorbar": {
              "outlinewidth": 0,
              "ticks": ""
             }
            },
            "type": "parcoords"
           }
          ],
          "pie": [
           {
            "automargin": true,
            "type": "pie"
           }
          ],
          "scatter": [
           {
            "fillpattern": {
             "fillmode": "overlay",
             "size": 10,
             "solidity": 0.2
            },
            "type": "scatter"
           }
          ],
          "scatter3d": [
           {
            "line": {
             "colorbar": {
              "outlinewidth": 0,
              "ticks": ""
             }
            },
            "marker": {
             "colorbar": {
              "outlinewidth": 0,
              "ticks": ""
             }
            },
            "type": "scatter3d"
           }
          ],
          "scattercarpet": [
           {
            "marker": {
             "colorbar": {
              "outlinewidth": 0,
              "ticks": ""
             }
            },
            "type": "scattercarpet"
           }
          ],
          "scattergeo": [
           {
            "marker": {
             "colorbar": {
              "outlinewidth": 0,
              "ticks": ""
             }
            },
            "type": "scattergeo"
           }
          ],
          "scattergl": [
           {
            "marker": {
             "colorbar": {
              "outlinewidth": 0,
              "ticks": ""
             }
            },
            "type": "scattergl"
           }
          ],
          "scattermap": [
           {
            "marker": {
             "colorbar": {
              "outlinewidth": 0,
              "ticks": ""
             }
            },
            "type": "scattermap"
           }
          ],
          "scattermapbox": [
           {
            "marker": {
             "colorbar": {
              "outlinewidth": 0,
              "ticks": ""
             }
            },
            "type": "scattermapbox"
           }
          ],
          "scatterpolar": [
           {
            "marker": {
             "colorbar": {
              "outlinewidth": 0,
              "ticks": ""
             }
            },
            "type": "scatterpolar"
           }
          ],
          "scatterpolargl": [
           {
            "marker": {
             "colorbar": {
              "outlinewidth": 0,
              "ticks": ""
             }
            },
            "type": "scatterpolargl"
           }
          ],
          "scatterternary": [
           {
            "marker": {
             "colorbar": {
              "outlinewidth": 0,
              "ticks": ""
             }
            },
            "type": "scatterternary"
           }
          ],
          "surface": [
           {
            "colorbar": {
             "outlinewidth": 0,
             "ticks": ""
            },
            "colorscale": [
             [
              0,
              "#0d0887"
             ],
             [
              0.1111111111111111,
              "#46039f"
             ],
             [
              0.2222222222222222,
              "#7201a8"
             ],
             [
              0.3333333333333333,
              "#9c179e"
             ],
             [
              0.4444444444444444,
              "#bd3786"
             ],
             [
              0.5555555555555556,
              "#d8576b"
             ],
             [
              0.6666666666666666,
              "#ed7953"
             ],
             [
              0.7777777777777778,
              "#fb9f3a"
             ],
             [
              0.8888888888888888,
              "#fdca26"
             ],
             [
              1,
              "#f0f921"
             ]
            ],
            "type": "surface"
           }
          ],
          "table": [
           {
            "cells": {
             "fill": {
              "color": "#EBF0F8"
             },
             "line": {
              "color": "white"
             }
            },
            "header": {
             "fill": {
              "color": "#C8D4E3"
             },
             "line": {
              "color": "white"
             }
            },
            "type": "table"
           }
          ]
         },
         "layout": {
          "annotationdefaults": {
           "arrowcolor": "#2a3f5f",
           "arrowhead": 0,
           "arrowwidth": 1
          },
          "autotypenumbers": "strict",
          "coloraxis": {
           "colorbar": {
            "outlinewidth": 0,
            "ticks": ""
           }
          },
          "colorscale": {
           "diverging": [
            [
             0,
             "#8e0152"
            ],
            [
             0.1,
             "#c51b7d"
            ],
            [
             0.2,
             "#de77ae"
            ],
            [
             0.3,
             "#f1b6da"
            ],
            [
             0.4,
             "#fde0ef"
            ],
            [
             0.5,
             "#f7f7f7"
            ],
            [
             0.6,
             "#e6f5d0"
            ],
            [
             0.7,
             "#b8e186"
            ],
            [
             0.8,
             "#7fbc41"
            ],
            [
             0.9,
             "#4d9221"
            ],
            [
             1,
             "#276419"
            ]
           ],
           "sequential": [
            [
             0,
             "#0d0887"
            ],
            [
             0.1111111111111111,
             "#46039f"
            ],
            [
             0.2222222222222222,
             "#7201a8"
            ],
            [
             0.3333333333333333,
             "#9c179e"
            ],
            [
             0.4444444444444444,
             "#bd3786"
            ],
            [
             0.5555555555555556,
             "#d8576b"
            ],
            [
             0.6666666666666666,
             "#ed7953"
            ],
            [
             0.7777777777777778,
             "#fb9f3a"
            ],
            [
             0.8888888888888888,
             "#fdca26"
            ],
            [
             1,
             "#f0f921"
            ]
           ],
           "sequentialminus": [
            [
             0,
             "#0d0887"
            ],
            [
             0.1111111111111111,
             "#46039f"
            ],
            [
             0.2222222222222222,
             "#7201a8"
            ],
            [
             0.3333333333333333,
             "#9c179e"
            ],
            [
             0.4444444444444444,
             "#bd3786"
            ],
            [
             0.5555555555555556,
             "#d8576b"
            ],
            [
             0.6666666666666666,
             "#ed7953"
            ],
            [
             0.7777777777777778,
             "#fb9f3a"
            ],
            [
             0.8888888888888888,
             "#fdca26"
            ],
            [
             1,
             "#f0f921"
            ]
           ]
          },
          "colorway": [
           "#636efa",
           "#EF553B",
           "#00cc96",
           "#ab63fa",
           "#FFA15A",
           "#19d3f3",
           "#FF6692",
           "#B6E880",
           "#FF97FF",
           "#FECB52"
          ],
          "font": {
           "color": "#2a3f5f"
          },
          "geo": {
           "bgcolor": "white",
           "lakecolor": "white",
           "landcolor": "#E5ECF6",
           "showlakes": true,
           "showland": true,
           "subunitcolor": "white"
          },
          "hoverlabel": {
           "align": "left"
          },
          "hovermode": "closest",
          "mapbox": {
           "style": "light"
          },
          "paper_bgcolor": "white",
          "plot_bgcolor": "#E5ECF6",
          "polar": {
           "angularaxis": {
            "gridcolor": "white",
            "linecolor": "white",
            "ticks": ""
           },
           "bgcolor": "#E5ECF6",
           "radialaxis": {
            "gridcolor": "white",
            "linecolor": "white",
            "ticks": ""
           }
          },
          "scene": {
           "xaxis": {
            "backgroundcolor": "#E5ECF6",
            "gridcolor": "white",
            "gridwidth": 2,
            "linecolor": "white",
            "showbackground": true,
            "ticks": "",
            "zerolinecolor": "white"
           },
           "yaxis": {
            "backgroundcolor": "#E5ECF6",
            "gridcolor": "white",
            "gridwidth": 2,
            "linecolor": "white",
            "showbackground": true,
            "ticks": "",
            "zerolinecolor": "white"
           },
           "zaxis": {
            "backgroundcolor": "#E5ECF6",
            "gridcolor": "white",
            "gridwidth": 2,
            "linecolor": "white",
            "showbackground": true,
            "ticks": "",
            "zerolinecolor": "white"
           }
          },
          "shapedefaults": {
           "line": {
            "color": "#2a3f5f"
           }
          },
          "ternary": {
           "aaxis": {
            "gridcolor": "white",
            "linecolor": "white",
            "ticks": ""
           },
           "baxis": {
            "gridcolor": "white",
            "linecolor": "white",
            "ticks": ""
           },
           "bgcolor": "#E5ECF6",
           "caxis": {
            "gridcolor": "white",
            "linecolor": "white",
            "ticks": ""
           }
          },
          "title": {
           "x": 0.05
          },
          "xaxis": {
           "automargin": true,
           "gridcolor": "white",
           "linecolor": "white",
           "ticks": "",
           "title": {
            "standoff": 15
           },
           "zerolinecolor": "white",
           "zerolinewidth": 2
          },
          "yaxis": {
           "automargin": true,
           "gridcolor": "white",
           "linecolor": "white",
           "ticks": "",
           "title": {
            "standoff": 15
           },
           "zerolinecolor": "white",
           "zerolinewidth": 2
          }
         }
        },
        "title": {
         "text": "Shock: Wind Spacecraft in GSE Coordinates"
        },
        "width": 800
       }
      }
     },
     "metadata": {},
     "output_type": "display_data"
    },
    {
     "data": {
      "application/vnd.plotly.v1+json": {
       "config": {
        "plotlyServerURL": "https://plot.ly"
       },
       "data": [
        {
         "customdata": {
          "bdata": "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",
          "dtype": "f8",
          "shape": "352, 1"
         },
         "hovertemplate": "<b>%{hovertext}</b><br><br>x=%{x}<br>y=%{y}<br>z=%{z}<extra></extra>",
         "hovertext": [
          "2021-03-20",
          "2020-12-10",
          "2020-11-30",
          "2020-02-07",
          "2019-11-16",
          "2019-08-01",
          "2019-08-01",
          "2018-12-09",
          "2018-08-20",
          "2018-03-09",
          "2017-11-14",
          "2017-10-21",
          "2017-09-14",
          "2017-09-12",
          "2017-09-12",
          "2017-09-07",
          "2017-09-06",
          "2017-08-31",
          "2017-08-31",
          "2017-07-11",
          "2017-07-01",
          "2017-05-20",
          "2017-02-24",
          "2016-10-12",
          "2016-04-14",
          "2016-03-23",
          "2016-03-11",
          "2015-12-19",
          "2015-12-07",
          "2015-11-04",
          "2015-11-03",
          "2015-10-24",
          "2015-10-07",
          "2015-08-15",
          "2015-07-13",
          "2015-06-22",
          "2015-06-22",
          "2015-06-16",
          "2015-06-12",
          "2015-05-13",
          "2015-05-06",
          "2015-04-17",
          "2015-04-16",
          "2015-03-31",
          "2015-01-07",
          "2014-12-21",
          "2014-12-06",
          "2014-11-01",
          "2014-09-12",
          "2014-09-11",
          "2014-06-10",
          "2014-06-07",
          "2014-05-29",
          "2014-05-22",
          "2014-04-19",
          "2014-03-25",
          "2014-02-27",
          "2014-02-19",
          "2014-02-17",
          "2014-01-09",
          "2014-01-07",
          "2013-08-23",
          "2013-07-09",
          "2013-06-27",
          "2013-06-23",
          "2013-06-02",
          "2013-05-31",
          "2013-05-24",
          "2013-05-18",
          "2012-12-04",
          "2012-11-26",
          "2012-06-30",
          "2012-06-10",
          "2012-03-12",
          "2011-09-17",
          "2011-08-05",
          "2011-08-05",
          "2011-07-06",
          "2011-06-23",
          "2010-08-03",
          "2010-04-05",
          "2010-04-02",
          "2009-07-14",
          "2009-06-27",
          "2009-03-08",
          "2009-02-14",
          "2008-08-10",
          "2008-07-22",
          "2008-06-15",
          "2008-04-24",
          "2008-01-06",
          "2007-12-17",
          "2007-11-12",
          "2007-10-25",
          "2007-07-11",
          "2007-05-24",
          "2006-12-18",
          "2006-12-16",
          "2006-12-14",
          "2006-11-10",
          "2006-10-21",
          "2006-10-01",
          "2006-09-24",
          "2006-09-03",
          "2006-08-28",
          "2006-08-19",
          "2006-08-07",
          "2006-07-28",
          "2006-05-07",
          "2006-04-13",
          "2006-01-01",
          "2005-10-08",
          "2005-09-15",
          "2005-09-12",
          "2005-09-09",
          "2005-09-02",
          "2005-08-25",
          "2005-08-24",
          "2005-08-23",
          "2005-08-01",
          "2005-07-17",
          "2005-07-10",
          "2005-06-16",
          "2005-06-14",
          "2005-05-29",
          "2005-05-08",
          "2005-05-07",
          "2005-05-01",
          "2005-04-05",
          "2005-03-25",
          "2005-03-07",
          "2005-01-21",
          "2005-01-17",
          "2005-01-07",
          "2005-01-01",
          "2004-12-11",
          "2004-11-21",
          "2004-11-11",
          "2004-11-09",
          "2004-11-09",
          "2004-11-07",
          "2004-11-07",
          "2004-10-27",
          "2004-09-22",
          "2004-08-29",
          "2004-08-01",
          "2004-07-30",
          "2004-07-26",
          "2004-07-22",
          "2004-07-16",
          "2004-07-12",
          "2004-04-26",
          "2004-04-24",
          "2004-04-12",
          "2004-04-10",
          "2004-04-09",
          "2004-04-03",
          "2004-03-10",
          "2004-01-22",
          "2004-01-06",
          "2003-12-07",
          "2003-11-20",
          "2003-11-15",
          "2003-11-06",
          "2003-11-04",
          "2003-10-26",
          "2003-10-24",
          "2003-08-17",
          "2003-07-27",
          "2003-07-06",
          "2003-06-20",
          "2003-06-18",
          "2003-05-30",
          "2003-05-29",
          "2003-05-29",
          "2003-05-09",
          "2003-04-08",
          "2003-03-20",
          "2002-12-24",
          "2002-11-26",
          "2002-11-16",
          "2002-11-14",
          "2002-11-09",
          "2002-10-02",
          "2002-10-02",
          "2002-09-07",
          "2002-08-18",
          "2002-07-29",
          "2002-07-25",
          "2002-07-22",
          "2002-07-19",
          "2002-07-19",
          "2002-07-17",
          "2002-05-30",
          "2002-05-23",
          "2002-05-21",
          "2002-05-20",
          "2002-05-18",
          "2002-05-11",
          "2002-05-10",
          "2002-04-23",
          "2002-04-19",
          "2002-04-17",
          "2002-03-26",
          "2002-03-23",
          "2002-03-22",
          "2002-03-20",
          "2002-03-18",
          "2002-02-17",
          "2002-01-10",
          "2001-12-30",
          "2001-12-29",
          "2001-11-19",
          "2001-10-31",
          "2001-10-28",
          "2001-10-25",
          "2001-10-21",
          "2001-10-11",
          "2001-10-01",
          "2001-09-30",
          "2001-09-29",
          "2001-09-14",
          "2001-09-13",
          "2001-08-30",
          "2001-08-27",
          "2001-08-17",
          "2001-08-12",
          "2001-08-03",
          "2001-06-02",
          "2001-05-27",
          "2001-05-14",
          "2001-04-28",
          "2001-04-21",
          "2001-04-18",
          "2001-04-13",
          "2001-04-11",
          "2001-04-11",
          "2001-04-11",
          "2001-04-08",
          "2001-04-07",
          "2001-04-04",
          "2001-03-31",
          "2001-03-27",
          "2001-03-27",
          "2001-03-05",
          "2001-03-03",
          "2001-02-12",
          "2001-01-31",
          "2001-01-23",
          "2001-01-17",
          "2001-01-13",
          "2000-12-03",
          "2000-11-29",
          "2000-11-29",
          "2000-11-26",
          "2000-11-26",
          "2000-11-11",
          "2000-11-08",
          "2000-11-06",
          "2000-11-04",
          "2000-10-31",
          "2000-10-28",
          "2000-10-05",
          "2000-10-03",
          "2000-09-17",
          "2000-09-17",
          "2000-09-06",
          "2000-08-29",
          "2000-08-14",
          "2000-08-11",
          "2000-08-05",
          "2000-07-28",
          "2000-07-28",
          "2000-07-26",
          "2000-07-19",
          "2000-07-17",
          "2000-07-13",
          "2000-07-11",
          "2000-07-10",
          "2000-06-23",
          "2000-06-11",
          "2000-06-08",
          "2000-06-04",
          "2000-05-30",
          "2000-04-24",
          "2000-04-17",
          "2000-04-06",
          "2000-03-22",
          "2000-02-20",
          "2000-02-11",
          "2000-02-11",
          "2000-01-30",
          "2000-01-27",
          "2000-01-22",
          "2000-01-11",
          "2000-01-04",
          "1999-12-12",
          "1999-12-11",
          "1999-11-13",
          "1999-10-28",
          "1999-10-21",
          "1999-09-22",
          "1999-09-15",
          "1999-09-15",
          "1999-09-12",
          "1999-08-23",
          "1999-08-17",
          "1999-08-15",
          "1999-08-04",
          "1999-07-26",
          "1999-07-06",
          "1999-07-02",
          "1999-06-27",
          "1999-06-26",
          "1999-05-25",
          "1999-05-18",
          "1999-05-18",
          "1999-05-05",
          "1999-04-16",
          "1999-03-10",
          "1999-02-18",
          "1999-02-17",
          "1999-02-11",
          "1999-01-22",
          "1999-01-13",
          "1998-12-28",
          "1998-12-26",
          "1998-12-01",
          "1998-11-30",
          "1998-11-08",
          "1998-11-07",
          "1998-10-18",
          "1998-10-02",
          "1998-09-24",
          "1998-09-02",
          "1998-08-26",
          "1998-08-10",
          "1998-08-06",
          "1998-07-16",
          "1998-07-05",
          "1998-06-25",
          "1998-06-13",
          "1998-05-29",
          "1998-05-08",
          "1998-05-04",
          "1998-05-03",
          "1998-05-01",
          "1998-04-30",
          "1998-04-23",
          "1998-03-22",
          "1998-03-04",
          "1998-02-18"
         ],
         "legendgroup": "",
         "marker": {
          "color": {
           "bdata": "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",
           "dtype": "f8"
          },
          "coloraxis": "coloraxis",
          "opacity": 0.8,
          "size": 4,
          "symbol": "circle"
         },
         "mode": "markers",
         "name": "",
         "scene": "scene",
         "showlegend": false,
         "type": "scatter3d",
         "x": {
          "bdata": "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",
          "dtype": "f8"
         },
         "y": {
          "bdata": "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",
          "dtype": "f8"
         },
         "z": {
          "bdata": "uB6F61E4M8DhehSuRyE2QOxRuB6FazZAexSuR+H6LcDXo3A9ChcxQFyPwvUoXB/AXI/C9ShcH8A9CtejcP02QI/C9ShcjzLAXI/C9SicNsBcj8L1KNwuQI/C9ShcjwLAmpmZmZnZNsBSuB6F6xE3wFK4HoXrETfAMzMzMzMzN8DhehSuRyE3wB+F61G43jXAUrgehevRNcAzMzMzM7MqQD0K16NwPTNAZmZmZmZmM0AfhetRuB40wFK4HoXr0SXAFK5H4XqUIsC4HoXrUbg1wHE9CtejcDfAUrgehesROUCF61G4HkU4QFyPwvUoXA9AzczMzMzMDECF61G4HoUTwHE9CtejcDHAPQrXo3A9IcAUrkfhelQxQJqZmZmZWTlAKVyPwvVoOUD2KFyPwrU5QPYoXI/CdTlAKVyPwvUoJkDXo3A9CtcUQBSuR+F6FCXAXI/C9ShcJsA9CtejcL00wFyPwvUo3DNArkfhehTuOEBcj8L1KNw2QHE9CtejcPW/SOF6FK5HNsAUrkfhehQ2wOF6FK5H4TdAmpmZmZkZN0BSuB6F6xEzQBSuR+F6lC5A9ihcj8L1JcDhehSuR6E2wOF6FK5H4S/AKVyPwvWoJMDhehSuR+EhwBSuR+F6FDNAZmZmZmYmNEBmZmZmZuYkwIXrUbgeRTRAzczMzMzMN0Bcj8L1KBw4QOxRuB6F6zJAcT0K16MwMkB7FK5H4forQD0K16NwPSJAmpmZmZkZMkAzMzMzM7MqQB+F61G4njZAw/UoXI/CNEC4HoXrUfgzwHE9Ctej8DTA16NwPQrXFEAAAAAAAAAVQFK4HoXrkTVAcT0K16OwNkAAAAAAAAAfQFK4HoXrkTfAMzMzMzPzN8DNzMzMzEw1QNejcD0KFzdAmpmZmZkZMcApXI/C9SjsvwAAAAAAABxAH4XrUbieM0B7FK5H4XoxQNejcD0KVzTAMzMzMzPzNkDNzMzMzEwwQOxRuB6FayXA7FG4HoWrNcDhehSuR6E3QHsUrkfhevi/MzMzMzOzLUAUrkfhepQrQLgehetRuChAzczMzMzMK8DD9Shcj4I3wDMzMzMz8zbA9ihcj8I1NMDNzMzMzMwbwHsUrkfhevS/4XoUrkfhF0DsUbgehessQFyPwvUoHDRAhetRuB6FL8DD9ShcjwI4wHE9CtejMDRAAAAAAAAAN8DNzMzMzMwpwPYoXI/CdSXA7FG4HoVrIcDhehSuR+EIwFyPwvUoXAtA16NwPQrXEUApXI/C9SgTQK5H4XoUbjNAuB6F61G4NkBI4XoUrkc2QGZmZmZm5idAXI/C9SjcJUDNzMzMzMzwv9ejcD0KVy7AcT0K16NwL8DD9ShcjwIzwM3MzMzMTDbA7FG4HoWrMsCkcD0K16McwI/C9ShcjzVAhetRuB4FNkApXI/C9Sg1QD0K16NwfTNAKVyPwvUoHkD2KFyPwvUewM3MzMzMzCvAAAAAAAAALsDsUbgehWsuwNejcD0KFzDAw/UoXI9CMMAfhetRuN40wM3MzMzMzC7ACtejcD0KA0AAAAAAAEA0QClcj8L1qDRACtejcD3KNUAfhetRuJ42QJqZmZmZ2TZAH4XrUbheNkCF61G4HoU0wOxRuB6FKzXAAAAAAACANsDXo3A9Clc2wJqZmZmZGTbAj8L1KFzPNMBI4XoUrkccwNejcD0KFzZAFK5H4XrUNEAAAAAAAAAMQI/C9ShcjyLAw/UoXI9CKcDsUbgehWsxwJqZmZmZmTLAj8L1KFxPNcAzMzMzM7M1wFK4HoXr0StA7FG4HoXrNkAAAAAAAAA1QMP1KFyPwilAAAAAAAAAJ0AK16NwPQr/vx+F61G4HgXAzczMzMzMBsDD9Shcj0IwwPYoXI/CNTXAexSuR+F6J8BmZmZmZuYtQOxRuB6F6xXAZmZmZmZmKcD2KFyPwnUswLgehetR+DDACtejcD3KMcAK16NwPYoxwGZmZmZmZtY/w/UoXI/CLkAAAAAAAMA3QMP1KFyPQjhAZmZmZmZmOEBSuB6F61E4QI/C9ShcTzhAZmZmZmYmOEBSuB6F61EOwHE9CtejcCHArkfhehSuI8CkcD0K1yMmwPYoXI/C9SfAZmZmZmamMMCuR+F6FC4xwHE9CtejsDbAXI/C9SjcNsDNzMzMzMw2wOF6FK5HYSzAPQrXo3A9KMBcj8L1KFwmwIXrUbgeBSTAcT0K16PwIMDXo3A9CtctQKRwPQrXozZACtejcD0KMkCamZmZmRkxQNejcD0KVynAhetRuB4FNsApXI/C9ag2wGZmZmZm5jbAj8L1KFzPNsCPwvUoXI80wI/C9Shcjy/AKVyPwvUoLsBSuB6F61EswAAAAAAAAALACtejcD0K978pXI/C9SgjQGZmZmZmZidASOF6FK6HMkB7FK5H4fo0QOF6FK5HIThAcT0K16NwHsC4HoXrUTgowIXrUbgeRTTAZmZmZmbmN8B7FK5H4To3wLgehetRODbAzczMzMxMNMA9CtejcH0zwHsUrkfhejPAcT0K16NwM8D2KFyPwrUxwIXrUbgeRTHAmpmZmZmZLsCkcD0K1yMowBSuR+F6FCPAAAAAAAAAIsA9CtejcD0iQBSuR+F6FCZAuB6F61F4NkDXo3A9Clc4QGZmZmZm5jZAFK5H4XrUNEBSuB6F65EyQMP1KFyPwijA9ihcj8L1LcCPwvUoXA8uwB+F61G4njDAhetRuB7FMMDhehSuR6E2wLgehetR+DbAUrgehesRN8A9CtejcP02wFK4HoXrkTbAUrgehevRNcDhehSuR2EhwPYoXI/C9RvA4XoUrkfhFkAUrkfhehQXQIXrUbgehSxACtejcD2KM0DhehSuR2E4QArXo3A9ijhAAAAAAAAAOEBcj8L1KNw1QI/C9ShczzVAuB6F61E4NUAfhetRuN4xQFyPwvUonDBAexSuR+F6LEAAAAAAAAAqQNejcD0KVyhAcT0K16Nw5b/Xo3A9CtcjwAAAAAAAACjAhetRuB4FLcC4HoXrUbgxwGZmZmZm5jLACtejcD0KLsDXo3A9CtcdwIXrUbgehRNAzczMzMwMN0AUrkfhepQ3QAAAAAAAgDdACtejcD3KNECuR+F6FG4zQDMzMzMzczBAcT0K16PwIkDsUbgehesPQNejcD0K1yrAw/UoXI9CLMDsUbgehas1wM3MzMzMTC7APQrXo3A9JMDD9Shcj8IoQM3MzMzMzDBAmpmZmZkZMUDXo3A9CtcyQI/C9ShcjzhAH4XrUbheOECkcD0K1yM4QOxRuB6FqzRAZmZmZmamMEAzMzMzMzP/P4/C9Shcj/q/UrgehetRE8DNzMzMzMwWwHsUrkfhejbAUrgehevRNsCF61G4HsU2wGZmZmZmZjPAXI/C9ShcHcDXo3A9CtczQK5H4XoULjhAZmZmZmYmOEDhehSuR2E3QD0K16NwvSxAexSuR+F6HkA9CtejcD0VwJqZmZmZmRzApHA9CtdjNcCamZmZmZk1wDMzMzMz8zLAj8L1KFyPMsCkcD0K16MWwClcj8L1KB5A7FG4HoXrKUAfhetRuJ43QFyPwvUonDhAmpmZmZnZNUCkcD0K12M0QPYoXI/C9R1AmpmZmZmZ/b/D9Shcj8IiwM3MzMzMDDHA9ihcj8J1NsD2KFyPwvUywFyPwvUo3DDAKVyPwvWoMMDD9Shcj0IvwHE9CtejcC3A7FG4HoVrJMBSuB6F69EsQMP1KFyPQjdA4XoUrkchOEA=",
          "dtype": "f8"
         }
        },
        {
         "hoverinfo": "text",
         "marker": {
          "color": "blue",
          "line": {
           "color": "black",
           "width": 2
          },
          "opacity": 0.8,
          "size": 10
         },
         "mode": "markers+text",
         "name": "Earth",
         "text": [
          "Earth"
         ],
         "textposition": "top center",
         "type": "scatter3d",
         "x": [
          0
         ],
         "y": [
          0
         ],
         "z": [
          0
         ]
        },
        {
         "hoverinfo": "text",
         "marker": {
          "color": "red",
          "line": {
           "color": "black",
           "width": 1
          },
          "opacity": 0.8,
          "size": 5
         },
         "mode": "markers+text",
         "name": "L1",
         "text": [
          "L1"
         ],
         "textposition": "top center",
         "type": "scatter3d",
         "x": [
          238
         ],
         "y": [
          0
         ],
         "z": [
          0
         ]
        }
       ],
       "layout": {
        "coloraxis": {
         "colorbar": {
          "ticktext": [
           "1998-02",
           "2003-11",
           "2009-09",
           "2015-06",
           "2021-03"
          ],
          "tickvals": {
           "bdata": "tXaN+akRxEBOJqkWji/IQObVxDNyTcxAwEJwKKs10ECMGv42nUTSQA==",
           "dtype": "f8"
          },
          "title": {
           "text": "Event Time"
          }
         },
         "colorscale": [
          [
           0,
           "#440154"
          ],
          [
           0.1111111111111111,
           "#482878"
          ],
          [
           0.2222222222222222,
           "#3e4989"
          ],
          [
           0.3333333333333333,
           "#31688e"
          ],
          [
           0.4444444444444444,
           "#26828e"
          ],
          [
           0.5555555555555556,
           "#1f9e89"
          ],
          [
           0.6666666666666666,
           "#35b779"
          ],
          [
           0.7777777777777778,
           "#6ece58"
          ],
          [
           0.8888888888888888,
           "#b5de2b"
          ],
          [
           1,
           "#fde725"
          ]
         ]
        },
        "height": 600,
        "legend": {
         "tracegroupgap": 0,
         "x": 0.8,
         "y": 0.9
        },
        "margin": {
         "b": 0,
         "l": 0,
         "r": 0,
         "t": 50
        },
        "scene": {
         "domain": {
          "x": [
           0,
           1
          ],
          "y": [
           0,
           1
          ]
         },
         "xaxis": {
          "range": [
           217.67,
           249.81
          ],
          "title": {
           "text": "X: [Earth radii]"
          }
         },
         "yaxis": {
          "range": [
           -41.44,
           42.01
          ],
          "title": {
           "text": "Y: [Earth radii]"
          }
         },
         "zaxis": {
          "range": [
           -24.01,
           25.71
          ],
          "title": {
           "text": "Z: [Earth radii]"
          }
         }
        },
        "template": {
         "data": {
          "bar": [
           {
            "error_x": {
             "color": "#2a3f5f"
            },
            "error_y": {
             "color": "#2a3f5f"
            },
            "marker": {
             "line": {
              "color": "#E5ECF6",
              "width": 0.5
             },
             "pattern": {
              "fillmode": "overlay",
              "size": 10,
              "solidity": 0.2
             }
            },
            "type": "bar"
           }
          ],
          "barpolar": [
           {
            "marker": {
             "line": {
              "color": "#E5ECF6",
              "width": 0.5
             },
             "pattern": {
              "fillmode": "overlay",
              "size": 10,
              "solidity": 0.2
             }
            },
            "type": "barpolar"
           }
          ],
          "carpet": [
           {
            "aaxis": {
             "endlinecolor": "#2a3f5f",
             "gridcolor": "white",
             "linecolor": "white",
             "minorgridcolor": "white",
             "startlinecolor": "#2a3f5f"
            },
            "baxis": {
             "endlinecolor": "#2a3f5f",
             "gridcolor": "white",
             "linecolor": "white",
             "minorgridcolor": "white",
             "startlinecolor": "#2a3f5f"
            },
            "type": "carpet"
           }
          ],
          "choropleth": [
           {
            "colorbar": {
             "outlinewidth": 0,
             "ticks": ""
            },
            "type": "choropleth"
           }
          ],
          "contour": [
           {
            "colorbar": {
             "outlinewidth": 0,
             "ticks": ""
            },
            "colorscale": [
             [
              0,
              "#0d0887"
             ],
             [
              0.1111111111111111,
              "#46039f"
             ],
             [
              0.2222222222222222,
              "#7201a8"
             ],
             [
              0.3333333333333333,
              "#9c179e"
             ],
             [
              0.4444444444444444,
              "#bd3786"
             ],
             [
              0.5555555555555556,
              "#d8576b"
             ],
             [
              0.6666666666666666,
              "#ed7953"
             ],
             [
              0.7777777777777778,
              "#fb9f3a"
             ],
             [
              0.8888888888888888,
              "#fdca26"
             ],
             [
              1,
              "#f0f921"
             ]
            ],
            "type": "contour"
           }
          ],
          "contourcarpet": [
           {
            "colorbar": {
             "outlinewidth": 0,
             "ticks": ""
            },
            "type": "contourcarpet"
           }
          ],
          "heatmap": [
           {
            "colorbar": {
             "outlinewidth": 0,
             "ticks": ""
            },
            "colorscale": [
             [
              0,
              "#0d0887"
             ],
             [
              0.1111111111111111,
              "#46039f"
             ],
             [
              0.2222222222222222,
              "#7201a8"
             ],
             [
              0.3333333333333333,
              "#9c179e"
             ],
             [
              0.4444444444444444,
              "#bd3786"
             ],
             [
              0.5555555555555556,
              "#d8576b"
             ],
             [
              0.6666666666666666,
              "#ed7953"
             ],
             [
              0.7777777777777778,
              "#fb9f3a"
             ],
             [
              0.8888888888888888,
              "#fdca26"
             ],
             [
              1,
              "#f0f921"
             ]
            ],
            "type": "heatmap"
           }
          ],
          "histogram": [
           {
            "marker": {
             "pattern": {
              "fillmode": "overlay",
              "size": 10,
              "solidity": 0.2
             }
            },
            "type": "histogram"
           }
          ],
          "histogram2d": [
           {
            "colorbar": {
             "outlinewidth": 0,
             "ticks": ""
            },
            "colorscale": [
             [
              0,
              "#0d0887"
             ],
             [
              0.1111111111111111,
              "#46039f"
             ],
             [
              0.2222222222222222,
              "#7201a8"
             ],
             [
              0.3333333333333333,
              "#9c179e"
             ],
             [
              0.4444444444444444,
              "#bd3786"
             ],
             [
              0.5555555555555556,
              "#d8576b"
             ],
             [
              0.6666666666666666,
              "#ed7953"
             ],
             [
              0.7777777777777778,
              "#fb9f3a"
             ],
             [
              0.8888888888888888,
              "#fdca26"
             ],
             [
              1,
              "#f0f921"
             ]
            ],
            "type": "histogram2d"
           }
          ],
          "histogram2dcontour": [
           {
            "colorbar": {
             "outlinewidth": 0,
             "ticks": ""
            },
            "colorscale": [
             [
              0,
              "#0d0887"
             ],
             [
              0.1111111111111111,
              "#46039f"
             ],
             [
              0.2222222222222222,
              "#7201a8"
             ],
             [
              0.3333333333333333,
              "#9c179e"
             ],
             [
              0.4444444444444444,
              "#bd3786"
             ],
             [
              0.5555555555555556,
              "#d8576b"
             ],
             [
              0.6666666666666666,
              "#ed7953"
             ],
             [
              0.7777777777777778,
              "#fb9f3a"
             ],
             [
              0.8888888888888888,
              "#fdca26"
             ],
             [
              1,
              "#f0f921"
             ]
            ],
            "type": "histogram2dcontour"
           }
          ],
          "mesh3d": [
           {
            "colorbar": {
             "outlinewidth": 0,
             "ticks": ""
            },
            "type": "mesh3d"
           }
          ],
          "parcoords": [
           {
            "line": {
             "colorbar": {
              "outlinewidth": 0,
              "ticks": ""
             }
            },
            "type": "parcoords"
           }
          ],
          "pie": [
           {
            "automargin": true,
            "type": "pie"
           }
          ],
          "scatter": [
           {
            "fillpattern": {
             "fillmode": "overlay",
             "size": 10,
             "solidity": 0.2
            },
            "type": "scatter"
           }
          ],
          "scatter3d": [
           {
            "line": {
             "colorbar": {
              "outlinewidth": 0,
              "ticks": ""
             }
            },
            "marker": {
             "colorbar": {
              "outlinewidth": 0,
              "ticks": ""
             }
            },
            "type": "scatter3d"
           }
          ],
          "scattercarpet": [
           {
            "marker": {
             "colorbar": {
              "outlinewidth": 0,
              "ticks": ""
             }
            },
            "type": "scattercarpet"
           }
          ],
          "scattergeo": [
           {
            "marker": {
             "colorbar": {
              "outlinewidth": 0,
              "ticks": ""
             }
            },
            "type": "scattergeo"
           }
          ],
          "scattergl": [
           {
            "marker": {
             "colorbar": {
              "outlinewidth": 0,
              "ticks": ""
             }
            },
            "type": "scattergl"
           }
          ],
          "scattermap": [
           {
            "marker": {
             "colorbar": {
              "outlinewidth": 0,
              "ticks": ""
             }
            },
            "type": "scattermap"
           }
          ],
          "scattermapbox": [
           {
            "marker": {
             "colorbar": {
              "outlinewidth": 0,
              "ticks": ""
             }
            },
            "type": "scattermapbox"
           }
          ],
          "scatterpolar": [
           {
            "marker": {
             "colorbar": {
              "outlinewidth": 0,
              "ticks": ""
             }
            },
            "type": "scatterpolar"
           }
          ],
          "scatterpolargl": [
           {
            "marker": {
             "colorbar": {
              "outlinewidth": 0,
              "ticks": ""
             }
            },
            "type": "scatterpolargl"
           }
          ],
          "scatterternary": [
           {
            "marker": {
             "colorbar": {
              "outlinewidth": 0,
              "ticks": ""
             }
            },
            "type": "scatterternary"
           }
          ],
          "surface": [
           {
            "colorbar": {
             "outlinewidth": 0,
             "ticks": ""
            },
            "colorscale": [
             [
              0,
              "#0d0887"
             ],
             [
              0.1111111111111111,
              "#46039f"
             ],
             [
              0.2222222222222222,
              "#7201a8"
             ],
             [
              0.3333333333333333,
              "#9c179e"
             ],
             [
              0.4444444444444444,
              "#bd3786"
             ],
             [
              0.5555555555555556,
              "#d8576b"
             ],
             [
              0.6666666666666666,
              "#ed7953"
             ],
             [
              0.7777777777777778,
              "#fb9f3a"
             ],
             [
              0.8888888888888888,
              "#fdca26"
             ],
             [
              1,
              "#f0f921"
             ]
            ],
            "type": "surface"
           }
          ],
          "table": [
           {
            "cells": {
             "fill": {
              "color": "#EBF0F8"
             },
             "line": {
              "color": "white"
             }
            },
            "header": {
             "fill": {
              "color": "#C8D4E3"
             },
             "line": {
              "color": "white"
             }
            },
            "type": "table"
           }
          ]
         },
         "layout": {
          "annotationdefaults": {
           "arrowcolor": "#2a3f5f",
           "arrowhead": 0,
           "arrowwidth": 1
          },
          "autotypenumbers": "strict",
          "coloraxis": {
           "colorbar": {
            "outlinewidth": 0,
            "ticks": ""
           }
          },
          "colorscale": {
           "diverging": [
            [
             0,
             "#8e0152"
            ],
            [
             0.1,
             "#c51b7d"
            ],
            [
             0.2,
             "#de77ae"
            ],
            [
             0.3,
             "#f1b6da"
            ],
            [
             0.4,
             "#fde0ef"
            ],
            [
             0.5,
             "#f7f7f7"
            ],
            [
             0.6,
             "#e6f5d0"
            ],
            [
             0.7,
             "#b8e186"
            ],
            [
             0.8,
             "#7fbc41"
            ],
            [
             0.9,
             "#4d9221"
            ],
            [
             1,
             "#276419"
            ]
           ],
           "sequential": [
            [
             0,
             "#0d0887"
            ],
            [
             0.1111111111111111,
             "#46039f"
            ],
            [
             0.2222222222222222,
             "#7201a8"
            ],
            [
             0.3333333333333333,
             "#9c179e"
            ],
            [
             0.4444444444444444,
             "#bd3786"
            ],
            [
             0.5555555555555556,
             "#d8576b"
            ],
            [
             0.6666666666666666,
             "#ed7953"
            ],
            [
             0.7777777777777778,
             "#fb9f3a"
            ],
            [
             0.8888888888888888,
             "#fdca26"
            ],
            [
             1,
             "#f0f921"
            ]
           ],
           "sequentialminus": [
            [
             0,
             "#0d0887"
            ],
            [
             0.1111111111111111,
             "#46039f"
            ],
            [
             0.2222222222222222,
             "#7201a8"
            ],
            [
             0.3333333333333333,
             "#9c179e"
            ],
            [
             0.4444444444444444,
             "#bd3786"
            ],
            [
             0.5555555555555556,
             "#d8576b"
            ],
            [
             0.6666666666666666,
             "#ed7953"
            ],
            [
             0.7777777777777778,
             "#fb9f3a"
            ],
            [
             0.8888888888888888,
             "#fdca26"
            ],
            [
             1,
             "#f0f921"
            ]
           ]
          },
          "colorway": [
           "#636efa",
           "#EF553B",
           "#00cc96",
           "#ab63fa",
           "#FFA15A",
           "#19d3f3",
           "#FF6692",
           "#B6E880",
           "#FF97FF",
           "#FECB52"
          ],
          "font": {
           "color": "#2a3f5f"
          },
          "geo": {
           "bgcolor": "white",
           "lakecolor": "white",
           "landcolor": "#E5ECF6",
           "showlakes": true,
           "showland": true,
           "subunitcolor": "white"
          },
          "hoverlabel": {
           "align": "left"
          },
          "hovermode": "closest",
          "mapbox": {
           "style": "light"
          },
          "paper_bgcolor": "white",
          "plot_bgcolor": "#E5ECF6",
          "polar": {
           "angularaxis": {
            "gridcolor": "white",
            "linecolor": "white",
            "ticks": ""
           },
           "bgcolor": "#E5ECF6",
           "radialaxis": {
            "gridcolor": "white",
            "linecolor": "white",
            "ticks": ""
           }
          },
          "scene": {
           "xaxis": {
            "backgroundcolor": "#E5ECF6",
            "gridcolor": "white",
            "gridwidth": 2,
            "linecolor": "white",
            "showbackground": true,
            "ticks": "",
            "zerolinecolor": "white"
           },
           "yaxis": {
            "backgroundcolor": "#E5ECF6",
            "gridcolor": "white",
            "gridwidth": 2,
            "linecolor": "white",
            "showbackground": true,
            "ticks": "",
            "zerolinecolor": "white"
           },
           "zaxis": {
            "backgroundcolor": "#E5ECF6",
            "gridcolor": "white",
            "gridwidth": 2,
            "linecolor": "white",
            "showbackground": true,
            "ticks": "",
            "zerolinecolor": "white"
           }
          },
          "shapedefaults": {
           "line": {
            "color": "#2a3f5f"
           }
          },
          "ternary": {
           "aaxis": {
            "gridcolor": "white",
            "linecolor": "white",
            "ticks": ""
           },
           "baxis": {
            "gridcolor": "white",
            "linecolor": "white",
            "ticks": ""
           },
           "bgcolor": "#E5ECF6",
           "caxis": {
            "gridcolor": "white",
            "linecolor": "white",
            "ticks": ""
           }
          },
          "title": {
           "x": 0.05
          },
          "xaxis": {
           "automargin": true,
           "gridcolor": "white",
           "linecolor": "white",
           "ticks": "",
           "title": {
            "standoff": 15
           },
           "zerolinecolor": "white",
           "zerolinewidth": 2
          },
          "yaxis": {
           "automargin": true,
           "gridcolor": "white",
           "linecolor": "white",
           "ticks": "",
           "title": {
            "standoff": 15
           },
           "zerolinecolor": "white",
           "zerolinewidth": 2
          }
         }
        },
        "title": {
         "text": "Shock: ACE Spacecraft in GSE Coordinates"
        },
        "width": 800
       }
      }
     },
     "metadata": {},
     "output_type": "display_data"
    },
    {
     "data": {
      "application/vnd.plotly.v1+json": {
       "config": {
        "plotlyServerURL": "https://plot.ly"
       },
       "data": [
        {
         "customdata": {
          "bdata": "fPNq4heC0UDWxLOia4HRQAVmcadae9FARTmDIlZ30UDSMj701VjRQAntJTQZPtFABkUuQj460UCg0wY67i/RQBoJ+GZUKtFASp/0SQIT0UA4pGV81A3RQPqkT3ryA9FAhtXP9HMD0UBOMWr4OwLRQAgOaZlMANFAb3TPf0IA0UAyXze6Dv7QQAAAAADO9NBAnhWNhP3y0ECF9hLaK/HQQIB6H29n6NBAv2OzrZfm0EDXmK+by9/QQCT2HZvL39BAiX3H5jHc0EBUdpg6JtzQQMPqZzom3NBAiztBHMnX0ED6rxAcydfQQChyEYZK0dBAdM9/hUrR0ECMGv42E8rQQIwa/jYTytBAmaRaO4+20EBpGR/6uK/QQE08K5pcodBAryaeFdCc0EA9CtcjfZrQQA==",
          "dtype": "f8",
          "shape": "38, 1"
         },
         "hovertemplate": "<b>%{hovertext}</b><br><br>x=%{x}<br>y=%{y}<br>z=%{z}<extra></extra>",
         "hovertext": [
          "2019-02-01",
          "2019-01-29",
          "2019-01-05",
          "2018-12-20",
          "2018-08-20",
          "2018-05-05",
          "2018-04-19",
          "2018-03-09",
          "2018-02-15",
          "2017-11-14",
          "2017-10-24",
          "2017-09-14",
          "2017-09-12",
          "2017-09-07",
          "2017-08-31",
          "2017-08-31",
          "2017-08-22",
          "2017-07-16",
          "2017-07-08",
          "2017-07-01",
          "2017-05-27",
          "2017-05-20",
          "2017-04-23",
          "2017-04-23",
          "2017-04-08",
          "2017-04-08",
          "2017-04-08",
          "2017-03-22",
          "2017-03-22",
          "2017-02-24",
          "2017-02-24",
          "2017-01-26",
          "2017-01-26",
          "2016-11-09",
          "2016-10-12",
          "2016-08-16",
          "2016-07-29",
          "2016-07-19"
         ],
         "legendgroup": "",
         "marker": {
          "color": {
           "bdata": "fPNq4heC0UDWxLOia4HRQAVmcadae9FARTmDIlZ30UDSMj701VjRQAntJTQZPtFABkUuQj460UCg0wY67i/RQBoJ+GZUKtFASp/0SQIT0UA4pGV81A3RQPqkT3ryA9FAhtXP9HMD0UBOMWr4OwLRQAgOaZlMANFAb3TPf0IA0UAyXze6Dv7QQAAAAADO9NBAnhWNhP3y0ECF9hLaK/HQQIB6H29n6NBAv2OzrZfm0EDXmK+by9/QQCT2HZvL39BAiX3H5jHc0EBUdpg6JtzQQMPqZzom3NBAiztBHMnX0ED6rxAcydfQQChyEYZK0dBAdM9/hUrR0ECMGv42E8rQQIwa/jYTytBAmaRaO4+20EBpGR/6uK/QQE08K5pcodBAryaeFdCc0EA9CtcjfZrQQA==",
           "dtype": "f8"
          },
          "coloraxis": "coloraxis",
          "opacity": 0.8,
          "size": 4,
          "symbol": "circle"
         },
         "mode": "markers",
         "name": "",
         "scene": "scene",
         "showlegend": false,
         "type": "scatter3d",
         "x": {
          "bdata": "zczMzMzMbUA9CtejcN1tQB+F61G4Tm5AmpmZmZmxbUAAAAAAABBuQFK4HoXr4WtAAAAAAAC4a0DD9Shcj8psQHsUrkfh6m1AhetRuB51a0CamZmZmXlrQPYoXI/CZW1AXI/C9Sh8bUC4HoXrUbhtQFK4HoXrOW5AzczMzMw8bkApXI/C9chuQD0K16NwzW5APQrXo3BtbkAfhetRuCZuQD0K16NwZWxAPQrXo3AVbEC4HoXrUeBrQLgehetR4GtA7FG4HoUbbED2KFyPwh1sQPYoXI/CHWxArkfhehQGbUCuR+F6FAZtQNejcD0KN25A16NwPQo3bkDNzMzMzCRuQM3MzMzMJG5AexSuR+E6a0BmZmZmZkZsQDMzMzMzA29AMzMzMzPDbkApXI/C9ThuQA==",
          "dtype": "f8"
         },
         "y": {
          "bdata": "PQrXo3A9PcDNzMzMzIw6wDMzMzMzMx1Aj8L1KFyPPEBcj8L1KLxBwGZmZmZmJjNAw/UoXI/C/b89CtejcJ1EwHsUrkfhOjzApHA9CtdjM0AUrkfhepQjwIXrUbgepUTAMzMzMzNzRMApXI/C9UhDwK5H4XoULkDAXI/C9SgcQMBI4XoUrgc4wClcj8L16DdA4XoUrkcBQEBxPQrXoxBDQD0K16Nw/TxAuB6F61F4M0BSuB6F61EzwFK4HoXrUTPApHA9CtcjQcAzMzMzMzNBwDMzMzMzM0HAAAAAAADgRMAAAAAAAOBEwOF6FK5HoTbA4XoUrkehNsAAAAAAAMAxQAAAAAAAwDFAzczMzMzMHMAUrkfhehRDwIXrUbgehQ1AuB6F61F4OkBcj8L1KNxBQA==",
          "dtype": "f8"
         },
         "z": {
          "bdata": "H4XrUbheO8DXo3A9Ctc7wHE9CtejMDbAPQrXo3A9JMD2KFyPwvU1wNejcD0K1zlAAAAAAAAAOkDhehSuR+EVwIXrUbgehTfAzczMzMxMN0AAAAAAAAA6QI/C9ShcjwzA7FG4HoXrFcCF61G4HgUkwM3MzMzMjDDA7FG4HoWrMMApXI/C9eg2wHE9Ctej8DnAUrgehevRNcCPwvUoXI8wwBSuR+F6lC5AUrgeheuRNEApXI/C9eg5QClcj8L16DlAKVyPwvWoMkBI4XoUrocyQEjhehSuhzJAAAAAAAAADEAAAAAAAAAMQM3MzMzMjDPAzczMzMyMM8AUrkfhelQ8wBSuR+F6VDzAPQrXo3D9OUDsUbgehWsyQEjhehSuhzrAH4XrUbgePMB7FK5H4Xo4wA==",
          "dtype": "f8"
         }
        },
        {
         "hoverinfo": "text",
         "marker": {
          "color": "blue",
          "line": {
           "color": "black",
           "width": 2
          },
          "opacity": 0.8,
          "size": 10
         },
         "mode": "markers+text",
         "name": "Earth",
         "text": [
          "Earth"
         ],
         "textposition": "top center",
         "type": "scatter3d",
         "x": [
          0
         ],
         "y": [
          0
         ],
         "z": [
          0
         ]
        },
        {
         "hoverinfo": "text",
         "marker": {
          "color": "red",
          "line": {
           "color": "black",
           "width": 1
          },
          "opacity": 0.8,
          "size": 5
         },
         "mode": "markers+text",
         "name": "L1",
         "text": [
          "L1"
         ],
         "textposition": "top center",
         "type": "scatter3d",
         "x": [
          238
         ],
         "y": [
          0
         ],
         "z": [
          0
         ]
        }
       ],
       "layout": {
        "coloraxis": {
         "colorbar": {
          "ticktext": [
           "2016-07",
           "2017-03",
           "2017-10",
           "2018-06",
           "2019-02"
          ],
          "tickvals": {
           "bdata": "PQrXI32a0ECNBHzTY9TQQNz+IINKDtFALPnFMjFI0UB882riF4LRQA==",
           "dtype": "f8"
          },
          "title": {
           "text": "Event Time"
          }
         },
         "colorscale": [
          [
           0,
           "#440154"
          ],
          [
           0.1111111111111111,
           "#482878"
          ],
          [
           0.2222222222222222,
           "#3e4989"
          ],
          [
           0.3333333333333333,
           "#31688e"
          ],
          [
           0.4444444444444444,
           "#26828e"
          ],
          [
           0.5555555555555556,
           "#1f9e89"
          ],
          [
           0.6666666666666666,
           "#35b779"
          ],
          [
           0.7777777777777778,
           "#6ece58"
          ],
          [
           0.8888888888888888,
           "#b5de2b"
          ],
          [
           1,
           "#fde725"
          ]
         ]
        },
        "height": 600,
        "legend": {
         "tracegroupgap": 0,
         "x": 0.8,
         "y": 0.9
        },
        "margin": {
         "b": 0,
         "l": 0,
         "r": 0,
         "t": 50
        },
        "scene": {
         "domain": {
          "x": [
           0,
           1
          ],
          "y": [
           0,
           1
          ]
         },
         "xaxis": {
          "range": [
           217.84,
           248.1
          ],
          "title": {
           "text": "X: [Earth radii]"
          }
         },
         "yaxis": {
          "range": [
           -41.75,
           38.13
          ],
          "title": {
           "text": "Y: [Earth radii]"
          }
         },
         "zaxis": {
          "range": [
           -28.33,
           26
          ],
          "title": {
           "text": "Z: [Earth radii]"
          }
         }
        },
        "template": {
         "data": {
          "bar": [
           {
            "error_x": {
             "color": "#2a3f5f"
            },
            "error_y": {
             "color": "#2a3f5f"
            },
            "marker": {
             "line": {
              "color": "#E5ECF6",
              "width": 0.5
             },
             "pattern": {
              "fillmode": "overlay",
              "size": 10,
              "solidity": 0.2
             }
            },
            "type": "bar"
           }
          ],
          "barpolar": [
           {
            "marker": {
             "line": {
              "color": "#E5ECF6",
              "width": 0.5
             },
             "pattern": {
              "fillmode": "overlay",
              "size": 10,
              "solidity": 0.2
             }
            },
            "type": "barpolar"
           }
          ],
          "carpet": [
           {
            "aaxis": {
             "endlinecolor": "#2a3f5f",
             "gridcolor": "white",
             "linecolor": "white",
             "minorgridcolor": "white",
             "startlinecolor": "#2a3f5f"
            },
            "baxis": {
             "endlinecolor": "#2a3f5f",
             "gridcolor": "white",
             "linecolor": "white",
             "minorgridcolor": "white",
             "startlinecolor": "#2a3f5f"
            },
            "type": "carpet"
           }
          ],
          "choropleth": [
           {
            "colorbar": {
             "outlinewidth": 0,
             "ticks": ""
            },
            "type": "choropleth"
           }
          ],
          "contour": [
           {
            "colorbar": {
             "outlinewidth": 0,
             "ticks": ""
            },
            "colorscale": [
             [
              0,
              "#0d0887"
             ],
             [
              0.1111111111111111,
              "#46039f"
             ],
             [
              0.2222222222222222,
              "#7201a8"
             ],
             [
              0.3333333333333333,
              "#9c179e"
             ],
             [
              0.4444444444444444,
              "#bd3786"
             ],
             [
              0.5555555555555556,
              "#d8576b"
             ],
             [
              0.6666666666666666,
              "#ed7953"
             ],
             [
              0.7777777777777778,
              "#fb9f3a"
             ],
             [
              0.8888888888888888,
              "#fdca26"
             ],
             [
              1,
              "#f0f921"
             ]
            ],
            "type": "contour"
           }
          ],
          "contourcarpet": [
           {
            "colorbar": {
             "outlinewidth": 0,
             "ticks": ""
            },
            "type": "contourcarpet"
           }
          ],
          "heatmap": [
           {
            "colorbar": {
             "outlinewidth": 0,
             "ticks": ""
            },
            "colorscale": [
             [
              0,
              "#0d0887"
             ],
             [
              0.1111111111111111,
              "#46039f"
             ],
             [
              0.2222222222222222,
              "#7201a8"
             ],
             [
              0.3333333333333333,
              "#9c179e"
             ],
             [
              0.4444444444444444,
              "#bd3786"
             ],
             [
              0.5555555555555556,
              "#d8576b"
             ],
             [
              0.6666666666666666,
              "#ed7953"
             ],
             [
              0.7777777777777778,
              "#fb9f3a"
             ],
             [
              0.8888888888888888,
              "#fdca26"
             ],
             [
              1,
              "#f0f921"
             ]
            ],
            "type": "heatmap"
           }
          ],
          "histogram": [
           {
            "marker": {
             "pattern": {
              "fillmode": "overlay",
              "size": 10,
              "solidity": 0.2
             }
            },
            "type": "histogram"
           }
          ],
          "histogram2d": [
           {
            "colorbar": {
             "outlinewidth": 0,
             "ticks": ""
            },
            "colorscale": [
             [
              0,
              "#0d0887"
             ],
             [
              0.1111111111111111,
              "#46039f"
             ],
             [
              0.2222222222222222,
              "#7201a8"
             ],
             [
              0.3333333333333333,
              "#9c179e"
             ],
             [
              0.4444444444444444,
              "#bd3786"
             ],
             [
              0.5555555555555556,
              "#d8576b"
             ],
             [
              0.6666666666666666,
              "#ed7953"
             ],
             [
              0.7777777777777778,
              "#fb9f3a"
             ],
             [
              0.8888888888888888,
              "#fdca26"
             ],
             [
              1,
              "#f0f921"
             ]
            ],
            "type": "histogram2d"
           }
          ],
          "histogram2dcontour": [
           {
            "colorbar": {
             "outlinewidth": 0,
             "ticks": ""
            },
            "colorscale": [
             [
              0,
              "#0d0887"
             ],
             [
              0.1111111111111111,
              "#46039f"
             ],
             [
              0.2222222222222222,
              "#7201a8"
             ],
             [
              0.3333333333333333,
              "#9c179e"
             ],
             [
              0.4444444444444444,
              "#bd3786"
             ],
             [
              0.5555555555555556,
              "#d8576b"
             ],
             [
              0.6666666666666666,
              "#ed7953"
             ],
             [
              0.7777777777777778,
              "#fb9f3a"
             ],
             [
              0.8888888888888888,
              "#fdca26"
             ],
             [
              1,
              "#f0f921"
             ]
            ],
            "type": "histogram2dcontour"
           }
          ],
          "mesh3d": [
           {
            "colorbar": {
             "outlinewidth": 0,
             "ticks": ""
            },
            "type": "mesh3d"
           }
          ],
          "parcoords": [
           {
            "line": {
             "colorbar": {
              "outlinewidth": 0,
              "ticks": ""
             }
            },
            "type": "parcoords"
           }
          ],
          "pie": [
           {
            "automargin": true,
            "type": "pie"
           }
          ],
          "scatter": [
           {
            "fillpattern": {
             "fillmode": "overlay",
             "size": 10,
             "solidity": 0.2
            },
            "type": "scatter"
           }
          ],
          "scatter3d": [
           {
            "line": {
             "colorbar": {
              "outlinewidth": 0,
              "ticks": ""
             }
            },
            "marker": {
             "colorbar": {
              "outlinewidth": 0,
              "ticks": ""
             }
            },
            "type": "scatter3d"
           }
          ],
          "scattercarpet": [
           {
            "marker": {
             "colorbar": {
              "outlinewidth": 0,
              "ticks": ""
             }
            },
            "type": "scattercarpet"
           }
          ],
          "scattergeo": [
           {
            "marker": {
             "colorbar": {
              "outlinewidth": 0,
              "ticks": ""
             }
            },
            "type": "scattergeo"
           }
          ],
          "scattergl": [
           {
            "marker": {
             "colorbar": {
              "outlinewidth": 0,
              "ticks": ""
             }
            },
            "type": "scattergl"
           }
          ],
          "scattermap": [
           {
            "marker": {
             "colorbar": {
              "outlinewidth": 0,
              "ticks": ""
             }
            },
            "type": "scattermap"
           }
          ],
          "scattermapbox": [
           {
            "marker": {
             "colorbar": {
              "outlinewidth": 0,
              "ticks": ""
             }
            },
            "type": "scattermapbox"
           }
          ],
          "scatterpolar": [
           {
            "marker": {
             "colorbar": {
              "outlinewidth": 0,
              "ticks": ""
             }
            },
            "type": "scatterpolar"
           }
          ],
          "scatterpolargl": [
           {
            "marker": {
             "colorbar": {
              "outlinewidth": 0,
              "ticks": ""
             }
            },
            "type": "scatterpolargl"
           }
          ],
          "scatterternary": [
           {
            "marker": {
             "colorbar": {
              "outlinewidth": 0,
              "ticks": ""
             }
            },
            "type": "scatterternary"
           }
          ],
          "surface": [
           {
            "colorbar": {
             "outlinewidth": 0,
             "ticks": ""
            },
            "colorscale": [
             [
              0,
              "#0d0887"
             ],
             [
              0.1111111111111111,
              "#46039f"
             ],
             [
              0.2222222222222222,
              "#7201a8"
             ],
             [
              0.3333333333333333,
              "#9c179e"
             ],
             [
              0.4444444444444444,
              "#bd3786"
             ],
             [
              0.5555555555555556,
              "#d8576b"
             ],
             [
              0.6666666666666666,
              "#ed7953"
             ],
             [
              0.7777777777777778,
              "#fb9f3a"
             ],
             [
              0.8888888888888888,
              "#fdca26"
             ],
             [
              1,
              "#f0f921"
             ]
            ],
            "type": "surface"
           }
          ],
          "table": [
           {
            "cells": {
             "fill": {
              "color": "#EBF0F8"
             },
             "line": {
              "color": "white"
             }
            },
            "header": {
             "fill": {
              "color": "#C8D4E3"
             },
             "line": {
              "color": "white"
             }
            },
            "type": "table"
           }
          ]
         },
         "layout": {
          "annotationdefaults": {
           "arrowcolor": "#2a3f5f",
           "arrowhead": 0,
           "arrowwidth": 1
          },
          "autotypenumbers": "strict",
          "coloraxis": {
           "colorbar": {
            "outlinewidth": 0,
            "ticks": ""
           }
          },
          "colorscale": {
           "diverging": [
            [
             0,
             "#8e0152"
            ],
            [
             0.1,
             "#c51b7d"
            ],
            [
             0.2,
             "#de77ae"
            ],
            [
             0.3,
             "#f1b6da"
            ],
            [
             0.4,
             "#fde0ef"
            ],
            [
             0.5,
             "#f7f7f7"
            ],
            [
             0.6,
             "#e6f5d0"
            ],
            [
             0.7,
             "#b8e186"
            ],
            [
             0.8,
             "#7fbc41"
            ],
            [
             0.9,
             "#4d9221"
            ],
            [
             1,
             "#276419"
            ]
           ],
           "sequential": [
            [
             0,
             "#0d0887"
            ],
            [
             0.1111111111111111,
             "#46039f"
            ],
            [
             0.2222222222222222,
             "#7201a8"
            ],
            [
             0.3333333333333333,
             "#9c179e"
            ],
            [
             0.4444444444444444,
             "#bd3786"
            ],
            [
             0.5555555555555556,
             "#d8576b"
            ],
            [
             0.6666666666666666,
             "#ed7953"
            ],
            [
             0.7777777777777778,
             "#fb9f3a"
            ],
            [
             0.8888888888888888,
             "#fdca26"
            ],
            [
             1,
             "#f0f921"
            ]
           ],
           "sequentialminus": [
            [
             0,
             "#0d0887"
            ],
            [
             0.1111111111111111,
             "#46039f"
            ],
            [
             0.2222222222222222,
             "#7201a8"
            ],
            [
             0.3333333333333333,
             "#9c179e"
            ],
            [
             0.4444444444444444,
             "#bd3786"
            ],
            [
             0.5555555555555556,
             "#d8576b"
            ],
            [
             0.6666666666666666,
             "#ed7953"
            ],
            [
             0.7777777777777778,
             "#fb9f3a"
            ],
            [
             0.8888888888888888,
             "#fdca26"
            ],
            [
             1,
             "#f0f921"
            ]
           ]
          },
          "colorway": [
           "#636efa",
           "#EF553B",
           "#00cc96",
           "#ab63fa",
           "#FFA15A",
           "#19d3f3",
           "#FF6692",
           "#B6E880",
           "#FF97FF",
           "#FECB52"
          ],
          "font": {
           "color": "#2a3f5f"
          },
          "geo": {
           "bgcolor": "white",
           "lakecolor": "white",
           "landcolor": "#E5ECF6",
           "showlakes": true,
           "showland": true,
           "subunitcolor": "white"
          },
          "hoverlabel": {
           "align": "left"
          },
          "hovermode": "closest",
          "mapbox": {
           "style": "light"
          },
          "paper_bgcolor": "white",
          "plot_bgcolor": "#E5ECF6",
          "polar": {
           "angularaxis": {
            "gridcolor": "white",
            "linecolor": "white",
            "ticks": ""
           },
           "bgcolor": "#E5ECF6",
           "radialaxis": {
            "gridcolor": "white",
            "linecolor": "white",
            "ticks": ""
           }
          },
          "scene": {
           "xaxis": {
            "backgroundcolor": "#E5ECF6",
            "gridcolor": "white",
            "gridwidth": 2,
            "linecolor": "white",
            "showbackground": true,
            "ticks": "",
            "zerolinecolor": "white"
           },
           "yaxis": {
            "backgroundcolor": "#E5ECF6",
            "gridcolor": "white",
            "gridwidth": 2,
            "linecolor": "white",
            "showbackground": true,
            "ticks": "",
            "zerolinecolor": "white"
           },
           "zaxis": {
            "backgroundcolor": "#E5ECF6",
            "gridcolor": "white",
            "gridwidth": 2,
            "linecolor": "white",
            "showbackground": true,
            "ticks": "",
            "zerolinecolor": "white"
           }
          },
          "shapedefaults": {
           "line": {
            "color": "#2a3f5f"
           }
          },
          "ternary": {
           "aaxis": {
            "gridcolor": "white",
            "linecolor": "white",
            "ticks": ""
           },
           "baxis": {
            "gridcolor": "white",
            "linecolor": "white",
            "ticks": ""
           },
           "bgcolor": "#E5ECF6",
           "caxis": {
            "gridcolor": "white",
            "linecolor": "white",
            "ticks": ""
           }
          },
          "title": {
           "x": 0.05
          },
          "xaxis": {
           "automargin": true,
           "gridcolor": "white",
           "linecolor": "white",
           "ticks": "",
           "title": {
            "standoff": 15
           },
           "zerolinecolor": "white",
           "zerolinewidth": 2
          },
          "yaxis": {
           "automargin": true,
           "gridcolor": "white",
           "linecolor": "white",
           "ticks": "",
           "title": {
            "standoff": 15
           },
           "zerolinecolor": "white",
           "zerolinewidth": 2
          }
         }
        },
        "title": {
         "text": "Shock: DSCOVR Spacecraft in GSE Coordinates"
        },
        "width": 800
       }
      }
     },
     "metadata": {},
     "output_type": "display_data"
    },
    {
     "data": {
      "application/vnd.plotly.v1+json": {
       "config": {
        "plotlyServerURL": "https://plot.ly"
       },
       "data": [
        {
         "customdata": {
          "bdata": "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",
          "dtype": "f8",
          "shape": "288, 1"
         },
         "hovertemplate": "<b>%{hovertext}</b><br><br>x=%{x}<br>y=%{y}<br>z=%{z}<extra></extra>",
         "hovertext": [
          "2024-02-24",
          "2023-12-01",
          "2023-11-25",
          "2023-10-13",
          "2023-10-03",
          "2023-09-17",
          "2023-09-05",
          "2023-08-18",
          "2023-01-23",
          "2022-07-11",
          "2022-03-28",
          "2022-01-18",
          "2021-12-27",
          "2021-11-03",
          "2021-08-27",
          "2021-06-02",
          "2021-05-26",
          "2020-11-30",
          "2019-11-22",
          "2019-11-16",
          "2019-07-08",
          "2018-05-08",
          "2018-04-20",
          "2018-03-09",
          "2017-12-05",
          "2017-11-14",
          "2017-10-24",
          "2017-10-21",
          "2017-09-12",
          "2017-08-31",
          "2017-08-22",
          "2017-04-08",
          "2017-03-24",
          "2017-02-24",
          "2017-01-05",
          "2016-12-31",
          "2016-08-03",
          "2016-04-13",
          "2016-03-11",
          "2015-12-14",
          "2015-11-18",
          "2015-11-02",
          "2015-10-07",
          "2015-09-20",
          "2015-07-13",
          "2015-06-22",
          "2015-06-21",
          "2015-05-13",
          "2015-03-31",
          "2015-01-22",
          "2014-12-23",
          "2014-12-21",
          "2014-09-11",
          "2014-07-14",
          "2014-05-29",
          "2014-04-19",
          "2014-03-25",
          "2014-02-19",
          "2013-12-08",
          "2013-12-08",
          "2013-10-29",
          "2013-10-26",
          "2013-08-24",
          "2013-08-22",
          "2013-07-18",
          "2013-05-24",
          "2013-05-18",
          "2013-04-30",
          "2013-01-25",
          "2012-11-12",
          "2012-09-30",
          "2012-07-14",
          "2012-06-16",
          "2012-05-21",
          "2012-05-15",
          "2012-05-09",
          "2012-04-23",
          "2012-04-13",
          "2012-04-13",
          "2012-03-18",
          "2012-03-15",
          "2012-02-20",
          "2012-01-22",
          "2011-12-02",
          "2011-11-28",
          "2011-09-17",
          "2011-08-05",
          "2011-08-05",
          "2011-08-04",
          "2011-07-11",
          "2011-06-10",
          "2011-06-04",
          "2011-03-14",
          "2011-02-18",
          "2011-02-04",
          "2010-08-03",
          "2010-04-05",
          "2010-04-02",
          "2010-02-15",
          "2010-02-11",
          "2009-10-31",
          "2009-07-14",
          "2009-06-27",
          "2009-05-28",
          "2009-02-03",
          "2008-11-25",
          "2008-07-22",
          "2008-06-15",
          "2008-04-05",
          "2008-03-09",
          "2008-01-06",
          "2007-10-25",
          "2006-12-18",
          "2006-12-08",
          "2006-10-07",
          "2006-08-19",
          "2006-08-17",
          "2006-08-07",
          "2006-07-28",
          "2006-07-09",
          "2006-05-07",
          "2006-04-09",
          "2006-01-26",
          "2006-01-01",
          "2005-09-15",
          "2005-09-12",
          "2005-09-09",
          "2005-09-02",
          "2005-08-25",
          "2005-08-24",
          "2005-08-24",
          "2005-08-17",
          "2005-07-29",
          "2005-07-17",
          "2005-07-10",
          "2005-06-14",
          "2005-05-08",
          "2005-04-05",
          "2005-03-25",
          "2005-01-01",
          "2004-11-21",
          "2004-11-09",
          "2004-11-07",
          "2004-11-07",
          "2004-09-22",
          "2004-08-01",
          "2004-07-22",
          "2004-07-16",
          "2004-04-26",
          "2004-04-24",
          "2004-04-10",
          "2004-01-22",
          "2003-11-20",
          "2003-11-15",
          "2003-11-04",
          "2003-08-17",
          "2003-07-27",
          "2003-07-17",
          "2003-07-06",
          "2003-06-20",
          "2003-06-18",
          "2003-05-29",
          "2003-05-09",
          "2003-03-20",
          "2002-12-19",
          "2002-11-09",
          "2002-10-16",
          "2002-10-02",
          "2002-08-01",
          "2002-07-29",
          "2002-07-25",
          "2002-07-19",
          "2002-05-23",
          "2002-05-20",
          "2002-05-18",
          "2002-05-11",
          "2002-05-10",
          "2002-04-23",
          "2002-04-19",
          "2002-03-29",
          "2002-03-23",
          "2001-12-29",
          "2001-10-28",
          "2001-10-22",
          "2001-10-21",
          "2001-09-29",
          "2001-09-14",
          "2001-08-30",
          "2001-08-12",
          "2001-05-27",
          "2001-04-28",
          "2001-04-21",
          "2001-04-11",
          "2001-04-07",
          "2001-04-04",
          "2001-03-27",
          "2001-03-27",
          "2001-01-17",
          "2000-11-10",
          "2000-11-04",
          "2000-10-31",
          "2000-10-05",
          "2000-09-06",
          "2000-08-14",
          "2000-08-11",
          "2000-08-05",
          "2000-07-28",
          "2000-07-13",
          "2000-06-23",
          "2000-06-08",
          "2000-04-24",
          "2000-04-17",
          "2000-04-06",
          "2000-03-22",
          "2000-02-11",
          "1999-12-11",
          "1999-11-13",
          "1999-10-21",
          "1999-09-22",
          "1999-09-15",
          "1999-09-12",
          "1999-08-23",
          "1999-06-26",
          "1999-05-25",
          "1999-05-18",
          "1999-05-18",
          "1999-03-10",
          "1999-02-17",
          "1999-02-11",
          "1998-11-12",
          "1998-11-08",
          "1998-10-02",
          "1998-09-24",
          "1998-08-26",
          "1998-08-06",
          "1998-07-31",
          "1998-07-17",
          "1998-05-29",
          "1998-05-15",
          "1998-05-01",
          "1998-04-30",
          "1998-04-23",
          "1997-12-30",
          "1997-12-10",
          "1997-11-22",
          "1997-11-06",
          "1997-10-24",
          "1997-10-10",
          "1997-09-02",
          "1997-05-20",
          "1997-05-15",
          "1997-03-05",
          "1997-01-28",
          "1997-01-10",
          "1996-12-02",
          "1996-09-26",
          "1996-04-08",
          "1995-12-25",
          "1995-12-24",
          "1995-09-14",
          "1995-08-24",
          "1995-08-22",
          "1995-08-17",
          "1995-07-24",
          "1995-07-23",
          "1995-04-18",
          "1995-03-23",
          "1995-03-12",
          "1995-03-04",
          "1995-02-11",
          "1995-01-01",
          "1992-05-22",
          "1992-02-24",
          "1992-02-24",
          "1992-01-12",
          "1989-11-28",
          "1989-08-16",
          "1988-12-11",
          "1988-08-25",
          "1988-01-04",
          "1987-09-24",
          "1987-04-04",
          "1985-12-18",
          "1984-07-09",
          "1984-02-20",
          "1983-04-12",
          "1981-05-10",
          "1981-02-06"
         ],
         "legendgroup": "",
         "marker": {
          "color": {
           "bdata": "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",
           "dtype": "f8"
          },
          "coloraxis": "coloraxis",
          "opacity": 0.8,
          "size": 4,
          "symbol": "circle"
         },
         "mode": "markers",
         "name": "",
         "scene": "scene",
         "showlegend": false,
         "type": "scatter3d",
         "x": {
          "bdata": "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",
          "dtype": "f8"
         },
         "y": {
          "bdata": "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",
          "dtype": "f8"
         },
         "z": {
          "bdata": "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",
          "dtype": "f8"
         }
        },
        {
         "hoverinfo": "text",
         "marker": {
          "color": "blue",
          "line": {
           "color": "black",
           "width": 2
          },
          "opacity": 0.8,
          "size": 10
         },
         "mode": "markers+text",
         "name": "Earth",
         "text": [
          "Earth"
         ],
         "textposition": "top center",
         "type": "scatter3d",
         "x": [
          0
         ],
         "y": [
          0
         ],
         "z": [
          0
         ]
        },
        {
         "hoverinfo": "text",
         "marker": {
          "color": "red",
          "line": {
           "color": "black",
           "width": 1
          },
          "opacity": 0.8,
          "size": 5
         },
         "mode": "markers+text",
         "name": "L1",
         "text": [
          "L1"
         ],
         "textposition": "top center",
         "type": "scatter3d",
         "x": [
          238
         ],
         "y": [
          0
         ],
         "z": [
          0
         ]
        }
       ],
       "layout": {
        "coloraxis": {
         "colorbar": {
          "ticktext": [
           "1981-02",
           "1991-11",
           "2002-08",
           "2013-05",
           "2024-02"
          ],
          "tickvals": {
           "bdata": "2IIt2Lqsr0AUuQgDMzG/QF5Y/UwERsdAMlR2GG/zzkADqPfxbFDTQA==",
           "dtype": "f8"
          },
          "title": {
           "text": "Event Time"
          }
         },
         "colorscale": [
          [
           0,
           "#440154"
          ],
          [
           0.1111111111111111,
           "#482878"
          ],
          [
           0.2222222222222222,
           "#3e4989"
          ],
          [
           0.3333333333333333,
           "#31688e"
          ],
          [
           0.4444444444444444,
           "#26828e"
          ],
          [
           0.5555555555555556,
           "#1f9e89"
          ],
          [
           0.6666666666666666,
           "#35b779"
          ],
          [
           0.7777777777777778,
           "#6ece58"
          ],
          [
           0.8888888888888888,
           "#b5de2b"
          ],
          [
           1,
           "#fde725"
          ]
         ]
        },
        "height": 600,
        "legend": {
         "tracegroupgap": 0,
         "x": 0.8,
         "y": 0.9
        },
        "margin": {
         "b": 0,
         "l": 0,
         "r": 0,
         "t": 50
        },
        "scene": {
         "domain": {
          "x": [
           0,
           1
          ],
          "y": [
           0,
           1
          ]
         },
         "xaxis": {
          "range": [
           7.47,
           20.12
          ],
          "title": {
           "text": "X: [Earth radii]"
          }
         },
         "yaxis": {
          "range": [
           -3.1,
           1.15
          ],
          "title": {
           "text": "Y: [Earth radii]"
          }
         },
         "zaxis": {
          "range": [
           -1.86,
           2.6
          ],
          "title": {
           "text": "Z: [Earth radii]"
          }
         }
        },
        "template": {
         "data": {
          "bar": [
           {
            "error_x": {
             "color": "#2a3f5f"
            },
            "error_y": {
             "color": "#2a3f5f"
            },
            "marker": {
             "line": {
              "color": "#E5ECF6",
              "width": 0.5
             },
             "pattern": {
              "fillmode": "overlay",
              "size": 10,
              "solidity": 0.2
             }
            },
            "type": "bar"
           }
          ],
          "barpolar": [
           {
            "marker": {
             "line": {
              "color": "#E5ECF6",
              "width": 0.5
             },
             "pattern": {
              "fillmode": "overlay",
              "size": 10,
              "solidity": 0.2
             }
            },
            "type": "barpolar"
           }
          ],
          "carpet": [
           {
            "aaxis": {
             "endlinecolor": "#2a3f5f",
             "gridcolor": "white",
             "linecolor": "white",
             "minorgridcolor": "white",
             "startlinecolor": "#2a3f5f"
            },
            "baxis": {
             "endlinecolor": "#2a3f5f",
             "gridcolor": "white",
             "linecolor": "white",
             "minorgridcolor": "white",
             "startlinecolor": "#2a3f5f"
            },
            "type": "carpet"
           }
          ],
          "choropleth": [
           {
            "colorbar": {
             "outlinewidth": 0,
             "ticks": ""
            },
            "type": "choropleth"
           }
          ],
          "contour": [
           {
            "colorbar": {
             "outlinewidth": 0,
             "ticks": ""
            },
            "colorscale": [
             [
              0,
              "#0d0887"
             ],
             [
              0.1111111111111111,
              "#46039f"
             ],
             [
              0.2222222222222222,
              "#7201a8"
             ],
             [
              0.3333333333333333,
              "#9c179e"
             ],
             [
              0.4444444444444444,
              "#bd3786"
             ],
             [
              0.5555555555555556,
              "#d8576b"
             ],
             [
              0.6666666666666666,
              "#ed7953"
             ],
             [
              0.7777777777777778,
              "#fb9f3a"
             ],
             [
              0.8888888888888888,
              "#fdca26"
             ],
             [
              1,
              "#f0f921"
             ]
            ],
            "type": "contour"
           }
          ],
          "contourcarpet": [
           {
            "colorbar": {
             "outlinewidth": 0,
             "ticks": ""
            },
            "type": "contourcarpet"
           }
          ],
          "heatmap": [
           {
            "colorbar": {
             "outlinewidth": 0,
             "ticks": ""
            },
            "colorscale": [
             [
              0,
              "#0d0887"
             ],
             [
              0.1111111111111111,
              "#46039f"
             ],
             [
              0.2222222222222222,
              "#7201a8"
             ],
             [
              0.3333333333333333,
              "#9c179e"
             ],
             [
              0.4444444444444444,
              "#bd3786"
             ],
             [
              0.5555555555555556,
              "#d8576b"
             ],
             [
              0.6666666666666666,
              "#ed7953"
             ],
             [
              0.7777777777777778,
              "#fb9f3a"
             ],
             [
              0.8888888888888888,
              "#fdca26"
             ],
             [
              1,
              "#f0f921"
             ]
            ],
            "type": "heatmap"
           }
          ],
          "histogram": [
           {
            "marker": {
             "pattern": {
              "fillmode": "overlay",
              "size": 10,
              "solidity": 0.2
             }
            },
            "type": "histogram"
           }
          ],
          "histogram2d": [
           {
            "colorbar": {
             "outlinewidth": 0,
             "ticks": ""
            },
            "colorscale": [
             [
              0,
              "#0d0887"
             ],
             [
              0.1111111111111111,
              "#46039f"
             ],
             [
              0.2222222222222222,
              "#7201a8"
             ],
             [
              0.3333333333333333,
              "#9c179e"
             ],
             [
              0.4444444444444444,
              "#bd3786"
             ],
             [
              0.5555555555555556,
              "#d8576b"
             ],
             [
              0.6666666666666666,
              "#ed7953"
             ],
             [
              0.7777777777777778,
              "#fb9f3a"
             ],
             [
              0.8888888888888888,
              "#fdca26"
             ],
             [
              1,
              "#f0f921"
             ]
            ],
            "type": "histogram2d"
           }
          ],
          "histogram2dcontour": [
           {
            "colorbar": {
             "outlinewidth": 0,
             "ticks": ""
            },
            "colorscale": [
             [
              0,
              "#0d0887"
             ],
             [
              0.1111111111111111,
              "#46039f"
             ],
             [
              0.2222222222222222,
              "#7201a8"
             ],
             [
              0.3333333333333333,
              "#9c179e"
             ],
             [
              0.4444444444444444,
              "#bd3786"
             ],
             [
              0.5555555555555556,
              "#d8576b"
             ],
             [
              0.6666666666666666,
              "#ed7953"
             ],
             [
              0.7777777777777778,
              "#fb9f3a"
             ],
             [
              0.8888888888888888,
              "#fdca26"
             ],
             [
              1,
              "#f0f921"
             ]
            ],
            "type": "histogram2dcontour"
           }
          ],
          "mesh3d": [
           {
            "colorbar": {
             "outlinewidth": 0,
             "ticks": ""
            },
            "type": "mesh3d"
           }
          ],
          "parcoords": [
           {
            "line": {
             "colorbar": {
              "outlinewidth": 0,
              "ticks": ""
             }
            },
            "type": "parcoords"
           }
          ],
          "pie": [
           {
            "automargin": true,
            "type": "pie"
           }
          ],
          "scatter": [
           {
            "fillpattern": {
             "fillmode": "overlay",
             "size": 10,
             "solidity": 0.2
            },
            "type": "scatter"
           }
          ],
          "scatter3d": [
           {
            "line": {
             "colorbar": {
              "outlinewidth": 0,
              "ticks": ""
             }
            },
            "marker": {
             "colorbar": {
              "outlinewidth": 0,
              "ticks": ""
             }
            },
            "type": "scatter3d"
           }
          ],
          "scattercarpet": [
           {
            "marker": {
             "colorbar": {
              "outlinewidth": 0,
              "ticks": ""
             }
            },
            "type": "scattercarpet"
           }
          ],
          "scattergeo": [
           {
            "marker": {
             "colorbar": {
              "outlinewidth": 0,
              "ticks": ""
             }
            },
            "type": "scattergeo"
           }
          ],
          "scattergl": [
           {
            "marker": {
             "colorbar": {
              "outlinewidth": 0,
              "ticks": ""
             }
            },
            "type": "scattergl"
           }
          ],
          "scattermap": [
           {
            "marker": {
             "colorbar": {
              "outlinewidth": 0,
              "ticks": ""
             }
            },
            "type": "scattermap"
           }
          ],
          "scattermapbox": [
           {
            "marker": {
             "colorbar": {
              "outlinewidth": 0,
              "ticks": ""
             }
            },
            "type": "scattermapbox"
           }
          ],
          "scatterpolar": [
           {
            "marker": {
             "colorbar": {
              "outlinewidth": 0,
              "ticks": ""
             }
            },
            "type": "scatterpolar"
           }
          ],
          "scatterpolargl": [
           {
            "marker": {
             "colorbar": {
              "outlinewidth": 0,
              "ticks": ""
             }
            },
            "type": "scatterpolargl"
           }
          ],
          "scatterternary": [
           {
            "marker": {
             "colorbar": {
              "outlinewidth": 0,
              "ticks": ""
             }
            },
            "type": "scatterternary"
           }
          ],
          "surface": [
           {
            "colorbar": {
             "outlinewidth": 0,
             "ticks": ""
            },
            "colorscale": [
             [
              0,
              "#0d0887"
             ],
             [
              0.1111111111111111,
              "#46039f"
             ],
             [
              0.2222222222222222,
              "#7201a8"
             ],
             [
              0.3333333333333333,
              "#9c179e"
             ],
             [
              0.4444444444444444,
              "#bd3786"
             ],
             [
              0.5555555555555556,
              "#d8576b"
             ],
             [
              0.6666666666666666,
              "#ed7953"
             ],
             [
              0.7777777777777778,
              "#fb9f3a"
             ],
             [
              0.8888888888888888,
              "#fdca26"
             ],
             [
              1,
              "#f0f921"
             ]
            ],
            "type": "surface"
           }
          ],
          "table": [
           {
            "cells": {
             "fill": {
              "color": "#EBF0F8"
             },
             "line": {
              "color": "white"
             }
            },
            "header": {
             "fill": {
              "color": "#C8D4E3"
             },
             "line": {
              "color": "white"
             }
            },
            "type": "table"
           }
          ]
         },
         "layout": {
          "annotationdefaults": {
           "arrowcolor": "#2a3f5f",
           "arrowhead": 0,
           "arrowwidth": 1
          },
          "autotypenumbers": "strict",
          "coloraxis": {
           "colorbar": {
            "outlinewidth": 0,
            "ticks": ""
           }
          },
          "colorscale": {
           "diverging": [
            [
             0,
             "#8e0152"
            ],
            [
             0.1,
             "#c51b7d"
            ],
            [
             0.2,
             "#de77ae"
            ],
            [
             0.3,
             "#f1b6da"
            ],
            [
             0.4,
             "#fde0ef"
            ],
            [
             0.5,
             "#f7f7f7"
            ],
            [
             0.6,
             "#e6f5d0"
            ],
            [
             0.7,
             "#b8e186"
            ],
            [
             0.8,
             "#7fbc41"
            ],
            [
             0.9,
             "#4d9221"
            ],
            [
             1,
             "#276419"
            ]
           ],
           "sequential": [
            [
             0,
             "#0d0887"
            ],
            [
             0.1111111111111111,
             "#46039f"
            ],
            [
             0.2222222222222222,
             "#7201a8"
            ],
            [
             0.3333333333333333,
             "#9c179e"
            ],
            [
             0.4444444444444444,
             "#bd3786"
            ],
            [
             0.5555555555555556,
             "#d8576b"
            ],
            [
             0.6666666666666666,
             "#ed7953"
            ],
            [
             0.7777777777777778,
             "#fb9f3a"
            ],
            [
             0.8888888888888888,
             "#fdca26"
            ],
            [
             1,
             "#f0f921"
            ]
           ],
           "sequentialminus": [
            [
             0,
             "#0d0887"
            ],
            [
             0.1111111111111111,
             "#46039f"
            ],
            [
             0.2222222222222222,
             "#7201a8"
            ],
            [
             0.3333333333333333,
             "#9c179e"
            ],
            [
             0.4444444444444444,
             "#bd3786"
            ],
            [
             0.5555555555555556,
             "#d8576b"
            ],
            [
             0.6666666666666666,
             "#ed7953"
            ],
            [
             0.7777777777777778,
             "#fb9f3a"
            ],
            [
             0.8888888888888888,
             "#fdca26"
            ],
            [
             1,
             "#f0f921"
            ]
           ]
          },
          "colorway": [
           "#636efa",
           "#EF553B",
           "#00cc96",
           "#ab63fa",
           "#FFA15A",
           "#19d3f3",
           "#FF6692",
           "#B6E880",
           "#FF97FF",
           "#FECB52"
          ],
          "font": {
           "color": "#2a3f5f"
          },
          "geo": {
           "bgcolor": "white",
           "lakecolor": "white",
           "landcolor": "#E5ECF6",
           "showlakes": true,
           "showland": true,
           "subunitcolor": "white"
          },
          "hoverlabel": {
           "align": "left"
          },
          "hovermode": "closest",
          "mapbox": {
           "style": "light"
          },
          "paper_bgcolor": "white",
          "plot_bgcolor": "#E5ECF6",
          "polar": {
           "angularaxis": {
            "gridcolor": "white",
            "linecolor": "white",
            "ticks": ""
           },
           "bgcolor": "#E5ECF6",
           "radialaxis": {
            "gridcolor": "white",
            "linecolor": "white",
            "ticks": ""
           }
          },
          "scene": {
           "xaxis": {
            "backgroundcolor": "#E5ECF6",
            "gridcolor": "white",
            "gridwidth": 2,
            "linecolor": "white",
            "showbackground": true,
            "ticks": "",
            "zerolinecolor": "white"
           },
           "yaxis": {
            "backgroundcolor": "#E5ECF6",
            "gridcolor": "white",
            "gridwidth": 2,
            "linecolor": "white",
            "showbackground": true,
            "ticks": "",
            "zerolinecolor": "white"
           },
           "zaxis": {
            "backgroundcolor": "#E5ECF6",
            "gridcolor": "white",
            "gridwidth": 2,
            "linecolor": "white",
            "showbackground": true,
            "ticks": "",
            "zerolinecolor": "white"
           }
          },
          "shapedefaults": {
           "line": {
            "color": "#2a3f5f"
           }
          },
          "ternary": {
           "aaxis": {
            "gridcolor": "white",
            "linecolor": "white",
            "ticks": ""
           },
           "baxis": {
            "gridcolor": "white",
            "linecolor": "white",
            "ticks": ""
           },
           "bgcolor": "#E5ECF6",
           "caxis": {
            "gridcolor": "white",
            "linecolor": "white",
            "ticks": ""
           }
          },
          "title": {
           "x": 0.05
          },
          "xaxis": {
           "automargin": true,
           "gridcolor": "white",
           "linecolor": "white",
           "ticks": "",
           "title": {
            "standoff": 15
           },
           "zerolinecolor": "white",
           "zerolinewidth": 2
          },
          "yaxis": {
           "automargin": true,
           "gridcolor": "white",
           "linecolor": "white",
           "ticks": "",
           "title": {
            "standoff": 15
           },
           "zerolinecolor": "white",
           "zerolinewidth": 2
          }
         }
        },
        "title": {
         "text": "Shock: OMNI Spacecraft in GSE Coordinates"
        },
        "width": 800
       }
      }
     },
     "metadata": {},
     "output_type": "display_data"
    }
   ],
   "source": [
    "GSE_sc_plot(Wind_df[:425], 'Shock: Wind Spacecraft in GSE Coordinates')\n",
    "GSE_sc_plot(Wind_df, 'Shock: Wind Spacecraft in GSE Coordinates')\n",
    "GSE_sc_plot(ACE_df, 'Shock: ACE Spacecraft in GSE Coordinates')\n",
    "GSE_sc_plot(DSCOVR_df, 'Shock: DSCOVR Spacecraft in GSE Coordinates')\n",
    "GSE_sc_plot(OMNI_df, 'Shock: OMNI Spacecraft in GSE Coordinates')"
   ]
  },
  {
   "cell_type": "code",
   "execution_count": 5,
   "id": "31a501d1",
   "metadata": {},
   "outputs": [],
   "source": [
    "import plotly.express as px\n",
    "import plotly.graph_objects as go\n",
    "import numpy as np\n",
    "\n",
    "def GSE_sc_plot_all(plot_df, plot_df2, plot_df3, plot_df4, plot_title):\n",
    "    # === Prepare plot_df (Wind) ===\n",
    "    event_time_dt_1 = pd.DatetimeIndex(plot_df['Time'])\n",
    "    event_time_numeric_1 = (event_time_dt_1 - pd.Timestamp(\"1970-01-01\")) / pd.Timedelta(days=1)\n",
    "    event_dates_str_1 = event_time_dt_1.strftime('%Y-%m-%d')\n",
    "\n",
    "    df_Wind = pd.DataFrame({\n",
    "        'x': plot_df['SC_X'],\n",
    "        'y': plot_df['SC_Y'],\n",
    "        'z': plot_df['SC_Z'],\n",
    "        'Event Time Numeric': event_time_numeric_1,\n",
    "        'Event Time Label': event_dates_str_1,\n",
    "        'Event Time': event_time_dt_1\n",
    "    })\n",
    "\n",
    "    # === Prepare plot_df2 (ACE) ===\n",
    "    event_time_dt_2 = pd.DatetimeIndex(plot_df2['Time'])\n",
    "    event_time_numeric_2 = (event_time_dt_2 - pd.Timestamp(\"1970-01-01\")) / pd.Timedelta(days=1)\n",
    "    event_dates_str_2 = event_time_dt_2.strftime('%Y-%m-%d')\n",
    "\n",
    "    df_ACE = pd.DataFrame({\n",
    "        'x': plot_df2['SC_X'],\n",
    "        'y': plot_df2['SC_Y'],\n",
    "        'z': plot_df2['SC_Z'],\n",
    "        'Event Time Numeric': event_time_numeric_2,\n",
    "        'Event Time Label': event_dates_str_2,\n",
    "        'Event Time': event_time_dt_2\n",
    "    })\n",
    "\n",
    "    # === Prepare plot_df3 (DSCOVR) ===\n",
    "    event_time_dt_3 = pd.DatetimeIndex(plot_df3['Time'])\n",
    "    event_time_numeric_3 = (event_time_dt_3 - pd.Timestamp(\"1970-01-01\")) / pd.Timedelta(days=1)\n",
    "    event_dates_str_3 = event_time_dt_3.strftime('%Y-%m-%d')\n",
    "\n",
    "    df_DSCOVR = pd.DataFrame({\n",
    "        'x': plot_df3['SC_X'],\n",
    "        'y': plot_df3['SC_Y'],\n",
    "        'z': plot_df3['SC_Z'],\n",
    "        'Event Time Numeric': event_time_numeric_3,\n",
    "        'Event Time Label': event_dates_str_3,\n",
    "        'Event Time': event_time_dt_3\n",
    "    })\n",
    "\n",
    "    # === Prepare plot_df4 (OMNI) ===\n",
    "    event_time_dt_4 = pd.DatetimeIndex(plot_df4['Time'])\n",
    "    event_time_numeric_4 = (event_time_dt_4 - pd.Timestamp(\"1970-01-01\")) / pd.Timedelta(days=1)\n",
    "    event_dates_str_4 = event_time_dt_4.strftime('%Y-%m-%d')\n",
    "\n",
    "    df_OMNI = pd.DataFrame({\n",
    "        'x': plot_df4['SC_X'],\n",
    "        'y': plot_df4['SC_Y'],\n",
    "        'z': plot_df4['SC_Z'],\n",
    "        'Event Time Numeric': event_time_numeric_4,\n",
    "        'Event Time Label': event_dates_str_4,\n",
    "        'Event Time': event_time_dt_4\n",
    "    })\n",
    "\n",
    "    # === Start with an empty figure ===\n",
    "    fig = go.Figure()\n",
    "\n",
    "    # === Add Wind scatter (black) ===\n",
    "    fig.add_trace(go.Scatter3d(\n",
    "        x=df_Wind['x'], y=df_Wind['y'], z=df_Wind['z'],\n",
    "        mode='markers',\n",
    "        marker=dict(size=3, color='black', opacity=0.4),\n",
    "        name='Wind',\n",
    "        text=df_Wind['Event Time Label'],\n",
    "        hoverinfo='text'\n",
    "    ))\n",
    "\n",
    "    # === Add ACE scatter (green) ===\n",
    "    fig.add_trace(go.Scatter3d(\n",
    "        x=df_ACE['x'], y=df_ACE['y'], z=df_ACE['z'],\n",
    "        mode='markers',\n",
    "        marker=dict(size=3, color='green', opacity=0.6),\n",
    "        name='ACE', \n",
    "        text=df_ACE['Event Time Label'],\n",
    "        hoverinfo='text'\n",
    "    ))\n",
    "\n",
    "    # === Add DSCOVR scatter (orange) ===\n",
    "    fig.add_trace(go.Scatter3d(\n",
    "        x=df_DSCOVR['x'], y=df_DSCOVR['y'], z=df_DSCOVR['z'],\n",
    "        mode='markers',\n",
    "        marker=dict(size=3, color='orange', opacity=0.6),\n",
    "        name='DSCOVR', \n",
    "        text=df_DSCOVR['Event Time Label'],\n",
    "        hoverinfo='text'\n",
    "    ))\n",
    "\n",
    "    # === Add OMNI scatter (pink) ===\n",
    "    fig.add_trace(go.Scatter3d(\n",
    "        x=df_OMNI['x'], y=df_OMNI['y'], z=df_OMNI['z'],\n",
    "        mode='markers',\n",
    "        marker=dict(size=3, color='pink', opacity=0.6),\n",
    "        name='OMNI', \n",
    "        text=df_OMNI['Event Time Label'],\n",
    "        hoverinfo='text'\n",
    "    ))\n",
    "\n",
    "    # === Earth marker (blue) ===\n",
    "    fig.add_trace(go.Scatter3d(\n",
    "        x=[0], y=[0], z=[0],\n",
    "        mode='markers+text',\n",
    "        marker=dict(size=10, color='blue', line=dict(color='black', width=2)),\n",
    "        text=['Earth'],\n",
    "        textposition='top center',\n",
    "        name='Earth',\n",
    "        hoverinfo='text'\n",
    "    ))\n",
    "\n",
    "    # === L1 marker (red) ===\n",
    "    fig.add_trace(go.Scatter3d(\n",
    "        x=[238], y=[0], z=[0],\n",
    "        mode='markers+text',\n",
    "        marker=dict(size=5, color='red', line=dict(color='black', width=1)),\n",
    "        text=['L1'],\n",
    "        textposition='top center',\n",
    "        name='L1',\n",
    "        hoverinfo='text'\n",
    "    ))\n",
    "\n",
    "    # === Layout customization ===\n",
    "    all_x = pd.concat([df_Wind['x'], df_ACE['x'], df_DSCOVR['x'], df_OMNI['x']])\n",
    "    all_y = pd.concat([df_Wind['y'], df_ACE['y'], df_DSCOVR['y'], df_OMNI['y']])\n",
    "    all_z = pd.concat([df_Wind['z'], df_ACE['z'], df_DSCOVR['z'], df_OMNI['z']])\n",
    "\n",
    "    fig.update_layout(\n",
    "        title=plot_title,\n",
    "        scene=dict(\n",
    "            xaxis=dict(title='X [Earth radii]', range=[np.min(all_x), np.max(all_x)]),\n",
    "            yaxis=dict(title='Y [Earth radii]', range=[np.min(all_y), np.max(all_y)]),\n",
    "            zaxis=dict(title='Z [Earth radii]', range=[np.min(all_z), np.max(all_z)])\n",
    "        ),\n",
    "        legend=dict(x=0.8, y=0.9),\n",
    "        margin=dict(l=0, r=0, b=0, t=50),\n",
    "        width=800,\n",
    "        height=600\n",
    "    )\n",
    "\n",
    "    fig.show()\n"
   ]
  },
  {
   "cell_type": "code",
   "execution_count": 6,
   "id": "6909fb76",
   "metadata": {},
   "outputs": [
    {
     "data": {
      "application/vnd.plotly.v1+json": {
       "config": {
        "plotlyServerURL": "https://plot.ly"
       },
       "data": [
        {
         "hoverinfo": "text",
         "marker": {
          "color": "black",
          "opacity": 0.4,
          "size": 3
         },
         "mode": "markers",
         "name": "Wind",
         "text": [
          "2024-03-25",
          "2024-03-24",
          "2024-02-24",
          "2024-02-13",
          "2024-02-11",
          "2024-02-08",
          "2024-01-25",
          "2024-01-03",
          "2024-01-03",
          "2023-12-28",
          "2023-12-17",
          "2023-12-15",
          "2023-12-13",
          "2023-11-30",
          "2023-11-25",
          "2023-11-13",
          "2023-11-12",
          "2023-11-05",
          "2023-11-05",
          "2023-10-27",
          "2023-10-18",
          "2023-10-13",
          "2023-10-03",
          "2023-09-24",
          "2023-09-18",
          "2023-09-17",
          "2023-09-05",
          "2023-08-18",
          "2023-08-07",
          "2023-07-13",
          "2023-06-16",
          "2023-06-07",
          "2023-05-12",
          "2023-05-09",
          "2023-05-06",
          "2023-04-23",
          "2023-04-18",
          "2023-04-09",
          "2023-03-15",
          "2023-02-26",
          "2023-02-20",
          "2023-02-14",
          "2023-02-01",
          "2023-01-23",
          "2023-01-17",
          "2022-08-29",
          "2022-08-19",
          "2022-08-17",
          "2022-07-23",
          "2022-07-18",
          "2022-07-11",
          "2022-07-07",
          "2022-06-15",
          "2022-06-06",
          "2022-05-19",
          "2022-05-01",
          "2022-04-12",
          "2022-03-13",
          "2022-02-11",
          "2022-02-09",
          "2022-02-01",
          "2022-01-21",
          "2022-01-18",
          "2022-01-15",
          "2022-01-09",
          "2022-01-08",
          "2021-12-30",
          "2021-12-27",
          "2021-12-20",
          "2021-12-19",
          "2021-11-27",
          "2021-11-03",
          "2021-10-31",
          "2021-10-12",
          "2021-10-05",
          "2021-09-17",
          "2021-08-29",
          "2021-08-27",
          "2021-07-15",
          "2021-07-05",
          "2021-06-02",
          "2021-05-26",
          "2021-05-17",
          "2021-05-12",
          "2021-04-24",
          "2021-01-11",
          "2020-12-10",
          "2020-10-24",
          "2020-10-19",
          "2020-09-20",
          "2020-06-30",
          "2020-04-20",
          "2020-04-14",
          "2020-02-18",
          "2019-11-22",
          "2019-11-16",
          "2019-09-27",
          "2019-09-24",
          "2019-09-24",
          "2019-09-01",
          "2019-08-20",
          "2019-07-27",
          "2019-07-08",
          "2019-06-08",
          "2019-05-26",
          "2019-03-24",
          "2019-02-01",
          "2019-01-25",
          "2019-01-22",
          "2018-05-08",
          "2018-05-06",
          "2018-05-05",
          "2018-04-19",
          "2018-03-09",
          "2018-02-15",
          "2018-01-09",
          "2018-01-08",
          "2017-12-05",
          "2017-10-21",
          "2017-09-14",
          "2017-09-12",
          "2017-09-07",
          "2017-08-31",
          "2017-08-31",
          "2017-08-31",
          "2017-08-29",
          "2017-08-22",
          "2017-07-18",
          "2017-07-16",
          "2017-07-11",
          "2017-07-08",
          "2017-07-01",
          "2017-05-30",
          "2017-05-27",
          "2017-05-20",
          "2017-02-24",
          "2017-01-27",
          "2017-01-05",
          "2016-12-31",
          "2016-11-09",
          "2016-10-12",
          "2016-09-08",
          "2016-08-03",
          "2016-07-29",
          "2016-07-19",
          "2016-04-14",
          "2016-04-13",
          "2016-03-11",
          "2016-03-11",
          "2016-03-07",
          "2016-02-13",
          "2016-01-21",
          "2016-01-18",
          "2015-12-31",
          "2015-12-19",
          "2015-12-14",
          "2015-11-18",
          "2015-11-06",
          "2015-11-04",
          "2015-11-03",
          "2015-11-03",
          "2015-10-24",
          "2015-09-20",
          "2015-08-15",
          "2015-08-07",
          "2015-06-27",
          "2015-06-24",
          "2015-06-22",
          "2015-06-22",
          "2015-06-21",
          "2015-06-12",
          "2015-06-08",
          "2015-05-06",
          "2015-05-01",
          "2015-04-16",
          "2015-04-03",
          "2015-03-31",
          "2015-03-21",
          "2015-03-17",
          "2015-03-11",
          "2015-02-02",
          "2015-01-07",
          "2014-12-22",
          "2014-12-21",
          "2014-12-21",
          "2014-09-12",
          "2014-09-11",
          "2014-08-19",
          "2014-07-14",
          "2014-07-02",
          "2014-06-23",
          "2014-06-21",
          "2014-05-03",
          "2014-04-20",
          "2014-04-19",
          "2014-03-25",
          "2014-02-27",
          "2014-02-20",
          "2014-02-19",
          "2014-02-18",
          "2014-02-17",
          "2014-02-15",
          "2014-02-13",
          "2014-02-07",
          "2014-01-09",
          "2014-01-07",
          "2013-12-13",
          "2013-12-08",
          "2013-11-09",
          "2013-10-29",
          "2013-10-08",
          "2013-10-07",
          "2013-10-02",
          "2013-09-02",
          "2013-08-22",
          "2013-08-22",
          "2013-07-18",
          "2013-07-12",
          "2013-07-09",
          "2013-06-30",
          "2013-06-27",
          "2013-06-23",
          "2013-06-02",
          "2013-05-31",
          "2013-05-25",
          "2013-05-24",
          "2013-05-19",
          "2013-04-13",
          "2013-03-17",
          "2013-02-16",
          "2013-02-13",
          "2013-01-26",
          "2013-01-25",
          "2012-12-16",
          "2012-12-14",
          "2012-12-04",
          "2012-11-26",
          "2012-11-23",
          "2012-11-14",
          "2012-11-12",
          "2012-10-31",
          "2012-10-13",
          "2012-10-11",
          "2012-10-09",
          "2012-10-08",
          "2012-09-30",
          "2012-09-30",
          "2012-09-13",
          "2012-09-12",
          "2012-09-03",
          "2012-08-10",
          "2012-07-21",
          "2012-07-20",
          "2012-07-14",
          "2012-06-30",
          "2012-06-16",
          "2012-06-16",
          "2012-05-21",
          "2012-05-20",
          "2012-05-15",
          "2012-05-12",
          "2012-05-09",
          "2012-04-25",
          "2012-04-23",
          "2012-04-13",
          "2012-03-24",
          "2012-03-15",
          "2012-03-12",
          "2012-03-09",
          "2012-03-08",
          "2012-03-07",
          "2012-03-07",
          "2012-02-22",
          "2012-02-20",
          "2012-01-30",
          "2012-01-24",
          "2012-01-22",
          "2012-01-21",
          "2011-12-18",
          "2011-12-02",
          "2011-11-28",
          "2011-11-12",
          "2011-10-30",
          "2011-10-24",
          "2011-10-05",
          "2011-09-26",
          "2011-09-25",
          "2011-09-17",
          "2011-09-10",
          "2011-09-09",
          "2011-08-05",
          "2011-08-05",
          "2011-07-11",
          "2011-06-23",
          "2011-06-17",
          "2011-06-11",
          "2011-06-10",
          "2011-06-04",
          "2011-05-29",
          "2011-04-19",
          "2011-04-18",
          "2011-04-12",
          "2011-04-02",
          "2011-03-29",
          "2011-03-02",
          "2011-02-18",
          "2011-02-14",
          "2011-02-05",
          "2011-02-04",
          "2010-10-19",
          "2010-09-24",
          "2010-08-03",
          "2010-06-01",
          "2010-05-28",
          "2010-04-11",
          "2010-04-05",
          "2010-04-02",
          "2010-02-15",
          "2010-02-10",
          "2009-10-21",
          "2009-10-10",
          "2009-10-04",
          "2009-09-03",
          "2009-08-30",
          "2009-07-22",
          "2009-07-14",
          "2009-06-27",
          "2009-06-24",
          "2009-06-24",
          "2009-05-28",
          "2009-04-23",
          "2009-03-03",
          "2009-02-14",
          "2009-02-03",
          "2009-01-14",
          "2008-11-25",
          "2008-11-24",
          "2008-10-28",
          "2008-10-11",
          "2008-08-10",
          "2008-07-22",
          "2008-05-28",
          "2008-03-09",
          "2008-01-06",
          "2007-12-17",
          "2007-11-19",
          "2007-10-25",
          "2007-10-25",
          "2007-09-29",
          "2007-09-20",
          "2007-08-10",
          "2007-07-27",
          "2007-05-07",
          "2007-04-23",
          "2007-01-02",
          "2006-12-18",
          "2006-12-16",
          "2006-12-14",
          "2006-12-08",
          "2006-11-10",
          "2006-10-21",
          "2006-10-07",
          "2006-10-01",
          "2006-09-03",
          "2006-08-19",
          "2006-08-18",
          "2006-08-17",
          "2006-08-07",
          "2006-07-28",
          "2006-07-09",
          "2006-05-07",
          "2006-04-28",
          "2006-04-13",
          "2006-04-09",
          "2006-03-15",
          "2006-03-09",
          "2006-01-01",
          "2005-12-30",
          "2005-12-12",
          "2005-10-08",
          "2005-09-15",
          "2005-09-12",
          "2005-09-09",
          "2005-09-02",
          "2005-08-24",
          "2005-08-23",
          "2005-08-13",
          "2005-08-01",
          "2005-07-17",
          "2005-07-16",
          "2005-07-16",
          "2005-07-10",
          "2005-06-16",
          "2005-06-14",
          "2005-06-12",
          "2005-05-28",
          "2005-05-15",
          "2005-05-08",
          "2005-05-06",
          "2005-05-01",
          "2005-03-25",
          "2005-01-18",
          "2005-01-17",
          "2005-01-16",
          "2005-01-01",
          "2004-12-11",
          "2004-12-05",
          "2004-12-05",
          "2004-11-21",
          "2004-11-11",
          "2004-11-09",
          "2004-11-09",
          "2004-11-08",
          "2004-11-07",
          "2004-11-07",
          "2004-11-07",
          "2004-10-27",
          "2004-10-02",
          "2004-09-22",
          "2004-08-01",
          "2004-07-30",
          "2004-07-26",
          "2004-07-24",
          "2004-07-22",
          "2004-07-12",
          "2004-04-13",
          "2004-04-12",
          "2004-04-10",
          "2004-04-03",
          "2003-07-27",
          "2003-07-17",
          "2003-07-06",
          "2003-06-20",
          "2003-06-18",
          "2003-06-14",
          "2003-05-30",
          "2003-05-30",
          "2003-05-29",
          "2003-05-29",
          "2003-05-09",
          "2003-04-08",
          "2003-03-26",
          "2003-03-20",
          "2003-02-27",
          "2003-01-04",
          "2002-12-24",
          "2002-12-19",
          "2002-11-20",
          "2002-11-11",
          "2002-11-09",
          "2002-10-16",
          "2002-10-02",
          "2002-09-30",
          "2002-09-19",
          "2002-09-07",
          "2002-09-04",
          "2002-08-26",
          "2002-08-20",
          "2002-08-18",
          "2002-08-01",
          "2002-08-01",
          "2002-07-29",
          "2002-07-25",
          "2002-06-08",
          "2002-05-23",
          "2002-05-21",
          "2002-05-18",
          "2002-05-12",
          "2002-05-11",
          "2002-04-23",
          "2002-04-19",
          "2002-04-17",
          "2002-03-29",
          "2002-03-26",
          "2002-03-25",
          "2002-03-23",
          "2002-03-22",
          "2002-03-20",
          "2002-03-18",
          "2002-02-28",
          "2002-02-17",
          "2002-01-31",
          "2002-01-10",
          "2001-12-30",
          "2001-12-29",
          "2001-12-23",
          "2001-12-16",
          "2001-12-16",
          "2001-12-06",
          "2001-11-30",
          "2001-11-24",
          "2001-11-24",
          "2001-11-24",
          "2001-11-19",
          "2001-10-31",
          "2001-10-28",
          "2001-10-25",
          "2001-10-22",
          "2001-10-21",
          "2001-10-11",
          "2001-09-29",
          "2001-09-25",
          "2001-09-14",
          "2001-08-31",
          "2001-08-30",
          "2001-08-27",
          "2001-08-17",
          "2001-08-12",
          "2001-08-03",
          "2001-06-02",
          "2001-05-27",
          "2001-04-28",
          "2001-04-21",
          "2001-04-18",
          "2001-04-13",
          "2001-04-11",
          "2001-04-11",
          "2001-04-08",
          "2001-04-07",
          "2001-04-04",
          "2001-03-31",
          "2001-03-31",
          "2001-03-29",
          "2001-03-27",
          "2001-03-27",
          "2001-03-22",
          "2001-03-19",
          "2001-03-03",
          "2001-02-13",
          "2001-01-31",
          "2001-01-23",
          "2001-01-17",
          "2001-01-13",
          "2001-01-10",
          "2000-11-28",
          "2000-11-26",
          "2000-11-26",
          "2000-11-11",
          "2000-11-10",
          "2000-11-08",
          "2000-11-06",
          "2000-11-04",
          "2000-10-31",
          "2000-10-28",
          "2000-10-12",
          "2000-10-05",
          "2000-10-03",
          "2000-09-17",
          "2000-09-17",
          "2000-09-15",
          "2000-09-06",
          "2000-08-14",
          "2000-08-11",
          "2000-07-28",
          "2000-07-28",
          "2000-07-26",
          "2000-07-26",
          "2000-07-19",
          "2000-07-13",
          "2000-06-23",
          "2000-06-08",
          "2000-06-04",
          "2000-05-23",
          "2000-04-17",
          "2000-04-06",
          "2000-02-24",
          "2000-02-20",
          "2000-02-14",
          "2000-02-11",
          "2000-01-30",
          "2000-01-27",
          "1999-12-12",
          "1999-12-11",
          "1999-11-20",
          "1999-11-13",
          "1999-11-08",
          "1999-11-05",
          "1999-10-28",
          "1999-10-24",
          "1999-10-21",
          "1999-09-22",
          "1999-09-15",
          "1999-09-15",
          "1999-09-12",
          "1999-08-23",
          "1999-08-17",
          "1999-08-15",
          "1999-08-04",
          "1999-07-26",
          "1999-07-06",
          "1999-07-02",
          "1999-06-27",
          "1999-06-26",
          "1999-06-26",
          "1999-05-25",
          "1999-05-18",
          "1999-05-18",
          "1999-05-05",
          "1999-03-10",
          "1999-02-18",
          "1999-02-17",
          "1999-01-22",
          "1999-01-13",
          "1998-11-30",
          "1998-11-13",
          "1998-11-12",
          "1998-11-08",
          "1998-11-07",
          "1998-10-23",
          "1998-10-18",
          "1998-10-06",
          "1998-10-02",
          "1998-09-24",
          "1998-09-08",
          "1998-08-26",
          "1998-08-19",
          "1998-08-10",
          "1998-08-06",
          "1998-07-31",
          "1998-07-17",
          "1998-07-05",
          "1998-06-25",
          "1998-06-13",
          "1998-05-15",
          "1998-05-08",
          "1998-05-03",
          "1998-05-01",
          "1998-04-30",
          "1998-04-23",
          "1998-04-18",
          "1998-04-07",
          "1998-01-24",
          "1998-01-06",
          "1997-12-30",
          "1997-12-10",
          "1997-11-30",
          "1997-11-22",
          "1997-10-24",
          "1997-10-23",
          "1997-10-10",
          "1997-09-03",
          "1997-09-02",
          "1997-05-26",
          "1997-05-25",
          "1997-05-20",
          "1997-05-15",
          "1997-03-05",
          "1997-02-09",
          "1997-01-28",
          "1997-01-10",
          "1996-12-02",
          "1996-09-26",
          "1996-07-28",
          "1996-06-18",
          "1996-02-06",
          "1995-12-25",
          "1995-12-24",
          "1995-11-27",
          "1995-10-19",
          "1995-10-18",
          "1995-10-04",
          "1995-09-06",
          "1995-08-24",
          "1995-08-22",
          "1995-08-17",
          "1995-07-24",
          "1995-06-26",
          "1995-05-24",
          "1995-04-07",
          "1995-03-23",
          "1995-03-12",
          "1995-03-04",
          "1995-01-01",
          "1994-12-05"
         ],
         "type": "scatter3d",
         "x": {
          "bdata": "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",
          "dtype": "f8"
         },
         "y": {
          "bdata": "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",
          "dtype": "f8"
         },
         "z": {
          "bdata": "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",
          "dtype": "f8"
         }
        },
        {
         "hoverinfo": "text",
         "marker": {
          "color": "green",
          "opacity": 0.6,
          "size": 3
         },
         "mode": "markers",
         "name": "ACE",
         "text": [
          "2021-03-20",
          "2020-12-10",
          "2020-11-30",
          "2020-02-07",
          "2019-11-16",
          "2019-08-01",
          "2019-08-01",
          "2018-12-09",
          "2018-08-20",
          "2018-03-09",
          "2017-11-14",
          "2017-10-21",
          "2017-09-14",
          "2017-09-12",
          "2017-09-12",
          "2017-09-07",
          "2017-09-06",
          "2017-08-31",
          "2017-08-31",
          "2017-07-11",
          "2017-07-01",
          "2017-05-20",
          "2017-02-24",
          "2016-10-12",
          "2016-04-14",
          "2016-03-23",
          "2016-03-11",
          "2015-12-19",
          "2015-12-07",
          "2015-11-04",
          "2015-11-03",
          "2015-10-24",
          "2015-10-07",
          "2015-08-15",
          "2015-07-13",
          "2015-06-22",
          "2015-06-22",
          "2015-06-16",
          "2015-06-12",
          "2015-05-13",
          "2015-05-06",
          "2015-04-17",
          "2015-04-16",
          "2015-03-31",
          "2015-01-07",
          "2014-12-21",
          "2014-12-06",
          "2014-11-01",
          "2014-09-12",
          "2014-09-11",
          "2014-06-10",
          "2014-06-07",
          "2014-05-29",
          "2014-05-22",
          "2014-04-19",
          "2014-03-25",
          "2014-02-27",
          "2014-02-19",
          "2014-02-17",
          "2014-01-09",
          "2014-01-07",
          "2013-08-23",
          "2013-07-09",
          "2013-06-27",
          "2013-06-23",
          "2013-06-02",
          "2013-05-31",
          "2013-05-24",
          "2013-05-18",
          "2012-12-04",
          "2012-11-26",
          "2012-06-30",
          "2012-06-10",
          "2012-03-12",
          "2011-09-17",
          "2011-08-05",
          "2011-08-05",
          "2011-07-06",
          "2011-06-23",
          "2010-08-03",
          "2010-04-05",
          "2010-04-02",
          "2009-07-14",
          "2009-06-27",
          "2009-03-08",
          "2009-02-14",
          "2008-08-10",
          "2008-07-22",
          "2008-06-15",
          "2008-04-24",
          "2008-01-06",
          "2007-12-17",
          "2007-11-12",
          "2007-10-25",
          "2007-07-11",
          "2007-05-24",
          "2006-12-18",
          "2006-12-16",
          "2006-12-14",
          "2006-11-10",
          "2006-10-21",
          "2006-10-01",
          "2006-09-24",
          "2006-09-03",
          "2006-08-28",
          "2006-08-19",
          "2006-08-07",
          "2006-07-28",
          "2006-05-07",
          "2006-04-13",
          "2006-01-01",
          "2005-10-08",
          "2005-09-15",
          "2005-09-12",
          "2005-09-09",
          "2005-09-02",
          "2005-08-25",
          "2005-08-24",
          "2005-08-23",
          "2005-08-01",
          "2005-07-17",
          "2005-07-10",
          "2005-06-16",
          "2005-06-14",
          "2005-05-29",
          "2005-05-08",
          "2005-05-07",
          "2005-05-01",
          "2005-04-05",
          "2005-03-25",
          "2005-03-07",
          "2005-01-21",
          "2005-01-17",
          "2005-01-07",
          "2005-01-01",
          "2004-12-11",
          "2004-11-21",
          "2004-11-11",
          "2004-11-09",
          "2004-11-09",
          "2004-11-07",
          "2004-11-07",
          "2004-10-27",
          "2004-09-22",
          "2004-08-29",
          "2004-08-01",
          "2004-07-30",
          "2004-07-26",
          "2004-07-22",
          "2004-07-16",
          "2004-07-12",
          "2004-04-26",
          "2004-04-24",
          "2004-04-12",
          "2004-04-10",
          "2004-04-09",
          "2004-04-03",
          "2004-03-10",
          "2004-01-22",
          "2004-01-06",
          "2003-12-07",
          "2003-11-20",
          "2003-11-15",
          "2003-11-06",
          "2003-11-04",
          "2003-10-26",
          "2003-10-24",
          "2003-08-17",
          "2003-07-27",
          "2003-07-06",
          "2003-06-20",
          "2003-06-18",
          "2003-05-30",
          "2003-05-29",
          "2003-05-29",
          "2003-05-09",
          "2003-04-08",
          "2003-03-20",
          "2002-12-24",
          "2002-11-26",
          "2002-11-16",
          "2002-11-14",
          "2002-11-09",
          "2002-10-02",
          "2002-10-02",
          "2002-09-07",
          "2002-08-18",
          "2002-07-29",
          "2002-07-25",
          "2002-07-22",
          "2002-07-19",
          "2002-07-19",
          "2002-07-17",
          "2002-05-30",
          "2002-05-23",
          "2002-05-21",
          "2002-05-20",
          "2002-05-18",
          "2002-05-11",
          "2002-05-10",
          "2002-04-23",
          "2002-04-19",
          "2002-04-17",
          "2002-03-26",
          "2002-03-23",
          "2002-03-22",
          "2002-03-20",
          "2002-03-18",
          "2002-02-17",
          "2002-01-10",
          "2001-12-30",
          "2001-12-29",
          "2001-11-19",
          "2001-10-31",
          "2001-10-28",
          "2001-10-25",
          "2001-10-21",
          "2001-10-11",
          "2001-10-01",
          "2001-09-30",
          "2001-09-29",
          "2001-09-14",
          "2001-09-13",
          "2001-08-30",
          "2001-08-27",
          "2001-08-17",
          "2001-08-12",
          "2001-08-03",
          "2001-06-02",
          "2001-05-27",
          "2001-05-14",
          "2001-04-28",
          "2001-04-21",
          "2001-04-18",
          "2001-04-13",
          "2001-04-11",
          "2001-04-11",
          "2001-04-11",
          "2001-04-08",
          "2001-04-07",
          "2001-04-04",
          "2001-03-31",
          "2001-03-27",
          "2001-03-27",
          "2001-03-05",
          "2001-03-03",
          "2001-02-12",
          "2001-01-31",
          "2001-01-23",
          "2001-01-17",
          "2001-01-13",
          "2000-12-03",
          "2000-11-29",
          "2000-11-29",
          "2000-11-26",
          "2000-11-26",
          "2000-11-11",
          "2000-11-08",
          "2000-11-06",
          "2000-11-04",
          "2000-10-31",
          "2000-10-28",
          "2000-10-05",
          "2000-10-03",
          "2000-09-17",
          "2000-09-17",
          "2000-09-06",
          "2000-08-29",
          "2000-08-14",
          "2000-08-11",
          "2000-08-05",
          "2000-07-28",
          "2000-07-28",
          "2000-07-26",
          "2000-07-19",
          "2000-07-17",
          "2000-07-13",
          "2000-07-11",
          "2000-07-10",
          "2000-06-23",
          "2000-06-11",
          "2000-06-08",
          "2000-06-04",
          "2000-05-30",
          "2000-04-24",
          "2000-04-17",
          "2000-04-06",
          "2000-03-22",
          "2000-02-20",
          "2000-02-11",
          "2000-02-11",
          "2000-01-30",
          "2000-01-27",
          "2000-01-22",
          "2000-01-11",
          "2000-01-04",
          "1999-12-12",
          "1999-12-11",
          "1999-11-13",
          "1999-10-28",
          "1999-10-21",
          "1999-09-22",
          "1999-09-15",
          "1999-09-15",
          "1999-09-12",
          "1999-08-23",
          "1999-08-17",
          "1999-08-15",
          "1999-08-04",
          "1999-07-26",
          "1999-07-06",
          "1999-07-02",
          "1999-06-27",
          "1999-06-26",
          "1999-05-25",
          "1999-05-18",
          "1999-05-18",
          "1999-05-05",
          "1999-04-16",
          "1999-03-10",
          "1999-02-18",
          "1999-02-17",
          "1999-02-11",
          "1999-01-22",
          "1999-01-13",
          "1998-12-28",
          "1998-12-26",
          "1998-12-01",
          "1998-11-30",
          "1998-11-08",
          "1998-11-07",
          "1998-10-18",
          "1998-10-02",
          "1998-09-24",
          "1998-09-02",
          "1998-08-26",
          "1998-08-10",
          "1998-08-06",
          "1998-07-16",
          "1998-07-05",
          "1998-06-25",
          "1998-06-13",
          "1998-05-29",
          "1998-05-08",
          "1998-05-04",
          "1998-05-03",
          "1998-05-01",
          "1998-04-30",
          "1998-04-23",
          "1998-03-22",
          "1998-03-04",
          "1998-02-18"
         ],
         "type": "scatter3d",
         "x": {
          "bdata": "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",
          "dtype": "f8"
         },
         "y": {
          "bdata": "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",
          "dtype": "f8"
         },
         "z": {
          "bdata": "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",
          "dtype": "f8"
         }
        },
        {
         "hoverinfo": "text",
         "marker": {
          "color": "orange",
          "opacity": 0.6,
          "size": 3
         },
         "mode": "markers",
         "name": "DSCOVR",
         "text": [
          "2019-02-01",
          "2019-01-29",
          "2019-01-05",
          "2018-12-20",
          "2018-08-20",
          "2018-05-05",
          "2018-04-19",
          "2018-03-09",
          "2018-02-15",
          "2017-11-14",
          "2017-10-24",
          "2017-09-14",
          "2017-09-12",
          "2017-09-07",
          "2017-08-31",
          "2017-08-31",
          "2017-08-22",
          "2017-07-16",
          "2017-07-08",
          "2017-07-01",
          "2017-05-27",
          "2017-05-20",
          "2017-04-23",
          "2017-04-23",
          "2017-04-08",
          "2017-04-08",
          "2017-04-08",
          "2017-03-22",
          "2017-03-22",
          "2017-02-24",
          "2017-02-24",
          "2017-01-26",
          "2017-01-26",
          "2016-11-09",
          "2016-10-12",
          "2016-08-16",
          "2016-07-29",
          "2016-07-19"
         ],
         "type": "scatter3d",
         "x": {
          "bdata": "zczMzMzMbUA9CtejcN1tQB+F61G4Tm5AmpmZmZmxbUAAAAAAABBuQFK4HoXr4WtAAAAAAAC4a0DD9Shcj8psQHsUrkfh6m1AhetRuB51a0CamZmZmXlrQPYoXI/CZW1AXI/C9Sh8bUC4HoXrUbhtQFK4HoXrOW5AzczMzMw8bkApXI/C9chuQD0K16NwzW5APQrXo3BtbkAfhetRuCZuQD0K16NwZWxAPQrXo3AVbEC4HoXrUeBrQLgehetR4GtA7FG4HoUbbED2KFyPwh1sQPYoXI/CHWxArkfhehQGbUCuR+F6FAZtQNejcD0KN25A16NwPQo3bkDNzMzMzCRuQM3MzMzMJG5AexSuR+E6a0BmZmZmZkZsQDMzMzMzA29AMzMzMzPDbkApXI/C9ThuQA==",
          "dtype": "f8"
         },
         "y": {
          "bdata": "PQrXo3A9PcDNzMzMzIw6wDMzMzMzMx1Aj8L1KFyPPEBcj8L1KLxBwGZmZmZmJjNAw/UoXI/C/b89CtejcJ1EwHsUrkfhOjzApHA9CtdjM0AUrkfhepQjwIXrUbgepUTAMzMzMzNzRMApXI/C9UhDwK5H4XoULkDAXI/C9SgcQMBI4XoUrgc4wClcj8L16DdA4XoUrkcBQEBxPQrXoxBDQD0K16Nw/TxAuB6F61F4M0BSuB6F61EzwFK4HoXrUTPApHA9CtcjQcAzMzMzMzNBwDMzMzMzM0HAAAAAAADgRMAAAAAAAOBEwOF6FK5HoTbA4XoUrkehNsAAAAAAAMAxQAAAAAAAwDFAzczMzMzMHMAUrkfhehRDwIXrUbgehQ1AuB6F61F4OkBcj8L1KNxBQA==",
          "dtype": "f8"
         },
         "z": {
          "bdata": "H4XrUbheO8DXo3A9Ctc7wHE9CtejMDbAPQrXo3A9JMD2KFyPwvU1wNejcD0K1zlAAAAAAAAAOkDhehSuR+EVwIXrUbgehTfAzczMzMxMN0AAAAAAAAA6QI/C9ShcjwzA7FG4HoXrFcCF61G4HgUkwM3MzMzMjDDA7FG4HoWrMMApXI/C9eg2wHE9Ctej8DnAUrgehevRNcCPwvUoXI8wwBSuR+F6lC5AUrgeheuRNEApXI/C9eg5QClcj8L16DlAKVyPwvWoMkBI4XoUrocyQEjhehSuhzJAAAAAAAAADEAAAAAAAAAMQM3MzMzMjDPAzczMzMyMM8AUrkfhelQ8wBSuR+F6VDzAPQrXo3D9OUDsUbgehWsyQEjhehSuhzrAH4XrUbgePMB7FK5H4Xo4wA==",
          "dtype": "f8"
         }
        },
        {
         "hoverinfo": "text",
         "marker": {
          "color": "pink",
          "opacity": 0.6,
          "size": 3
         },
         "mode": "markers",
         "name": "OMNI",
         "text": [
          "2024-02-24",
          "2023-12-01",
          "2023-11-25",
          "2023-10-13",
          "2023-10-03",
          "2023-09-17",
          "2023-09-05",
          "2023-08-18",
          "2023-01-23",
          "2022-07-11",
          "2022-03-28",
          "2022-01-18",
          "2021-12-27",
          "2021-11-03",
          "2021-08-27",
          "2021-06-02",
          "2021-05-26",
          "2020-11-30",
          "2019-11-22",
          "2019-11-16",
          "2019-07-08",
          "2018-05-08",
          "2018-04-20",
          "2018-03-09",
          "2017-12-05",
          "2017-11-14",
          "2017-10-24",
          "2017-10-21",
          "2017-09-12",
          "2017-08-31",
          "2017-08-22",
          "2017-04-08",
          "2017-03-24",
          "2017-02-24",
          "2017-01-05",
          "2016-12-31",
          "2016-08-03",
          "2016-04-13",
          "2016-03-11",
          "2015-12-14",
          "2015-11-18",
          "2015-11-02",
          "2015-10-07",
          "2015-09-20",
          "2015-07-13",
          "2015-06-22",
          "2015-06-21",
          "2015-05-13",
          "2015-03-31",
          "2015-01-22",
          "2014-12-23",
          "2014-12-21",
          "2014-09-11",
          "2014-07-14",
          "2014-05-29",
          "2014-04-19",
          "2014-03-25",
          "2014-02-19",
          "2013-12-08",
          "2013-12-08",
          "2013-10-29",
          "2013-10-26",
          "2013-08-24",
          "2013-08-22",
          "2013-07-18",
          "2013-05-24",
          "2013-05-18",
          "2013-04-30",
          "2013-01-25",
          "2012-11-12",
          "2012-09-30",
          "2012-07-14",
          "2012-06-16",
          "2012-05-21",
          "2012-05-15",
          "2012-05-09",
          "2012-04-23",
          "2012-04-13",
          "2012-04-13",
          "2012-03-18",
          "2012-03-15",
          "2012-02-20",
          "2012-01-22",
          "2011-12-02",
          "2011-11-28",
          "2011-09-17",
          "2011-08-05",
          "2011-08-05",
          "2011-08-04",
          "2011-07-11",
          "2011-06-10",
          "2011-06-04",
          "2011-03-14",
          "2011-02-18",
          "2011-02-04",
          "2010-08-03",
          "2010-04-05",
          "2010-04-02",
          "2010-02-15",
          "2010-02-11",
          "2009-10-31",
          "2009-07-14",
          "2009-06-27",
          "2009-05-28",
          "2009-02-03",
          "2008-11-25",
          "2008-07-22",
          "2008-06-15",
          "2008-04-05",
          "2008-03-09",
          "2008-01-06",
          "2007-10-25",
          "2006-12-18",
          "2006-12-08",
          "2006-10-07",
          "2006-08-19",
          "2006-08-17",
          "2006-08-07",
          "2006-07-28",
          "2006-07-09",
          "2006-05-07",
          "2006-04-09",
          "2006-01-26",
          "2006-01-01",
          "2005-09-15",
          "2005-09-12",
          "2005-09-09",
          "2005-09-02",
          "2005-08-25",
          "2005-08-24",
          "2005-08-24",
          "2005-08-17",
          "2005-07-29",
          "2005-07-17",
          "2005-07-10",
          "2005-06-14",
          "2005-05-08",
          "2005-04-05",
          "2005-03-25",
          "2005-01-01",
          "2004-11-21",
          "2004-11-09",
          "2004-11-07",
          "2004-11-07",
          "2004-09-22",
          "2004-08-01",
          "2004-07-22",
          "2004-07-16",
          "2004-04-26",
          "2004-04-24",
          "2004-04-10",
          "2004-01-22",
          "2003-11-20",
          "2003-11-15",
          "2003-11-04",
          "2003-08-17",
          "2003-07-27",
          "2003-07-17",
          "2003-07-06",
          "2003-06-20",
          "2003-06-18",
          "2003-05-29",
          "2003-05-09",
          "2003-03-20",
          "2002-12-19",
          "2002-11-09",
          "2002-10-16",
          "2002-10-02",
          "2002-08-01",
          "2002-07-29",
          "2002-07-25",
          "2002-07-19",
          "2002-05-23",
          "2002-05-20",
          "2002-05-18",
          "2002-05-11",
          "2002-05-10",
          "2002-04-23",
          "2002-04-19",
          "2002-03-29",
          "2002-03-23",
          "2001-12-29",
          "2001-10-28",
          "2001-10-22",
          "2001-10-21",
          "2001-09-29",
          "2001-09-14",
          "2001-08-30",
          "2001-08-12",
          "2001-05-27",
          "2001-04-28",
          "2001-04-21",
          "2001-04-11",
          "2001-04-07",
          "2001-04-04",
          "2001-03-27",
          "2001-03-27",
          "2001-01-17",
          "2000-11-10",
          "2000-11-04",
          "2000-10-31",
          "2000-10-05",
          "2000-09-06",
          "2000-08-14",
          "2000-08-11",
          "2000-08-05",
          "2000-07-28",
          "2000-07-13",
          "2000-06-23",
          "2000-06-08",
          "2000-04-24",
          "2000-04-17",
          "2000-04-06",
          "2000-03-22",
          "2000-02-11",
          "1999-12-11",
          "1999-11-13",
          "1999-10-21",
          "1999-09-22",
          "1999-09-15",
          "1999-09-12",
          "1999-08-23",
          "1999-06-26",
          "1999-05-25",
          "1999-05-18",
          "1999-05-18",
          "1999-03-10",
          "1999-02-17",
          "1999-02-11",
          "1998-11-12",
          "1998-11-08",
          "1998-10-02",
          "1998-09-24",
          "1998-08-26",
          "1998-08-06",
          "1998-07-31",
          "1998-07-17",
          "1998-05-29",
          "1998-05-15",
          "1998-05-01",
          "1998-04-30",
          "1998-04-23",
          "1997-12-30",
          "1997-12-10",
          "1997-11-22",
          "1997-11-06",
          "1997-10-24",
          "1997-10-10",
          "1997-09-02",
          "1997-05-20",
          "1997-05-15",
          "1997-03-05",
          "1997-01-28",
          "1997-01-10",
          "1996-12-02",
          "1996-09-26",
          "1996-04-08",
          "1995-12-25",
          "1995-12-24",
          "1995-09-14",
          "1995-08-24",
          "1995-08-22",
          "1995-08-17",
          "1995-07-24",
          "1995-07-23",
          "1995-04-18",
          "1995-03-23",
          "1995-03-12",
          "1995-03-04",
          "1995-02-11",
          "1995-01-01",
          "1992-05-22",
          "1992-02-24",
          "1992-02-24",
          "1992-01-12",
          "1989-11-28",
          "1989-08-16",
          "1988-12-11",
          "1988-08-25",
          "1988-01-04",
          "1987-09-24",
          "1987-04-04",
          "1985-12-18",
          "1984-07-09",
          "1984-02-20",
          "1983-04-12",
          "1981-05-10",
          "1981-02-06"
         ],
         "type": "scatter3d",
         "x": {
          "bdata": "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",
          "dtype": "f8"
         },
         "y": {
          "bdata": "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",
          "dtype": "f8"
         },
         "z": {
          "bdata": "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",
          "dtype": "f8"
         }
        },
        {
         "hoverinfo": "text",
         "marker": {
          "color": "blue",
          "line": {
           "color": "black",
           "width": 2
          },
          "size": 10
         },
         "mode": "markers+text",
         "name": "Earth",
         "text": [
          "Earth"
         ],
         "textposition": "top center",
         "type": "scatter3d",
         "x": [
          0
         ],
         "y": [
          0
         ],
         "z": [
          0
         ]
        },
        {
         "hoverinfo": "text",
         "marker": {
          "color": "red",
          "line": {
           "color": "black",
           "width": 1
          },
          "size": 5
         },
         "mode": "markers+text",
         "name": "L1",
         "text": [
          "L1"
         ],
         "textposition": "top center",
         "type": "scatter3d",
         "x": [
          238
         ],
         "y": [
          0
         ],
         "z": [
          0
         ]
        }
       ],
       "layout": {
        "height": 600,
        "legend": {
         "x": 0.8,
         "y": 0.9
        },
        "margin": {
         "b": 0,
         "l": 0,
         "r": 0,
         "t": 50
        },
        "scene": {
         "xaxis": {
          "range": [
           -73.56,
           266
          ],
          "title": {
           "text": "X [Earth radii]"
          }
         },
         "yaxis": {
          "range": [
           -322.42,
           320.77
          ],
          "title": {
           "text": "Y [Earth radii]"
          }
         },
         "zaxis": {
          "range": [
           -28.33,
           44.49
          ],
          "title": {
           "text": "Z [Earth radii]"
          }
         }
        },
        "template": {
         "data": {
          "bar": [
           {
            "error_x": {
             "color": "#2a3f5f"
            },
            "error_y": {
             "color": "#2a3f5f"
            },
            "marker": {
             "line": {
              "color": "#E5ECF6",
              "width": 0.5
             },
             "pattern": {
              "fillmode": "overlay",
              "size": 10,
              "solidity": 0.2
             }
            },
            "type": "bar"
           }
          ],
          "barpolar": [
           {
            "marker": {
             "line": {
              "color": "#E5ECF6",
              "width": 0.5
             },
             "pattern": {
              "fillmode": "overlay",
              "size": 10,
              "solidity": 0.2
             }
            },
            "type": "barpolar"
           }
          ],
          "carpet": [
           {
            "aaxis": {
             "endlinecolor": "#2a3f5f",
             "gridcolor": "white",
             "linecolor": "white",
             "minorgridcolor": "white",
             "startlinecolor": "#2a3f5f"
            },
            "baxis": {
             "endlinecolor": "#2a3f5f",
             "gridcolor": "white",
             "linecolor": "white",
             "minorgridcolor": "white",
             "startlinecolor": "#2a3f5f"
            },
            "type": "carpet"
           }
          ],
          "choropleth": [
           {
            "colorbar": {
             "outlinewidth": 0,
             "ticks": ""
            },
            "type": "choropleth"
           }
          ],
          "contour": [
           {
            "colorbar": {
             "outlinewidth": 0,
             "ticks": ""
            },
            "colorscale": [
             [
              0,
              "#0d0887"
             ],
             [
              0.1111111111111111,
              "#46039f"
             ],
             [
              0.2222222222222222,
              "#7201a8"
             ],
             [
              0.3333333333333333,
              "#9c179e"
             ],
             [
              0.4444444444444444,
              "#bd3786"
             ],
             [
              0.5555555555555556,
              "#d8576b"
             ],
             [
              0.6666666666666666,
              "#ed7953"
             ],
             [
              0.7777777777777778,
              "#fb9f3a"
             ],
             [
              0.8888888888888888,
              "#fdca26"
             ],
             [
              1,
              "#f0f921"
             ]
            ],
            "type": "contour"
           }
          ],
          "contourcarpet": [
           {
            "colorbar": {
             "outlinewidth": 0,
             "ticks": ""
            },
            "type": "contourcarpet"
           }
          ],
          "heatmap": [
           {
            "colorbar": {
             "outlinewidth": 0,
             "ticks": ""
            },
            "colorscale": [
             [
              0,
              "#0d0887"
             ],
             [
              0.1111111111111111,
              "#46039f"
             ],
             [
              0.2222222222222222,
              "#7201a8"
             ],
             [
              0.3333333333333333,
              "#9c179e"
             ],
             [
              0.4444444444444444,
              "#bd3786"
             ],
             [
              0.5555555555555556,
              "#d8576b"
             ],
             [
              0.6666666666666666,
              "#ed7953"
             ],
             [
              0.7777777777777778,
              "#fb9f3a"
             ],
             [
              0.8888888888888888,
              "#fdca26"
             ],
             [
              1,
              "#f0f921"
             ]
            ],
            "type": "heatmap"
           }
          ],
          "histogram": [
           {
            "marker": {
             "pattern": {
              "fillmode": "overlay",
              "size": 10,
              "solidity": 0.2
             }
            },
            "type": "histogram"
           }
          ],
          "histogram2d": [
           {
            "colorbar": {
             "outlinewidth": 0,
             "ticks": ""
            },
            "colorscale": [
             [
              0,
              "#0d0887"
             ],
             [
              0.1111111111111111,
              "#46039f"
             ],
             [
              0.2222222222222222,
              "#7201a8"
             ],
             [
              0.3333333333333333,
              "#9c179e"
             ],
             [
              0.4444444444444444,
              "#bd3786"
             ],
             [
              0.5555555555555556,
              "#d8576b"
             ],
             [
              0.6666666666666666,
              "#ed7953"
             ],
             [
              0.7777777777777778,
              "#fb9f3a"
             ],
             [
              0.8888888888888888,
              "#fdca26"
             ],
             [
              1,
              "#f0f921"
             ]
            ],
            "type": "histogram2d"
           }
          ],
          "histogram2dcontour": [
           {
            "colorbar": {
             "outlinewidth": 0,
             "ticks": ""
            },
            "colorscale": [
             [
              0,
              "#0d0887"
             ],
             [
              0.1111111111111111,
              "#46039f"
             ],
             [
              0.2222222222222222,
              "#7201a8"
             ],
             [
              0.3333333333333333,
              "#9c179e"
             ],
             [
              0.4444444444444444,
              "#bd3786"
             ],
             [
              0.5555555555555556,
              "#d8576b"
             ],
             [
              0.6666666666666666,
              "#ed7953"
             ],
             [
              0.7777777777777778,
              "#fb9f3a"
             ],
             [
              0.8888888888888888,
              "#fdca26"
             ],
             [
              1,
              "#f0f921"
             ]
            ],
            "type": "histogram2dcontour"
           }
          ],
          "mesh3d": [
           {
            "colorbar": {
             "outlinewidth": 0,
             "ticks": ""
            },
            "type": "mesh3d"
           }
          ],
          "parcoords": [
           {
            "line": {
             "colorbar": {
              "outlinewidth": 0,
              "ticks": ""
             }
            },
            "type": "parcoords"
           }
          ],
          "pie": [
           {
            "automargin": true,
            "type": "pie"
           }
          ],
          "scatter": [
           {
            "fillpattern": {
             "fillmode": "overlay",
             "size": 10,
             "solidity": 0.2
            },
            "type": "scatter"
           }
          ],
          "scatter3d": [
           {
            "line": {
             "colorbar": {
              "outlinewidth": 0,
              "ticks": ""
             }
            },
            "marker": {
             "colorbar": {
              "outlinewidth": 0,
              "ticks": ""
             }
            },
            "type": "scatter3d"
           }
          ],
          "scattercarpet": [
           {
            "marker": {
             "colorbar": {
              "outlinewidth": 0,
              "ticks": ""
             }
            },
            "type": "scattercarpet"
           }
          ],
          "scattergeo": [
           {
            "marker": {
             "colorbar": {
              "outlinewidth": 0,
              "ticks": ""
             }
            },
            "type": "scattergeo"
           }
          ],
          "scattergl": [
           {
            "marker": {
             "colorbar": {
              "outlinewidth": 0,
              "ticks": ""
             }
            },
            "type": "scattergl"
           }
          ],
          "scattermap": [
           {
            "marker": {
             "colorbar": {
              "outlinewidth": 0,
              "ticks": ""
             }
            },
            "type": "scattermap"
           }
          ],
          "scattermapbox": [
           {
            "marker": {
             "colorbar": {
              "outlinewidth": 0,
              "ticks": ""
             }
            },
            "type": "scattermapbox"
           }
          ],
          "scatterpolar": [
           {
            "marker": {
             "colorbar": {
              "outlinewidth": 0,
              "ticks": ""
             }
            },
            "type": "scatterpolar"
           }
          ],
          "scatterpolargl": [
           {
            "marker": {
             "colorbar": {
              "outlinewidth": 0,
              "ticks": ""
             }
            },
            "type": "scatterpolargl"
           }
          ],
          "scatterternary": [
           {
            "marker": {
             "colorbar": {
              "outlinewidth": 0,
              "ticks": ""
             }
            },
            "type": "scatterternary"
           }
          ],
          "surface": [
           {
            "colorbar": {
             "outlinewidth": 0,
             "ticks": ""
            },
            "colorscale": [
             [
              0,
              "#0d0887"
             ],
             [
              0.1111111111111111,
              "#46039f"
             ],
             [
              0.2222222222222222,
              "#7201a8"
             ],
             [
              0.3333333333333333,
              "#9c179e"
             ],
             [
              0.4444444444444444,
              "#bd3786"
             ],
             [
              0.5555555555555556,
              "#d8576b"
             ],
             [
              0.6666666666666666,
              "#ed7953"
             ],
             [
              0.7777777777777778,
              "#fb9f3a"
             ],
             [
              0.8888888888888888,
              "#fdca26"
             ],
             [
              1,
              "#f0f921"
             ]
            ],
            "type": "surface"
           }
          ],
          "table": [
           {
            "cells": {
             "fill": {
              "color": "#EBF0F8"
             },
             "line": {
              "color": "white"
             }
            },
            "header": {
             "fill": {
              "color": "#C8D4E3"
             },
             "line": {
              "color": "white"
             }
            },
            "type": "table"
           }
          ]
         },
         "layout": {
          "annotationdefaults": {
           "arrowcolor": "#2a3f5f",
           "arrowhead": 0,
           "arrowwidth": 1
          },
          "autotypenumbers": "strict",
          "coloraxis": {
           "colorbar": {
            "outlinewidth": 0,
            "ticks": ""
           }
          },
          "colorscale": {
           "diverging": [
            [
             0,
             "#8e0152"
            ],
            [
             0.1,
             "#c51b7d"
            ],
            [
             0.2,
             "#de77ae"
            ],
            [
             0.3,
             "#f1b6da"
            ],
            [
             0.4,
             "#fde0ef"
            ],
            [
             0.5,
             "#f7f7f7"
            ],
            [
             0.6,
             "#e6f5d0"
            ],
            [
             0.7,
             "#b8e186"
            ],
            [
             0.8,
             "#7fbc41"
            ],
            [
             0.9,
             "#4d9221"
            ],
            [
             1,
             "#276419"
            ]
           ],
           "sequential": [
            [
             0,
             "#0d0887"
            ],
            [
             0.1111111111111111,
             "#46039f"
            ],
            [
             0.2222222222222222,
             "#7201a8"
            ],
            [
             0.3333333333333333,
             "#9c179e"
            ],
            [
             0.4444444444444444,
             "#bd3786"
            ],
            [
             0.5555555555555556,
             "#d8576b"
            ],
            [
             0.6666666666666666,
             "#ed7953"
            ],
            [
             0.7777777777777778,
             "#fb9f3a"
            ],
            [
             0.8888888888888888,
             "#fdca26"
            ],
            [
             1,
             "#f0f921"
            ]
           ],
           "sequentialminus": [
            [
             0,
             "#0d0887"
            ],
            [
             0.1111111111111111,
             "#46039f"
            ],
            [
             0.2222222222222222,
             "#7201a8"
            ],
            [
             0.3333333333333333,
             "#9c179e"
            ],
            [
             0.4444444444444444,
             "#bd3786"
            ],
            [
             0.5555555555555556,
             "#d8576b"
            ],
            [
             0.6666666666666666,
             "#ed7953"
            ],
            [
             0.7777777777777778,
             "#fb9f3a"
            ],
            [
             0.8888888888888888,
             "#fdca26"
            ],
            [
             1,
             "#f0f921"
            ]
           ]
          },
          "colorway": [
           "#636efa",
           "#EF553B",
           "#00cc96",
           "#ab63fa",
           "#FFA15A",
           "#19d3f3",
           "#FF6692",
           "#B6E880",
           "#FF97FF",
           "#FECB52"
          ],
          "font": {
           "color": "#2a3f5f"
          },
          "geo": {
           "bgcolor": "white",
           "lakecolor": "white",
           "landcolor": "#E5ECF6",
           "showlakes": true,
           "showland": true,
           "subunitcolor": "white"
          },
          "hoverlabel": {
           "align": "left"
          },
          "hovermode": "closest",
          "mapbox": {
           "style": "light"
          },
          "paper_bgcolor": "white",
          "plot_bgcolor": "#E5ECF6",
          "polar": {
           "angularaxis": {
            "gridcolor": "white",
            "linecolor": "white",
            "ticks": ""
           },
           "bgcolor": "#E5ECF6",
           "radialaxis": {
            "gridcolor": "white",
            "linecolor": "white",
            "ticks": ""
           }
          },
          "scene": {
           "xaxis": {
            "backgroundcolor": "#E5ECF6",
            "gridcolor": "white",
            "gridwidth": 2,
            "linecolor": "white",
            "showbackground": true,
            "ticks": "",
            "zerolinecolor": "white"
           },
           "yaxis": {
            "backgroundcolor": "#E5ECF6",
            "gridcolor": "white",
            "gridwidth": 2,
            "linecolor": "white",
            "showbackground": true,
            "ticks": "",
            "zerolinecolor": "white"
           },
           "zaxis": {
            "backgroundcolor": "#E5ECF6",
            "gridcolor": "white",
            "gridwidth": 2,
            "linecolor": "white",
            "showbackground": true,
            "ticks": "",
            "zerolinecolor": "white"
           }
          },
          "shapedefaults": {
           "line": {
            "color": "#2a3f5f"
           }
          },
          "ternary": {
           "aaxis": {
            "gridcolor": "white",
            "linecolor": "white",
            "ticks": ""
           },
           "baxis": {
            "gridcolor": "white",
            "linecolor": "white",
            "ticks": ""
           },
           "bgcolor": "#E5ECF6",
           "caxis": {
            "gridcolor": "white",
            "linecolor": "white",
            "ticks": ""
           }
          },
          "title": {
           "x": 0.05
          },
          "xaxis": {
           "automargin": true,
           "gridcolor": "white",
           "linecolor": "white",
           "ticks": "",
           "title": {
            "standoff": 15
           },
           "zerolinecolor": "white",
           "zerolinewidth": 2
          },
          "yaxis": {
           "automargin": true,
           "gridcolor": "white",
           "linecolor": "white",
           "ticks": "",
           "title": {
            "standoff": 15
           },
           "zerolinecolor": "white",
           "zerolinewidth": 2
          }
         }
        },
        "title": {
         "text": "Shock: Spacecrafts in GSE Coordinates"
        },
        "width": 800
       }
      }
     },
     "metadata": {},
     "output_type": "display_data"
    }
   ],
   "source": [
    "GSE_sc_plot_all(Wind_df, ACE_df, DSCOVR_df, OMNI_df, 'Shock: Spacecrafts in GSE Coordinates')"
   ]
  }
 ],
 "metadata": {
  "kernelspec": {
   "display_name": "mt_env",
   "language": "python",
   "name": "python3"
  },
  "language_info": {
   "codemirror_mode": {
    "name": "ipython",
    "version": 3
   },
   "file_extension": ".py",
   "mimetype": "text/x-python",
   "name": "python",
   "nbconvert_exporter": "python",
   "pygments_lexer": "ipython3",
   "version": "3.11.11"
  }
 },
 "nbformat": 4,
 "nbformat_minor": 5
}
