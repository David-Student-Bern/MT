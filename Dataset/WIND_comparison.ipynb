{
 "cells": [
  {
   "cell_type": "code",
   "execution_count": 17,
   "id": "0e44c284",
   "metadata": {},
   "outputs": [],
   "source": [
    "import pandas as pd\n",
    "\n",
    "# import the data\n",
    "Shock = pd.read_csv('./Dataset_IPshocks/shocks_20250514_121541.csv')\n",
    "\n",
    "Wind_Shock = Shock[Shock['Spacecraft'] == 'Wind']\n",
    "\n",
    "Wind_helios = pd.read_csv('./Dataset_ICMECAT/helio4cast_icmecat.csv')"
   ]
  },
  {
   "cell_type": "code",
   "execution_count": null,
   "id": "3d4f8dd8",
   "metadata": {},
   "outputs": [],
   "source": [
    "import plotly.express as px\n",
    "import plotly.graph_objects as go\n",
    "import numpy as np\n",
    "\n",
    "def GSE_sc_plot(plot_df, plot_df2, plot_title):\n",
    "    # === Prepare plot_df (Shock events) ===\n",
    "    event_time_dt_1 = pd.DatetimeIndex(plot_df['Time'])\n",
    "    event_time_numeric_1 = (event_time_dt_1 - pd.Timestamp(\"1970-01-01\")) / pd.Timedelta(days=1)\n",
    "    event_dates_str_1 = event_time_dt_1.strftime('%Y-%m-%d')\n",
    "\n",
    "    df_Shock = pd.DataFrame({\n",
    "        'x': plot_df['SC_X'],\n",
    "        'y': plot_df['SC_Y'],\n",
    "        'z': plot_df['SC_Z'],\n",
    "        'Event Time Numeric': event_time_numeric_1,\n",
    "        'Event Time Label': event_dates_str_1,\n",
    "        'Event Time': event_time_dt_1\n",
    "    })\n",
    "\n",
    "    # === Prepare plot_df2 (ICME events) ===\n",
    "    event_time_dt_2 = pd.DatetimeIndex(plot_df2['sc_time'])\n",
    "    event_time_numeric_2 = (event_time_dt_2 - pd.Timestamp(\"1970-01-01\")) / pd.Timedelta(days=1)\n",
    "    event_dates_str_2 = event_time_dt_2.strftime('%Y-%m-%d')\n",
    "\n",
    "    df_helios = pd.DataFrame({\n",
    "        'x': plot_df2['mo_sc_GSE_x'],\n",
    "        'y': plot_df2['mo_sc_GSE_y'],\n",
    "        'z': plot_df2['mo_sc_GSE_z'],\n",
    "        'Event Time Numeric': event_time_numeric_2,\n",
    "        'Event Time Label': event_dates_str_2,\n",
    "        'Event Time': event_time_dt_2\n",
    "    })\n",
    "\n",
    "    # === Start with an empty figure ===\n",
    "    fig = go.Figure()\n",
    "\n",
    "    # === Add Shock scatter (black) ===\n",
    "    fig.add_trace(go.Scatter3d(\n",
    "        x=df_Shock['x'], y=df_Shock['y'], z=df_Shock['z'],\n",
    "        mode='markers',\n",
    "        marker=dict(size=3, color='black', opacity=0.4),\n",
    "        name='Shock Catalogue',\n",
    "        text=df_Shock['Event Time Label'],\n",
    "        hoverinfo='text'\n",
    "    ))\n",
    "\n",
    "    # === Add ICME scatter (green) ===\n",
    "    fig.add_trace(go.Scatter3d(\n",
    "        x=df_helios['x'], y=df_helios['y'], z=df_helios['z'],\n",
    "        mode='markers',\n",
    "        marker=dict(size=3, color='green', opacity=0.6),\n",
    "        name='helio4cast Catalogue', \n",
    "        text=df_helios['Event Time Label'],\n",
    "        hoverinfo='text'\n",
    "    ))\n",
    "\n",
    "    # === Earth marker (blue) ===\n",
    "    fig.add_trace(go.Scatter3d(\n",
    "        x=[0], y=[0], z=[0],\n",
    "        mode='markers+text',\n",
    "        marker=dict(size=10, color='blue', line=dict(color='black', width=2)),\n",
    "        text=['Earth'],\n",
    "        textposition='top center',\n",
    "        name='Earth',\n",
    "        hoverinfo='text'\n",
    "    ))\n",
    "\n",
    "    # === L1 marker (red) ===\n",
    "    fig.add_trace(go.Scatter3d(\n",
    "        x=[238], y=[0], z=[0],\n",
    "        mode='markers+text',\n",
    "        marker=dict(size=5, color='red', line=dict(color='black', width=1)),\n",
    "        text=['L1'],\n",
    "        textposition='top center',\n",
    "        name='L1',\n",
    "        hoverinfo='text'\n",
    "    ))\n",
    "\n",
    "    # === Layout customization ===\n",
    "    all_x = pd.concat([df_Shock['x'], df_helios['x']])\n",
    "    all_y = pd.concat([df_Shock['y'], df_helios['y']])\n",
    "    all_z = pd.concat([df_Shock['z'], df_helios['z']])\n",
    "\n",
    "    fig.update_layout(\n",
    "        title=plot_title,\n",
    "        scene=dict(\n",
    "            xaxis=dict(title='X [Earth radii]', range=[np.min(all_x), np.max(all_x)]),\n",
    "            yaxis=dict(title='Y [Earth radii]', range=[np.min(all_y), np.max(all_y)]),\n",
    "            zaxis=dict(title='Z [Earth radii]', range=[np.min(all_z), np.max(all_z)])\n",
    "        ),\n",
    "        legend=dict(x=0.8, y=0.9),\n",
    "        margin=dict(l=0, r=0, b=0, t=50),\n",
    "        width=800,\n",
    "        height=600\n",
    "    )\n",
    "\n",
    "    fig.show()\n"
   ]
  },
  {
   "cell_type": "code",
   "execution_count": 19,
   "id": "5656de96",
   "metadata": {},
   "outputs": [
    {
     "data": {
      "application/vnd.plotly.v1+json": {
       "config": {
        "plotlyServerURL": "https://plot.ly"
       },
       "data": [
        {
         "hoverinfo": "text",
         "marker": {
          "color": "black",
          "opacity": 0.4,
          "size": 3
         },
         "mode": "markers",
         "name": "Shock Catalogue",
         "text": [
          "2024-03-25",
          "2024-03-24",
          "2024-02-24",
          "2024-02-13",
          "2024-02-11",
          "2024-02-08",
          "2024-01-25",
          "2024-01-03",
          "2024-01-03",
          "2023-12-28",
          "2023-12-17",
          "2023-12-15",
          "2023-12-13",
          "2023-11-30",
          "2023-11-25",
          "2023-11-13",
          "2023-11-12",
          "2023-11-05",
          "2023-11-05",
          "2023-10-27",
          "2023-10-18",
          "2023-10-13",
          "2023-10-03",
          "2023-09-24",
          "2023-09-18",
          "2023-09-17",
          "2023-09-05",
          "2023-08-18",
          "2023-08-07",
          "2023-07-13",
          "2023-06-16",
          "2023-06-07",
          "2023-05-12",
          "2023-05-09",
          "2023-05-06",
          "2023-04-23",
          "2023-04-18",
          "2023-04-09",
          "2023-03-15",
          "2023-02-26",
          "2023-02-20",
          "2023-02-14",
          "2023-02-01",
          "2023-01-23",
          "2023-01-17",
          "2022-08-29",
          "2022-08-19",
          "2022-08-17",
          "2022-07-23",
          "2022-07-18",
          "2022-07-11",
          "2022-07-07",
          "2022-06-15",
          "2022-06-06",
          "2022-05-19",
          "2022-05-01",
          "2022-04-12",
          "2022-03-13",
          "2022-02-11",
          "2022-02-09",
          "2022-02-01",
          "2022-01-21",
          "2022-01-18",
          "2022-01-15",
          "2022-01-09",
          "2022-01-08",
          "2021-12-30",
          "2021-12-27",
          "2021-12-20",
          "2021-12-19",
          "2021-11-27",
          "2021-11-03",
          "2021-10-31",
          "2021-10-12",
          "2021-10-05",
          "2021-09-17",
          "2021-08-29",
          "2021-08-27",
          "2021-07-15",
          "2021-07-05",
          "2021-06-02",
          "2021-05-26",
          "2021-05-17",
          "2021-05-12",
          "2021-04-24",
          "2021-01-11",
          "2020-12-10",
          "2020-10-24",
          "2020-10-19",
          "2020-09-20",
          "2020-06-30",
          "2020-04-20",
          "2020-04-14",
          "2020-02-18",
          "2019-11-22",
          "2019-11-16",
          "2019-09-27",
          "2019-09-24",
          "2019-09-24",
          "2019-09-01",
          "2019-08-20",
          "2019-07-27",
          "2019-07-08",
          "2019-06-08",
          "2019-05-26",
          "2019-03-24",
          "2019-02-01",
          "2019-01-25",
          "2019-01-22",
          "2018-05-08",
          "2018-05-06",
          "2018-05-05",
          "2018-04-19",
          "2018-03-09",
          "2018-02-15",
          "2018-01-09",
          "2018-01-08",
          "2017-12-05",
          "2017-10-21",
          "2017-09-14",
          "2017-09-12",
          "2017-09-07",
          "2017-08-31",
          "2017-08-31",
          "2017-08-31",
          "2017-08-29",
          "2017-08-22",
          "2017-07-18",
          "2017-07-16",
          "2017-07-11",
          "2017-07-08",
          "2017-07-01",
          "2017-05-30",
          "2017-05-27",
          "2017-05-20",
          "2017-02-24",
          "2017-01-27",
          "2017-01-05",
          "2016-12-31",
          "2016-11-09",
          "2016-10-12",
          "2016-09-08",
          "2016-08-03",
          "2016-07-29",
          "2016-07-19",
          "2016-04-14",
          "2016-04-13",
          "2016-03-11",
          "2016-03-11",
          "2016-03-07",
          "2016-02-13",
          "2016-01-21",
          "2016-01-18",
          "2015-12-31",
          "2015-12-19",
          "2015-12-14",
          "2015-11-18",
          "2015-11-06",
          "2015-11-04",
          "2015-11-03",
          "2015-11-03",
          "2015-10-24",
          "2015-09-20",
          "2015-08-15",
          "2015-08-07",
          "2015-06-27",
          "2015-06-24",
          "2015-06-22",
          "2015-06-22",
          "2015-06-21",
          "2015-06-12",
          "2015-06-08",
          "2015-05-06",
          "2015-05-01",
          "2015-04-16",
          "2015-04-03",
          "2015-03-31",
          "2015-03-21",
          "2015-03-17",
          "2015-03-11",
          "2015-02-02",
          "2015-01-07",
          "2014-12-22",
          "2014-12-21",
          "2014-12-21",
          "2014-09-12",
          "2014-09-11",
          "2014-08-19",
          "2014-07-14",
          "2014-07-02",
          "2014-06-23",
          "2014-06-21",
          "2014-05-03",
          "2014-04-20",
          "2014-04-19",
          "2014-03-25",
          "2014-02-27",
          "2014-02-20",
          "2014-02-19",
          "2014-02-18",
          "2014-02-17",
          "2014-02-15",
          "2014-02-13",
          "2014-02-07",
          "2014-01-09",
          "2014-01-07",
          "2013-12-13",
          "2013-12-08",
          "2013-11-09",
          "2013-10-29",
          "2013-10-08",
          "2013-10-07",
          "2013-10-02",
          "2013-09-02",
          "2013-08-22",
          "2013-08-22",
          "2013-07-18",
          "2013-07-12",
          "2013-07-09",
          "2013-06-30",
          "2013-06-27",
          "2013-06-23",
          "2013-06-02",
          "2013-05-31",
          "2013-05-25",
          "2013-05-24",
          "2013-05-19",
          "2013-04-13",
          "2013-03-17",
          "2013-02-16",
          "2013-02-13",
          "2013-01-26",
          "2013-01-25",
          "2012-12-16",
          "2012-12-14",
          "2012-12-04",
          "2012-11-26",
          "2012-11-23",
          "2012-11-14",
          "2012-11-12",
          "2012-10-31",
          "2012-10-13",
          "2012-10-11",
          "2012-10-09",
          "2012-10-08",
          "2012-09-30",
          "2012-09-30",
          "2012-09-13",
          "2012-09-12",
          "2012-09-03",
          "2012-08-10",
          "2012-07-21",
          "2012-07-20",
          "2012-07-14",
          "2012-06-30",
          "2012-06-16",
          "2012-06-16",
          "2012-05-21",
          "2012-05-20",
          "2012-05-15",
          "2012-05-12",
          "2012-05-09",
          "2012-04-25",
          "2012-04-23",
          "2012-04-13",
          "2012-03-24",
          "2012-03-15",
          "2012-03-12",
          "2012-03-09",
          "2012-03-08",
          "2012-03-07",
          "2012-03-07",
          "2012-02-22",
          "2012-02-20",
          "2012-01-30",
          "2012-01-24",
          "2012-01-22",
          "2012-01-21",
          "2011-12-18",
          "2011-12-02",
          "2011-11-28",
          "2011-11-12",
          "2011-10-30",
          "2011-10-24",
          "2011-10-05",
          "2011-09-26",
          "2011-09-25",
          "2011-09-17",
          "2011-09-10",
          "2011-09-09",
          "2011-08-05",
          "2011-08-05",
          "2011-07-11",
          "2011-06-23",
          "2011-06-17",
          "2011-06-11",
          "2011-06-10",
          "2011-06-04",
          "2011-05-29",
          "2011-04-19",
          "2011-04-18",
          "2011-04-12",
          "2011-04-02",
          "2011-03-29",
          "2011-03-02",
          "2011-02-18",
          "2011-02-14",
          "2011-02-05",
          "2011-02-04",
          "2010-10-19",
          "2010-09-24",
          "2010-08-03",
          "2010-06-01",
          "2010-05-28",
          "2010-04-11",
          "2010-04-05",
          "2010-04-02",
          "2010-02-15",
          "2010-02-10",
          "2009-10-21",
          "2009-10-10",
          "2009-10-04",
          "2009-09-03",
          "2009-08-30",
          "2009-07-22",
          "2009-07-14",
          "2009-06-27",
          "2009-06-24",
          "2009-06-24",
          "2009-05-28",
          "2009-04-23",
          "2009-03-03",
          "2009-02-14",
          "2009-02-03",
          "2009-01-14",
          "2008-11-25",
          "2008-11-24",
          "2008-10-28",
          "2008-10-11",
          "2008-08-10",
          "2008-07-22",
          "2008-05-28",
          "2008-03-09",
          "2008-01-06",
          "2007-12-17",
          "2007-11-19",
          "2007-10-25",
          "2007-10-25",
          "2007-09-29",
          "2007-09-20",
          "2007-08-10",
          "2007-07-27",
          "2007-05-07",
          "2007-04-23",
          "2007-01-02",
          "2006-12-18",
          "2006-12-16",
          "2006-12-14",
          "2006-12-08",
          "2006-11-10",
          "2006-10-21",
          "2006-10-07",
          "2006-10-01",
          "2006-09-03",
          "2006-08-19",
          "2006-08-18",
          "2006-08-17",
          "2006-08-07",
          "2006-07-28",
          "2006-07-09",
          "2006-05-07",
          "2006-04-28",
          "2006-04-13",
          "2006-04-09",
          "2006-03-15",
          "2006-03-09",
          "2006-01-01",
          "2005-12-30",
          "2005-12-12",
          "2005-10-08",
          "2005-09-15",
          "2005-09-12",
          "2005-09-09",
          "2005-09-02",
          "2005-08-24",
          "2005-08-23",
          "2005-08-13",
          "2005-08-01",
          "2005-07-17",
          "2005-07-16",
          "2005-07-16",
          "2005-07-10",
          "2005-06-16",
          "2005-06-14",
          "2005-06-12",
          "2005-05-28",
          "2005-05-15",
          "2005-05-08",
          "2005-05-06",
          "2005-05-01",
          "2005-03-25",
          "2005-01-18",
          "2005-01-17",
          "2005-01-16",
          "2005-01-01",
          "2004-12-11",
          "2004-12-05",
          "2004-12-05",
          "2004-11-21",
          "2004-11-11",
          "2004-11-09",
          "2004-11-09",
          "2004-11-08",
          "2004-11-07",
          "2004-11-07",
          "2004-11-07",
          "2004-10-27",
          "2004-10-02",
          "2004-09-22",
          "2004-08-01",
          "2004-07-30",
          "2004-07-26",
          "2004-07-24",
          "2004-07-22",
          "2004-07-12",
          "2004-04-13",
          "2004-04-12",
          "2004-04-10",
          "2004-04-03",
          "2003-07-27",
          "2003-07-17",
          "2003-07-06",
          "2003-06-20",
          "2003-06-18",
          "2003-06-14",
          "2003-05-30",
          "2003-05-30",
          "2003-05-29",
          "2003-05-29",
          "2003-05-09",
          "2003-04-08",
          "2003-03-26",
          "2003-03-20",
          "2003-02-27",
          "2003-01-04",
          "2002-12-24",
          "2002-12-19",
          "2002-11-20",
          "2002-11-11",
          "2002-11-09",
          "2002-10-16",
          "2002-10-02",
          "2002-09-30",
          "2002-09-19",
          "2002-09-07",
          "2002-09-04",
          "2002-08-26",
          "2002-08-20",
          "2002-08-18",
          "2002-08-01",
          "2002-08-01",
          "2002-07-29",
          "2002-07-25",
          "2002-06-08",
          "2002-05-23",
          "2002-05-21",
          "2002-05-18",
          "2002-05-12",
          "2002-05-11",
          "2002-04-23",
          "2002-04-19",
          "2002-04-17",
          "2002-03-29",
          "2002-03-26",
          "2002-03-25",
          "2002-03-23",
          "2002-03-22",
          "2002-03-20",
          "2002-03-18",
          "2002-02-28",
          "2002-02-17",
          "2002-01-31",
          "2002-01-10",
          "2001-12-30",
          "2001-12-29",
          "2001-12-23",
          "2001-12-16",
          "2001-12-16",
          "2001-12-06",
          "2001-11-30",
          "2001-11-24",
          "2001-11-24",
          "2001-11-24",
          "2001-11-19",
          "2001-10-31",
          "2001-10-28",
          "2001-10-25",
          "2001-10-22",
          "2001-10-21",
          "2001-10-11",
          "2001-09-29",
          "2001-09-25",
          "2001-09-14",
          "2001-08-31",
          "2001-08-30",
          "2001-08-27",
          "2001-08-17",
          "2001-08-12",
          "2001-08-03",
          "2001-06-02",
          "2001-05-27",
          "2001-04-28",
          "2001-04-21",
          "2001-04-18",
          "2001-04-13",
          "2001-04-11",
          "2001-04-11",
          "2001-04-08",
          "2001-04-07",
          "2001-04-04",
          "2001-03-31",
          "2001-03-31",
          "2001-03-29",
          "2001-03-27",
          "2001-03-27",
          "2001-03-22",
          "2001-03-19",
          "2001-03-03",
          "2001-02-13",
          "2001-01-31",
          "2001-01-23",
          "2001-01-17",
          "2001-01-13",
          "2001-01-10",
          "2000-11-28",
          "2000-11-26",
          "2000-11-26",
          "2000-11-11",
          "2000-11-10",
          "2000-11-08",
          "2000-11-06",
          "2000-11-04",
          "2000-10-31",
          "2000-10-28",
          "2000-10-12",
          "2000-10-05",
          "2000-10-03",
          "2000-09-17",
          "2000-09-17",
          "2000-09-15",
          "2000-09-06",
          "2000-08-14",
          "2000-08-11",
          "2000-07-28",
          "2000-07-28",
          "2000-07-26",
          "2000-07-26",
          "2000-07-19",
          "2000-07-13",
          "2000-06-23",
          "2000-06-08",
          "2000-06-04",
          "2000-05-23",
          "2000-04-17",
          "2000-04-06",
          "2000-02-24",
          "2000-02-20",
          "2000-02-14",
          "2000-02-11",
          "2000-01-30",
          "2000-01-27",
          "1999-12-12",
          "1999-12-11",
          "1999-11-20",
          "1999-11-13",
          "1999-11-08",
          "1999-11-05",
          "1999-10-28",
          "1999-10-24",
          "1999-10-21",
          "1999-09-22",
          "1999-09-15",
          "1999-09-15",
          "1999-09-12",
          "1999-08-23",
          "1999-08-17",
          "1999-08-15",
          "1999-08-04",
          "1999-07-26",
          "1999-07-06",
          "1999-07-02",
          "1999-06-27",
          "1999-06-26",
          "1999-06-26",
          "1999-05-25",
          "1999-05-18",
          "1999-05-18",
          "1999-05-05",
          "1999-03-10",
          "1999-02-18",
          "1999-02-17",
          "1999-01-22",
          "1999-01-13",
          "1998-11-30",
          "1998-11-13",
          "1998-11-12",
          "1998-11-08",
          "1998-11-07",
          "1998-10-23",
          "1998-10-18",
          "1998-10-06",
          "1998-10-02",
          "1998-09-24",
          "1998-09-08",
          "1998-08-26",
          "1998-08-19",
          "1998-08-10",
          "1998-08-06",
          "1998-07-31",
          "1998-07-17",
          "1998-07-05",
          "1998-06-25",
          "1998-06-13",
          "1998-05-15",
          "1998-05-08",
          "1998-05-03",
          "1998-05-01",
          "1998-04-30",
          "1998-04-23",
          "1998-04-18",
          "1998-04-07",
          "1998-01-24",
          "1998-01-06",
          "1997-12-30",
          "1997-12-10",
          "1997-11-30",
          "1997-11-22",
          "1997-10-24",
          "1997-10-23",
          "1997-10-10",
          "1997-09-03",
          "1997-09-02",
          "1997-05-26",
          "1997-05-25",
          "1997-05-20",
          "1997-05-15",
          "1997-03-05",
          "1997-02-09",
          "1997-01-28",
          "1997-01-10",
          "1996-12-02",
          "1996-09-26",
          "1996-07-28",
          "1996-06-18",
          "1996-02-06",
          "1995-12-25",
          "1995-12-24",
          "1995-11-27",
          "1995-10-19",
          "1995-10-18",
          "1995-10-04",
          "1995-09-06",
          "1995-08-24",
          "1995-08-22",
          "1995-08-17",
          "1995-07-24",
          "1995-06-26",
          "1995-05-24",
          "1995-04-07",
          "1995-03-23",
          "1995-03-12",
          "1995-03-04",
          "1995-01-01",
          "1994-12-05"
         ],
         "type": "scatter3d",
         "x": {
          "bdata": "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",
          "dtype": "f8"
         },
         "y": {
          "bdata": "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",
          "dtype": "f8"
         },
         "z": {
          "bdata": "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",
          "dtype": "f8"
         }
        },
        {
         "hoverinfo": "text",
         "marker": {
          "color": "green",
          "opacity": 0.6,
          "size": 3
         },
         "mode": "markers",
         "name": "helio4cast Catalogue",
         "text": [
          "2024-12-17",
          "2024-12-07",
          "2024-11-29",
          "2024-11-14",
          "2024-11-09",
          "2024-11-08",
          "2024-11-08",
          "2024-10-26",
          "2024-10-10",
          "2024-10-07",
          "2024-10-07",
          "2024-10-06",
          "2024-09-17",
          "2024-09-12",
          "2024-09-12",
          "2024-08-31",
          "2024-08-27",
          "2024-08-17",
          "2024-08-12",
          "2024-08-04",
          "2024-08-04",
          "2024-07-24",
          "2024-07-21",
          "2024-07-15",
          "2024-06-15",
          "2024-06-06",
          "2024-05-31",
          "2024-05-30",
          "2024-05-29",
          "2024-05-29",
          "2024-05-17",
          "2024-05-16",
          "2024-05-11",
          "2024-05-11",
          "2024-05-11",
          "2024-05-10",
          "2024-05-10",
          "2024-05-01",
          "2024-04-16",
          "2024-04-08",
          "2024-04-04",
          "2024-03-30",
          "2024-03-24",
          "2024-03-21",
          "2024-03-03",
          "2024-02-25",
          "2024-01-03",
          "2024-01-03",
          "2023-12-29",
          "2023-12-17",
          "2023-12-15",
          "2023-12-04",
          "2023-12-01",
          "2023-12-01",
          "2023-11-14",
          "2023-11-12",
          "2023-11-05",
          "2023-11-05",
          "2023-11-04",
          "2023-10-20",
          "2023-09-28",
          "2023-09-25",
          "2023-09-19",
          "2023-09-18",
          "2023-09-12",
          "2023-08-05",
          "2023-08-02",
          "2023-06-04",
          "2023-05-13",
          "2023-05-12",
          "2023-04-24",
          "2023-04-19",
          "2023-03-23",
          "2023-03-15",
          "2023-02-21",
          "2023-02-20",
          "2023-02-01",
          "2023-01-17",
          "2023-01-04",
          "2023-01-04",
          "2022-12-19",
          "2022-11-19",
          "2022-11-07",
          "2022-10-21",
          "2022-09-30",
          "2022-09-14",
          "2022-07-19",
          "2022-07-08",
          "2022-07-07",
          "2022-07-02",
          "2022-06-25",
          "2022-06-06",
          "2022-04-14",
          "2022-04-13",
          "2022-04-09",
          "2022-04-08",
          "2022-03-31",
          "2022-03-13",
          "2022-03-10",
          "2022-02-11",
          "2022-02-10",
          "2022-02-04",
          "2022-02-02",
          "2021-12-27",
          "2021-11-28",
          "2021-11-04",
          "2021-10-31",
          "2021-10-17",
          "2021-10-16",
          "2021-10-12",
          "2021-10-06",
          "2021-10-01",
          "2021-09-27",
          "2021-09-17",
          "2021-09-10",
          "2021-09-10",
          "2021-08-27",
          "2021-08-06",
          "2021-08-03",
          "2021-07-14",
          "2021-07-09",
          "2021-07-05",
          "2021-06-11",
          "2021-05-26",
          "2021-05-12",
          "2021-05-02",
          "2021-04-30",
          "2021-04-25",
          "2021-04-15",
          "2021-04-05",
          "2021-03-26",
          "2021-03-11",
          "2021-02-24",
          "2021-02-16",
          "2020-11-01",
          "2020-10-05",
          "2020-07-24",
          "2020-07-13",
          "2020-06-30",
          "2020-06-26",
          "2020-05-30",
          "2020-04-20",
          "2020-02-18",
          "2020-01-04",
          "2019-11-11",
          "2019-10-29",
          "2019-08-20",
          "2019-05-27",
          "2019-05-14",
          "2019-05-11",
          "2018-09-07",
          "2018-08-25",
          "2018-08-11",
          "2018-07-16",
          "2018-07-10",
          "2018-06-06",
          "2018-03-09",
          "2018-01-19",
          "2017-12-25",
          "2017-11-15",
          "2017-11-14",
          "2017-09-08",
          "2017-09-07",
          "2017-07-16",
          "2017-05-27",
          "2017-04-14",
          "2017-04-09",
          "2017-04-04",
          "2016-10-13",
          "2016-09-14",
          "2016-08-02",
          "2016-07-24",
          "2016-07-20",
          "2016-04-17",
          "2016-04-16",
          "2016-04-14",
          "2016-01-19",
          "2015-12-31",
          "2015-12-20",
          "2015-11-07",
          "2015-10-25",
          "2015-10-06",
          "2015-09-07",
          "2015-06-23",
          "2015-05-10",
          "2015-05-08",
          "2015-05-06",
          "2015-04-09",
          "2015-03-31",
          "2015-03-28",
          "2015-01-07",
          "2014-09-12",
          "2014-08-27",
          "2014-08-19",
          "2014-07-03",
          "2014-06-29",
          "2014-06-22",
          "2014-06-08",
          "2014-04-29",
          "2014-04-21",
          "2014-04-11",
          "2014-04-05",
          "2014-02-19",
          "2014-02-18",
          "2014-02-16",
          "2014-02-06",
          "2013-12-25",
          "2013-12-15",
          "2013-12-08",
          "2013-12-01",
          "2013-11-23",
          "2013-11-08",
          "2013-10-30",
          "2013-10-03",
          "2013-10-02",
          "2013-09-01",
          "2013-07-12",
          "2013-07-05",
          "2013-06-28",
          "2013-06-06",
          "2013-05-14",
          "2013-04-30",
          "2013-04-14",
          "2013-03-17",
          "2013-01-19",
          "2013-01-19",
          "2013-01-17",
          "2012-11-24",
          "2012-11-13",
          "2012-10-31",
          "2012-10-12",
          "2012-10-08",
          "2012-09-30",
          "2012-09-12",
          "2012-09-06",
          "2012-09-05",
          "2012-09-01",
          "2012-08-30",
          "2012-08-18",
          "2012-08-12",
          "2012-07-15",
          "2012-07-08",
          "2012-06-16",
          "2012-06-11",
          "2012-05-16",
          "2012-05-04",
          "2012-04-23",
          "2012-04-11",
          "2012-04-05",
          "2012-03-15",
          "2012-03-12",
          "2012-03-08",
          "2012-02-27",
          "2012-02-14",
          "2012-01-25",
          "2012-01-22",
          "2012-01-21",
          "2011-11-29",
          "2011-11-11",
          "2011-11-07",
          "2011-11-04",
          "2011-11-02",
          "2011-11-01",
          "2011-10-25",
          "2011-10-05",
          "2011-09-17",
          "2011-09-09",
          "2011-07-03",
          "2011-06-30",
          "2011-06-17",
          "2011-06-05",
          "2011-05-28",
          "2011-04-29",
          "2011-04-23",
          "2011-03-29",
          "2011-02-18",
          "2011-02-18",
          "2011-02-04",
          "2011-01-24",
          "2010-12-19",
          "2010-10-31",
          "2010-10-30",
          "2010-10-11",
          "2010-09-25",
          "2010-09-15",
          "2010-08-04",
          "2010-06-21",
          "2010-05-28",
          "2010-05-18",
          "2010-04-11",
          "2010-04-05",
          "2010-03-23",
          "2010-02-07",
          "2010-01-02",
          "2009-12-12",
          "2009-11-14",
          "2009-11-01",
          "2009-10-29",
          "2009-09-30",
          "2009-09-10",
          "2009-07-21",
          "2009-06-27",
          "2009-06-03",
          "2009-04-22",
          "2009-04-05",
          "2009-03-12",
          "2009-02-04",
          "2009-01-26",
          "2009-01-02",
          "2008-12-17",
          "2008-12-04",
          "2008-09-17",
          "2008-09-03",
          "2008-05-23",
          "2007-12-25",
          "2007-11-20",
          "2007-06-08",
          "2007-05-21",
          "2007-03-29",
          "2007-01-15",
          "2007-01-14",
          "2006-12-17",
          "2006-12-14",
          "2006-11-29",
          "2006-11-18",
          "2006-11-01",
          "2006-09-30",
          "2006-08-30",
          "2006-08-20",
          "2006-07-10",
          "2006-06-14",
          "2006-04-14",
          "2006-04-13",
          "2006-02-05",
          "2005-10-31",
          "2005-08-10",
          "2005-07-17",
          "2005-07-10",
          "2005-06-15",
          "2005-06-12",
          "2005-05-20",
          "2005-05-15",
          "2005-02-20",
          "2005-02-18",
          "2005-02-16",
          "2005-01-21",
          "2005-01-19",
          "2005-01-16",
          "2005-01-08",
          "2005-01-07",
          "2004-12-10",
          "2004-11-12",
          "2004-11-09",
          "2004-11-07",
          "2004-09-18",
          "2004-09-14",
          "2004-08-29",
          "2004-07-27",
          "2004-07-25",
          "2004-07-24",
          "2004-07-22",
          "2004-04-04",
          "2004-01-10",
          "2003-11-20",
          "2003-10-31",
          "2003-10-29",
          "2003-10-22",
          "2003-08-05",
          "2003-06-17",
          "2003-05-09",
          "2003-03-20",
          "2003-02-02",
          "2003-01-27",
          "2002-12-21",
          "2002-11-17",
          "2002-09-30",
          "2002-09-03",
          "2002-08-26",
          "2002-08-19",
          "2002-08-02",
          "2002-08-01",
          "2002-05-23",
          "2002-05-20",
          "2002-05-19",
          "2002-05-11",
          "2002-05-10",
          "2002-04-24",
          "2002-04-20",
          "2002-04-17",
          "2002-04-14",
          "2002-03-24",
          "2002-03-19",
          "2002-02-28",
          "2001-12-30",
          "2001-12-30",
          "2001-11-24",
          "2001-10-31",
          "2001-10-29",
          "2001-10-22",
          "2001-09-30",
          "2001-09-29",
          "2001-09-26",
          "2001-08-17",
          "2001-08-06",
          "2001-06-27",
          "2001-05-28",
          "2001-04-28",
          "2001-04-22",
          "2001-04-13",
          "2001-04-11",
          "2001-04-04",
          "2001-03-27",
          "2001-03-20",
          "2001-03-19",
          "2001-03-04",
          "2001-01-24",
          "2000-12-03",
          "2000-11-27",
          "2000-11-11",
          "2000-11-10",
          "2000-11-06",
          "2000-10-28",
          "2000-10-13",
          "2000-10-05",
          "2000-10-03",
          "2000-09-18",
          "2000-09-07",
          "2000-09-04",
          "2000-09-02",
          "2000-08-12",
          "2000-08-10",
          "2000-07-31",
          "2000-07-28",
          "2000-07-19",
          "2000-07-15",
          "2000-07-15",
          "2000-07-13",
          "2000-07-11",
          "2000-07-01",
          "2000-06-24",
          "2000-06-08",
          "2000-05-07",
          "2000-03-28",
          "2000-03-01",
          "2000-02-21",
          "2000-02-14",
          "2000-02-12",
          "1999-12-12",
          "1999-10-21",
          "1999-09-22",
          "1999-09-21",
          "1999-09-15",
          "1999-08-09",
          "1999-08-06",
          "1999-07-31",
          "1999-07-06",
          "1999-07-03",
          "1999-06-26",
          "1999-05-28",
          "1999-04-16",
          "1999-02-18",
          "1999-02-11",
          "1999-01-22",
          "1998-11-09",
          "1998-11-08",
          "1998-10-23",
          "1998-10-19",
          "1998-09-25",
          "1998-09-23",
          "1998-08-26",
          "1998-08-20",
          "1998-08-10",
          "1998-07-10",
          "1998-06-24",
          "1998-06-13",
          "1998-06-02",
          "1998-05-04",
          "1998-05-02",
          "1998-04-08",
          "1998-04-01",
          "1998-03-31",
          "1998-03-25",
          "1998-03-06",
          "1998-03-04",
          "1998-02-18",
          "1998-02-17",
          "1998-02-04",
          "1998-02-02",
          "1998-01-29",
          "1998-01-21",
          "1998-01-09",
          "1998-01-08",
          "1998-01-07",
          "1997-12-30",
          "1997-12-10",
          "1997-11-22",
          "1997-11-07",
          "1997-10-10",
          "1997-10-01",
          "1997-09-21",
          "1997-09-18",
          "1997-09-03",
          "1997-08-17",
          "1997-08-03",
          "1997-07-15",
          "1997-06-19",
          "1997-06-09",
          "1997-05-26",
          "1997-05-16",
          "1997-05-15",
          "1997-04-21",
          "1997-04-11",
          "1997-02-10",
          "1997-01-10",
          "1996-12-24",
          "1996-08-07",
          "1996-07-02",
          "1996-07-01",
          "1996-05-27",
          "1996-05-17",
          "1996-04-04",
          "1996-02-15",
          "1995-12-16",
          "1995-10-18",
          "1995-09-27",
          "1995-08-22",
          "1995-06-30",
          "1995-05-13",
          "1995-04-05",
          "1995-04-03",
          "1995-03-06",
          "1995-03-04",
          "1995-02-08"
         ],
         "type": "scatter3d",
         "x": {
          "bdata": "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",
          "dtype": "f8"
         },
         "y": {
          "bdata": "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",
          "dtype": "f8"
         },
         "z": {
          "bdata": "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",
          "dtype": "f8"
         }
        },
        {
         "hoverinfo": "text",
         "marker": {
          "color": "blue",
          "line": {
           "color": "black",
           "width": 2
          },
          "size": 10
         },
         "mode": "markers+text",
         "name": "Earth",
         "text": [
          "Earth"
         ],
         "textposition": "top center",
         "type": "scatter3d",
         "x": [
          0
         ],
         "y": [
          0
         ],
         "z": [
          0
         ]
        },
        {
         "hoverinfo": "text",
         "marker": {
          "color": "red",
          "line": {
           "color": "black",
           "width": 1
          },
          "size": 5
         },
         "mode": "markers+text",
         "name": "L1",
         "text": [
          "L1"
         ],
         "textposition": "top center",
         "type": "scatter3d",
         "x": [
          238
         ],
         "y": [
          0
         ],
         "z": [
          0
         ]
        }
       ],
       "layout": {
        "height": 600,
        "legend": {
         "x": 0.8,
         "y": 0.9
        },
        "margin": {
         "b": 0,
         "l": 0,
         "r": 0,
         "t": 50
        },
        "scene": {
         "xaxis": {
          "range": [
           -226.06464799240445,
           266
          ],
          "title": {
           "text": "X [Earth radii]"
          }
         },
         "yaxis": {
          "range": [
           -322.42,
           322.70090010609914
          ],
          "title": {
           "text": "Y [Earth radii]"
          }
         },
         "zaxis": {
          "range": [
           -32.91245623043217,
           44.49
          ],
          "title": {
           "text": "Z [Earth radii]"
          }
         }
        },
        "template": {
         "data": {
          "bar": [
           {
            "error_x": {
             "color": "#2a3f5f"
            },
            "error_y": {
             "color": "#2a3f5f"
            },
            "marker": {
             "line": {
              "color": "#E5ECF6",
              "width": 0.5
             },
             "pattern": {
              "fillmode": "overlay",
              "size": 10,
              "solidity": 0.2
             }
            },
            "type": "bar"
           }
          ],
          "barpolar": [
           {
            "marker": {
             "line": {
              "color": "#E5ECF6",
              "width": 0.5
             },
             "pattern": {
              "fillmode": "overlay",
              "size": 10,
              "solidity": 0.2
             }
            },
            "type": "barpolar"
           }
          ],
          "carpet": [
           {
            "aaxis": {
             "endlinecolor": "#2a3f5f",
             "gridcolor": "white",
             "linecolor": "white",
             "minorgridcolor": "white",
             "startlinecolor": "#2a3f5f"
            },
            "baxis": {
             "endlinecolor": "#2a3f5f",
             "gridcolor": "white",
             "linecolor": "white",
             "minorgridcolor": "white",
             "startlinecolor": "#2a3f5f"
            },
            "type": "carpet"
           }
          ],
          "choropleth": [
           {
            "colorbar": {
             "outlinewidth": 0,
             "ticks": ""
            },
            "type": "choropleth"
           }
          ],
          "contour": [
           {
            "colorbar": {
             "outlinewidth": 0,
             "ticks": ""
            },
            "colorscale": [
             [
              0,
              "#0d0887"
             ],
             [
              0.1111111111111111,
              "#46039f"
             ],
             [
              0.2222222222222222,
              "#7201a8"
             ],
             [
              0.3333333333333333,
              "#9c179e"
             ],
             [
              0.4444444444444444,
              "#bd3786"
             ],
             [
              0.5555555555555556,
              "#d8576b"
             ],
             [
              0.6666666666666666,
              "#ed7953"
             ],
             [
              0.7777777777777778,
              "#fb9f3a"
             ],
             [
              0.8888888888888888,
              "#fdca26"
             ],
             [
              1,
              "#f0f921"
             ]
            ],
            "type": "contour"
           }
          ],
          "contourcarpet": [
           {
            "colorbar": {
             "outlinewidth": 0,
             "ticks": ""
            },
            "type": "contourcarpet"
           }
          ],
          "heatmap": [
           {
            "colorbar": {
             "outlinewidth": 0,
             "ticks": ""
            },
            "colorscale": [
             [
              0,
              "#0d0887"
             ],
             [
              0.1111111111111111,
              "#46039f"
             ],
             [
              0.2222222222222222,
              "#7201a8"
             ],
             [
              0.3333333333333333,
              "#9c179e"
             ],
             [
              0.4444444444444444,
              "#bd3786"
             ],
             [
              0.5555555555555556,
              "#d8576b"
             ],
             [
              0.6666666666666666,
              "#ed7953"
             ],
             [
              0.7777777777777778,
              "#fb9f3a"
             ],
             [
              0.8888888888888888,
              "#fdca26"
             ],
             [
              1,
              "#f0f921"
             ]
            ],
            "type": "heatmap"
           }
          ],
          "histogram": [
           {
            "marker": {
             "pattern": {
              "fillmode": "overlay",
              "size": 10,
              "solidity": 0.2
             }
            },
            "type": "histogram"
           }
          ],
          "histogram2d": [
           {
            "colorbar": {
             "outlinewidth": 0,
             "ticks": ""
            },
            "colorscale": [
             [
              0,
              "#0d0887"
             ],
             [
              0.1111111111111111,
              "#46039f"
             ],
             [
              0.2222222222222222,
              "#7201a8"
             ],
             [
              0.3333333333333333,
              "#9c179e"
             ],
             [
              0.4444444444444444,
              "#bd3786"
             ],
             [
              0.5555555555555556,
              "#d8576b"
             ],
             [
              0.6666666666666666,
              "#ed7953"
             ],
             [
              0.7777777777777778,
              "#fb9f3a"
             ],
             [
              0.8888888888888888,
              "#fdca26"
             ],
             [
              1,
              "#f0f921"
             ]
            ],
            "type": "histogram2d"
           }
          ],
          "histogram2dcontour": [
           {
            "colorbar": {
             "outlinewidth": 0,
             "ticks": ""
            },
            "colorscale": [
             [
              0,
              "#0d0887"
             ],
             [
              0.1111111111111111,
              "#46039f"
             ],
             [
              0.2222222222222222,
              "#7201a8"
             ],
             [
              0.3333333333333333,
              "#9c179e"
             ],
             [
              0.4444444444444444,
              "#bd3786"
             ],
             [
              0.5555555555555556,
              "#d8576b"
             ],
             [
              0.6666666666666666,
              "#ed7953"
             ],
             [
              0.7777777777777778,
              "#fb9f3a"
             ],
             [
              0.8888888888888888,
              "#fdca26"
             ],
             [
              1,
              "#f0f921"
             ]
            ],
            "type": "histogram2dcontour"
           }
          ],
          "mesh3d": [
           {
            "colorbar": {
             "outlinewidth": 0,
             "ticks": ""
            },
            "type": "mesh3d"
           }
          ],
          "parcoords": [
           {
            "line": {
             "colorbar": {
              "outlinewidth": 0,
              "ticks": ""
             }
            },
            "type": "parcoords"
           }
          ],
          "pie": [
           {
            "automargin": true,
            "type": "pie"
           }
          ],
          "scatter": [
           {
            "fillpattern": {
             "fillmode": "overlay",
             "size": 10,
             "solidity": 0.2
            },
            "type": "scatter"
           }
          ],
          "scatter3d": [
           {
            "line": {
             "colorbar": {
              "outlinewidth": 0,
              "ticks": ""
             }
            },
            "marker": {
             "colorbar": {
              "outlinewidth": 0,
              "ticks": ""
             }
            },
            "type": "scatter3d"
           }
          ],
          "scattercarpet": [
           {
            "marker": {
             "colorbar": {
              "outlinewidth": 0,
              "ticks": ""
             }
            },
            "type": "scattercarpet"
           }
          ],
          "scattergeo": [
           {
            "marker": {
             "colorbar": {
              "outlinewidth": 0,
              "ticks": ""
             }
            },
            "type": "scattergeo"
           }
          ],
          "scattergl": [
           {
            "marker": {
             "colorbar": {
              "outlinewidth": 0,
              "ticks": ""
             }
            },
            "type": "scattergl"
           }
          ],
          "scattermap": [
           {
            "marker": {
             "colorbar": {
              "outlinewidth": 0,
              "ticks": ""
             }
            },
            "type": "scattermap"
           }
          ],
          "scattermapbox": [
           {
            "marker": {
             "colorbar": {
              "outlinewidth": 0,
              "ticks": ""
             }
            },
            "type": "scattermapbox"
           }
          ],
          "scatterpolar": [
           {
            "marker": {
             "colorbar": {
              "outlinewidth": 0,
              "ticks": ""
             }
            },
            "type": "scatterpolar"
           }
          ],
          "scatterpolargl": [
           {
            "marker": {
             "colorbar": {
              "outlinewidth": 0,
              "ticks": ""
             }
            },
            "type": "scatterpolargl"
           }
          ],
          "scatterternary": [
           {
            "marker": {
             "colorbar": {
              "outlinewidth": 0,
              "ticks": ""
             }
            },
            "type": "scatterternary"
           }
          ],
          "surface": [
           {
            "colorbar": {
             "outlinewidth": 0,
             "ticks": ""
            },
            "colorscale": [
             [
              0,
              "#0d0887"
             ],
             [
              0.1111111111111111,
              "#46039f"
             ],
             [
              0.2222222222222222,
              "#7201a8"
             ],
             [
              0.3333333333333333,
              "#9c179e"
             ],
             [
              0.4444444444444444,
              "#bd3786"
             ],
             [
              0.5555555555555556,
              "#d8576b"
             ],
             [
              0.6666666666666666,
              "#ed7953"
             ],
             [
              0.7777777777777778,
              "#fb9f3a"
             ],
             [
              0.8888888888888888,
              "#fdca26"
             ],
             [
              1,
              "#f0f921"
             ]
            ],
            "type": "surface"
           }
          ],
          "table": [
           {
            "cells": {
             "fill": {
              "color": "#EBF0F8"
             },
             "line": {
              "color": "white"
             }
            },
            "header": {
             "fill": {
              "color": "#C8D4E3"
             },
             "line": {
              "color": "white"
             }
            },
            "type": "table"
           }
          ]
         },
         "layout": {
          "annotationdefaults": {
           "arrowcolor": "#2a3f5f",
           "arrowhead": 0,
           "arrowwidth": 1
          },
          "autotypenumbers": "strict",
          "coloraxis": {
           "colorbar": {
            "outlinewidth": 0,
            "ticks": ""
           }
          },
          "colorscale": {
           "diverging": [
            [
             0,
             "#8e0152"
            ],
            [
             0.1,
             "#c51b7d"
            ],
            [
             0.2,
             "#de77ae"
            ],
            [
             0.3,
             "#f1b6da"
            ],
            [
             0.4,
             "#fde0ef"
            ],
            [
             0.5,
             "#f7f7f7"
            ],
            [
             0.6,
             "#e6f5d0"
            ],
            [
             0.7,
             "#b8e186"
            ],
            [
             0.8,
             "#7fbc41"
            ],
            [
             0.9,
             "#4d9221"
            ],
            [
             1,
             "#276419"
            ]
           ],
           "sequential": [
            [
             0,
             "#0d0887"
            ],
            [
             0.1111111111111111,
             "#46039f"
            ],
            [
             0.2222222222222222,
             "#7201a8"
            ],
            [
             0.3333333333333333,
             "#9c179e"
            ],
            [
             0.4444444444444444,
             "#bd3786"
            ],
            [
             0.5555555555555556,
             "#d8576b"
            ],
            [
             0.6666666666666666,
             "#ed7953"
            ],
            [
             0.7777777777777778,
             "#fb9f3a"
            ],
            [
             0.8888888888888888,
             "#fdca26"
            ],
            [
             1,
             "#f0f921"
            ]
           ],
           "sequentialminus": [
            [
             0,
             "#0d0887"
            ],
            [
             0.1111111111111111,
             "#46039f"
            ],
            [
             0.2222222222222222,
             "#7201a8"
            ],
            [
             0.3333333333333333,
             "#9c179e"
            ],
            [
             0.4444444444444444,
             "#bd3786"
            ],
            [
             0.5555555555555556,
             "#d8576b"
            ],
            [
             0.6666666666666666,
             "#ed7953"
            ],
            [
             0.7777777777777778,
             "#fb9f3a"
            ],
            [
             0.8888888888888888,
             "#fdca26"
            ],
            [
             1,
             "#f0f921"
            ]
           ]
          },
          "colorway": [
           "#636efa",
           "#EF553B",
           "#00cc96",
           "#ab63fa",
           "#FFA15A",
           "#19d3f3",
           "#FF6692",
           "#B6E880",
           "#FF97FF",
           "#FECB52"
          ],
          "font": {
           "color": "#2a3f5f"
          },
          "geo": {
           "bgcolor": "white",
           "lakecolor": "white",
           "landcolor": "#E5ECF6",
           "showlakes": true,
           "showland": true,
           "subunitcolor": "white"
          },
          "hoverlabel": {
           "align": "left"
          },
          "hovermode": "closest",
          "mapbox": {
           "style": "light"
          },
          "paper_bgcolor": "white",
          "plot_bgcolor": "#E5ECF6",
          "polar": {
           "angularaxis": {
            "gridcolor": "white",
            "linecolor": "white",
            "ticks": ""
           },
           "bgcolor": "#E5ECF6",
           "radialaxis": {
            "gridcolor": "white",
            "linecolor": "white",
            "ticks": ""
           }
          },
          "scene": {
           "xaxis": {
            "backgroundcolor": "#E5ECF6",
            "gridcolor": "white",
            "gridwidth": 2,
            "linecolor": "white",
            "showbackground": true,
            "ticks": "",
            "zerolinecolor": "white"
           },
           "yaxis": {
            "backgroundcolor": "#E5ECF6",
            "gridcolor": "white",
            "gridwidth": 2,
            "linecolor": "white",
            "showbackground": true,
            "ticks": "",
            "zerolinecolor": "white"
           },
           "zaxis": {
            "backgroundcolor": "#E5ECF6",
            "gridcolor": "white",
            "gridwidth": 2,
            "linecolor": "white",
            "showbackground": true,
            "ticks": "",
            "zerolinecolor": "white"
           }
          },
          "shapedefaults": {
           "line": {
            "color": "#2a3f5f"
           }
          },
          "ternary": {
           "aaxis": {
            "gridcolor": "white",
            "linecolor": "white",
            "ticks": ""
           },
           "baxis": {
            "gridcolor": "white",
            "linecolor": "white",
            "ticks": ""
           },
           "bgcolor": "#E5ECF6",
           "caxis": {
            "gridcolor": "white",
            "linecolor": "white",
            "ticks": ""
           }
          },
          "title": {
           "x": 0.05
          },
          "xaxis": {
           "automargin": true,
           "gridcolor": "white",
           "linecolor": "white",
           "ticks": "",
           "title": {
            "standoff": 15
           },
           "zerolinecolor": "white",
           "zerolinewidth": 2
          },
          "yaxis": {
           "automargin": true,
           "gridcolor": "white",
           "linecolor": "white",
           "ticks": "",
           "title": {
            "standoff": 15
           },
           "zerolinecolor": "white",
           "zerolinewidth": 2
          }
         }
        },
        "title": {
         "text": "Wind Spacecraft in GSE Coordinates"
        },
        "width": 800
       }
      }
     },
     "metadata": {},
     "output_type": "display_data"
    }
   ],
   "source": [
    "GSE_sc_plot(Wind_Shock, Wind_helios, 'Wind Spacecraft in GSE Coordinates')"
   ]
  }
 ],
 "metadata": {
  "kernelspec": {
   "display_name": "mt_env",
   "language": "python",
   "name": "python3"
  },
  "language_info": {
   "codemirror_mode": {
    "name": "ipython",
    "version": 3
   },
   "file_extension": ".py",
   "mimetype": "text/x-python",
   "name": "python",
   "nbconvert_exporter": "python",
   "pygments_lexer": "ipython3",
   "version": "3.11.11"
  }
 },
 "nbformat": 4,
 "nbformat_minor": 5
}
