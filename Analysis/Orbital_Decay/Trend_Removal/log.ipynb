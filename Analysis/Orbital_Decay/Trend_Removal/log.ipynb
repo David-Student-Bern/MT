{
 "cells": [
  {
   "cell_type": "markdown",
   "id": "a4edf333",
   "metadata": {},
   "source": [
    "# Question: What needs removal and why?\n",
    "\n",
    "- trend?\n",
    "- yearly period\n",
    "- monthly period"
   ]
  },
  {
   "cell_type": "markdown",
   "id": "ce3e8a6d",
   "metadata": {},
   "source": [
    "# Data\n",
    "\n",
    "![Data with Comments](/home/dschwarz/Documents/MT/Analysis/Orbital_Decay/plots/lombscargle_with_comments.png)"
   ]
  },
  {
   "cell_type": "markdown",
   "id": "c6bbddfa",
   "metadata": {},
   "source": [
    "# Looking at Subsets\n",
    "\n",
    "Idea: Maybe we can not find narrow periods over the whole dataset but within certain windows.\n",
    "\n",
    "### January 23 to May 23\n",
    "there are two trends in the data: a period of 23.53-26.67 days and a period of 5.06 days\n",
    "\n",
    "![Subset Jan 23 May 23](/home/dschwarz/Documents/MT/Analysis/Orbital_Decay/plots/lombscargle_subset_2.png)\n",
    "\n",
    "### May 23 to October 23\n",
    "there is a very strong trend with a period of 4.82 days.\n",
    "\n",
    "![Subset May 23 to OCt 23](/home/dschwarz/Documents/MT/Analysis/Orbital_Decay/plots/lombscargle_subset_1.png)\n",
    "\n",
    "### October 23 to March 24\n",
    "there are two trends in the data: a period of 23.53-26.67 days and a period of 4.60 days\n",
    "\n",
    "![Subset Nov 23 to Mar 24](/home/dschwarz/Documents/MT/Analysis/Orbital_Decay/plots/lombscargle_subset_3.png)\n",
    "\n",
    "### March 24 to mid June 24\n",
    "there are two trends in the data: a period of 26.67 days and a period of 4.30 days\n",
    "\n",
    "![Subset Nov 23 to Mar 24](/home/dschwarz/Documents/MT/Analysis/Orbital_Decay/plots/lombscargle_subset_4.png)\n",
    "\n",
    "### Summary\n",
    "\n",
    "- There seems to be an ideal window length of 4-5 months for finding strong periods in the data.\n",
    "- If we want to model the periodic variations of the decay rate we have to take into account the\n",
    "    - variation in the period (from 5.06 days to 4.30 days for the faster period)\n",
    "    - width of the period (around 3 days for the longer period)\n",
    "    - change in amplitude of the periodic signal (long period completely vanishes between May and October 23)"
   ]
  },
  {
   "cell_type": "markdown",
   "id": "0e5adb19",
   "metadata": {},
   "source": [
    "# Why is it important to remove these trends from the data\n",
    "\n",
    "Machine learing models assume stationary data <-> mean, variance, covariance do not change over time.\n",
    "\n",
    "--> model might find correlations where there are none if the data is not detrended\n",
    "\n"
   ]
  }
 ],
 "metadata": {
  "language_info": {
   "name": "python"
  }
 },
 "nbformat": 4,
 "nbformat_minor": 5
}
